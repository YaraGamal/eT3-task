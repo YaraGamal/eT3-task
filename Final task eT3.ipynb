{
 "cells": [
  {
   "cell_type": "code",
   "execution_count": 31,
   "id": "68720ece",
   "metadata": {},
   "outputs": [],
   "source": [
    "import pandas as pd"
   ]
  },
  {
   "cell_type": "code",
   "execution_count": 32,
   "id": "925035cf",
   "metadata": {},
   "outputs": [
    {
     "data": {
      "text/html": [
       "<div>\n",
       "<style scoped>\n",
       "    .dataframe tbody tr th:only-of-type {\n",
       "        vertical-align: middle;\n",
       "    }\n",
       "\n",
       "    .dataframe tbody tr th {\n",
       "        vertical-align: top;\n",
       "    }\n",
       "\n",
       "    .dataframe thead th {\n",
       "        text-align: right;\n",
       "    }\n",
       "</style>\n",
       "<table border=\"1\" class=\"dataframe\">\n",
       "  <thead>\n",
       "    <tr style=\"text-align: right;\">\n",
       "      <th></th>\n",
       "      <th>Beverage_category</th>\n",
       "      <th>Beverage</th>\n",
       "      <th>Beverage_prep</th>\n",
       "      <th>Calories</th>\n",
       "      <th>Total Fat (g)</th>\n",
       "      <th>Trans Fat (g)</th>\n",
       "      <th>Saturated Fat (g)</th>\n",
       "      <th>Sodium (mg)</th>\n",
       "      <th>Total Carbohydrates (g)</th>\n",
       "      <th>Cholesterol (mg)</th>\n",
       "      <th>Dietary Fibre (g)</th>\n",
       "      <th>Sugars (g)</th>\n",
       "      <th>Protein (g)</th>\n",
       "      <th>Vitamin A (% DV)</th>\n",
       "      <th>Vitamin C (% DV)</th>\n",
       "      <th>Calcium (% DV)</th>\n",
       "      <th>Iron (% DV)</th>\n",
       "      <th>Caffeine (mg)</th>\n",
       "    </tr>\n",
       "  </thead>\n",
       "  <tbody>\n",
       "    <tr>\n",
       "      <th>0</th>\n",
       "      <td>Coffee</td>\n",
       "      <td>Brewed Coffee</td>\n",
       "      <td>Short</td>\n",
       "      <td>3</td>\n",
       "      <td>0.1</td>\n",
       "      <td>0.0</td>\n",
       "      <td>0.0</td>\n",
       "      <td>0</td>\n",
       "      <td>5</td>\n",
       "      <td>0</td>\n",
       "      <td>0</td>\n",
       "      <td>0</td>\n",
       "      <td>0.3</td>\n",
       "      <td>0%</td>\n",
       "      <td>0%</td>\n",
       "      <td>0%</td>\n",
       "      <td>0%</td>\n",
       "      <td>175</td>\n",
       "    </tr>\n",
       "    <tr>\n",
       "      <th>1</th>\n",
       "      <td>Coffee</td>\n",
       "      <td>Brewed Coffee</td>\n",
       "      <td>Tall</td>\n",
       "      <td>4</td>\n",
       "      <td>0.1</td>\n",
       "      <td>0.0</td>\n",
       "      <td>0.0</td>\n",
       "      <td>0</td>\n",
       "      <td>10</td>\n",
       "      <td>0</td>\n",
       "      <td>0</td>\n",
       "      <td>0</td>\n",
       "      <td>0.5</td>\n",
       "      <td>0%</td>\n",
       "      <td>0%</td>\n",
       "      <td>0%</td>\n",
       "      <td>0%</td>\n",
       "      <td>260</td>\n",
       "    </tr>\n",
       "    <tr>\n",
       "      <th>2</th>\n",
       "      <td>Coffee</td>\n",
       "      <td>Brewed Coffee</td>\n",
       "      <td>Grande</td>\n",
       "      <td>5</td>\n",
       "      <td>0.1</td>\n",
       "      <td>0.0</td>\n",
       "      <td>0.0</td>\n",
       "      <td>0</td>\n",
       "      <td>10</td>\n",
       "      <td>0</td>\n",
       "      <td>0</td>\n",
       "      <td>0</td>\n",
       "      <td>1.0</td>\n",
       "      <td>0%</td>\n",
       "      <td>0%</td>\n",
       "      <td>0%</td>\n",
       "      <td>0%</td>\n",
       "      <td>330</td>\n",
       "    </tr>\n",
       "    <tr>\n",
       "      <th>3</th>\n",
       "      <td>Coffee</td>\n",
       "      <td>Brewed Coffee</td>\n",
       "      <td>Venti</td>\n",
       "      <td>5</td>\n",
       "      <td>0.1</td>\n",
       "      <td>0.0</td>\n",
       "      <td>0.0</td>\n",
       "      <td>0</td>\n",
       "      <td>10</td>\n",
       "      <td>0</td>\n",
       "      <td>0</td>\n",
       "      <td>0</td>\n",
       "      <td>1.0</td>\n",
       "      <td>0%</td>\n",
       "      <td>0%</td>\n",
       "      <td>2%</td>\n",
       "      <td>0%</td>\n",
       "      <td>410</td>\n",
       "    </tr>\n",
       "    <tr>\n",
       "      <th>4</th>\n",
       "      <td>Classic Espresso Drinks</td>\n",
       "      <td>Caffè Latte</td>\n",
       "      <td>Short Nonfat Milk</td>\n",
       "      <td>70</td>\n",
       "      <td>0.1</td>\n",
       "      <td>0.1</td>\n",
       "      <td>0.0</td>\n",
       "      <td>5</td>\n",
       "      <td>75</td>\n",
       "      <td>10</td>\n",
       "      <td>0</td>\n",
       "      <td>9</td>\n",
       "      <td>6.0</td>\n",
       "      <td>10%</td>\n",
       "      <td>0%</td>\n",
       "      <td>20%</td>\n",
       "      <td>0%</td>\n",
       "      <td>75</td>\n",
       "    </tr>\n",
       "    <tr>\n",
       "      <th>5</th>\n",
       "      <td>Classic Espresso Drinks</td>\n",
       "      <td>Caffè Latte</td>\n",
       "      <td>2% Milk</td>\n",
       "      <td>100</td>\n",
       "      <td>3.5</td>\n",
       "      <td>2.0</td>\n",
       "      <td>0.1</td>\n",
       "      <td>15</td>\n",
       "      <td>85</td>\n",
       "      <td>10</td>\n",
       "      <td>0</td>\n",
       "      <td>9</td>\n",
       "      <td>6.0</td>\n",
       "      <td>10%</td>\n",
       "      <td>0%</td>\n",
       "      <td>20%</td>\n",
       "      <td>0%</td>\n",
       "      <td>75</td>\n",
       "    </tr>\n",
       "    <tr>\n",
       "      <th>6</th>\n",
       "      <td>Classic Espresso Drinks</td>\n",
       "      <td>Caffè Latte</td>\n",
       "      <td>Soymilk</td>\n",
       "      <td>70</td>\n",
       "      <td>2.5</td>\n",
       "      <td>0.4</td>\n",
       "      <td>0.0</td>\n",
       "      <td>0</td>\n",
       "      <td>65</td>\n",
       "      <td>6</td>\n",
       "      <td>1</td>\n",
       "      <td>4</td>\n",
       "      <td>5.0</td>\n",
       "      <td>6%</td>\n",
       "      <td>0%</td>\n",
       "      <td>20%</td>\n",
       "      <td>8%</td>\n",
       "      <td>75</td>\n",
       "    </tr>\n",
       "    <tr>\n",
       "      <th>7</th>\n",
       "      <td>Classic Espresso Drinks</td>\n",
       "      <td>Caffè Latte</td>\n",
       "      <td>Tall Nonfat Milk</td>\n",
       "      <td>100</td>\n",
       "      <td>0.2</td>\n",
       "      <td>0.2</td>\n",
       "      <td>0.0</td>\n",
       "      <td>5</td>\n",
       "      <td>120</td>\n",
       "      <td>15</td>\n",
       "      <td>0</td>\n",
       "      <td>14</td>\n",
       "      <td>10.0</td>\n",
       "      <td>15%</td>\n",
       "      <td>0%</td>\n",
       "      <td>30%</td>\n",
       "      <td>0%</td>\n",
       "      <td>75</td>\n",
       "    </tr>\n",
       "    <tr>\n",
       "      <th>8</th>\n",
       "      <td>Classic Espresso Drinks</td>\n",
       "      <td>Caffè Latte</td>\n",
       "      <td>2% Milk</td>\n",
       "      <td>150</td>\n",
       "      <td>6</td>\n",
       "      <td>3.0</td>\n",
       "      <td>0.2</td>\n",
       "      <td>25</td>\n",
       "      <td>135</td>\n",
       "      <td>15</td>\n",
       "      <td>0</td>\n",
       "      <td>14</td>\n",
       "      <td>10.0</td>\n",
       "      <td>15%</td>\n",
       "      <td>0%</td>\n",
       "      <td>30%</td>\n",
       "      <td>0%</td>\n",
       "      <td>75</td>\n",
       "    </tr>\n",
       "    <tr>\n",
       "      <th>9</th>\n",
       "      <td>Classic Espresso Drinks</td>\n",
       "      <td>Caffè Latte</td>\n",
       "      <td>Soymilk</td>\n",
       "      <td>110</td>\n",
       "      <td>4.5</td>\n",
       "      <td>0.5</td>\n",
       "      <td>0.0</td>\n",
       "      <td>0</td>\n",
       "      <td>105</td>\n",
       "      <td>10</td>\n",
       "      <td>1</td>\n",
       "      <td>6</td>\n",
       "      <td>8.0</td>\n",
       "      <td>10%</td>\n",
       "      <td>0%</td>\n",
       "      <td>30%</td>\n",
       "      <td>15%</td>\n",
       "      <td>75</td>\n",
       "    </tr>\n",
       "    <tr>\n",
       "      <th>10</th>\n",
       "      <td>Classic Espresso Drinks</td>\n",
       "      <td>Caffè Latte</td>\n",
       "      <td>Grande Nonfat Milk</td>\n",
       "      <td>130</td>\n",
       "      <td>0.3</td>\n",
       "      <td>0.2</td>\n",
       "      <td>0.0</td>\n",
       "      <td>5</td>\n",
       "      <td>150</td>\n",
       "      <td>19</td>\n",
       "      <td>0</td>\n",
       "      <td>18</td>\n",
       "      <td>13.0</td>\n",
       "      <td>20%</td>\n",
       "      <td>0%</td>\n",
       "      <td>40%</td>\n",
       "      <td>0%</td>\n",
       "      <td>150</td>\n",
       "    </tr>\n",
       "    <tr>\n",
       "      <th>11</th>\n",
       "      <td>Classic Espresso Drinks</td>\n",
       "      <td>Caffè Latte</td>\n",
       "      <td>2% Milk</td>\n",
       "      <td>190</td>\n",
       "      <td>7</td>\n",
       "      <td>3.5</td>\n",
       "      <td>0.2</td>\n",
       "      <td>30</td>\n",
       "      <td>170</td>\n",
       "      <td>19</td>\n",
       "      <td>0</td>\n",
       "      <td>17</td>\n",
       "      <td>12.0</td>\n",
       "      <td>20%</td>\n",
       "      <td>2%</td>\n",
       "      <td>40%</td>\n",
       "      <td>0%</td>\n",
       "      <td>150</td>\n",
       "    </tr>\n",
       "    <tr>\n",
       "      <th>12</th>\n",
       "      <td>Classic Espresso Drinks</td>\n",
       "      <td>Caffè Latte</td>\n",
       "      <td>Soymilk</td>\n",
       "      <td>150</td>\n",
       "      <td>5</td>\n",
       "      <td>0.5</td>\n",
       "      <td>0.0</td>\n",
       "      <td>0</td>\n",
       "      <td>130</td>\n",
       "      <td>13</td>\n",
       "      <td>1</td>\n",
       "      <td>8</td>\n",
       "      <td>10.0</td>\n",
       "      <td>15%</td>\n",
       "      <td>0%</td>\n",
       "      <td>40%</td>\n",
       "      <td>15%</td>\n",
       "      <td>150</td>\n",
       "    </tr>\n",
       "    <tr>\n",
       "      <th>13</th>\n",
       "      <td>Classic Espresso Drinks</td>\n",
       "      <td>Caffè Latte</td>\n",
       "      <td>Venti Nonfat Milk</td>\n",
       "      <td>170</td>\n",
       "      <td>0.4</td>\n",
       "      <td>0.3</td>\n",
       "      <td>0.0</td>\n",
       "      <td>10</td>\n",
       "      <td>190</td>\n",
       "      <td>25</td>\n",
       "      <td>0</td>\n",
       "      <td>23</td>\n",
       "      <td>16.0</td>\n",
       "      <td>30%</td>\n",
       "      <td>0%</td>\n",
       "      <td>50%</td>\n",
       "      <td>0%</td>\n",
       "      <td>150</td>\n",
       "    </tr>\n",
       "    <tr>\n",
       "      <th>14</th>\n",
       "      <td>Classic Espresso Drinks</td>\n",
       "      <td>Caffè Latte</td>\n",
       "      <td>2% Milk</td>\n",
       "      <td>240</td>\n",
       "      <td>9</td>\n",
       "      <td>4.5</td>\n",
       "      <td>0.3</td>\n",
       "      <td>35</td>\n",
       "      <td>220</td>\n",
       "      <td>24</td>\n",
       "      <td>0</td>\n",
       "      <td>22</td>\n",
       "      <td>16.0</td>\n",
       "      <td>25%</td>\n",
       "      <td>2%</td>\n",
       "      <td>50%</td>\n",
       "      <td>0%</td>\n",
       "      <td>150</td>\n",
       "    </tr>\n",
       "    <tr>\n",
       "      <th>15</th>\n",
       "      <td>Classic Espresso Drinks</td>\n",
       "      <td>Caffè Latte</td>\n",
       "      <td>Soymilk</td>\n",
       "      <td>190</td>\n",
       "      <td>7</td>\n",
       "      <td>1.0</td>\n",
       "      <td>0.0</td>\n",
       "      <td>0</td>\n",
       "      <td>170</td>\n",
       "      <td>16</td>\n",
       "      <td>2</td>\n",
       "      <td>11</td>\n",
       "      <td>13.0</td>\n",
       "      <td>20%</td>\n",
       "      <td>0%</td>\n",
       "      <td>50%</td>\n",
       "      <td>25%</td>\n",
       "      <td>150</td>\n",
       "    </tr>\n",
       "    <tr>\n",
       "      <th>16</th>\n",
       "      <td>Classic Espresso Drinks</td>\n",
       "      <td>Caffè Mocha (Without Whipped Cream)</td>\n",
       "      <td>Short Nonfat Milk</td>\n",
       "      <td>110</td>\n",
       "      <td>1.5</td>\n",
       "      <td>1.0</td>\n",
       "      <td>0.0</td>\n",
       "      <td>5</td>\n",
       "      <td>60</td>\n",
       "      <td>21</td>\n",
       "      <td>1</td>\n",
       "      <td>17</td>\n",
       "      <td>7.0</td>\n",
       "      <td>8%</td>\n",
       "      <td>0%</td>\n",
       "      <td>15%</td>\n",
       "      <td>10%</td>\n",
       "      <td>85</td>\n",
       "    </tr>\n",
       "    <tr>\n",
       "      <th>17</th>\n",
       "      <td>Classic Espresso Drinks</td>\n",
       "      <td>Caffè Mocha (Without Whipped Cream)</td>\n",
       "      <td>2% Milk</td>\n",
       "      <td>130</td>\n",
       "      <td>4</td>\n",
       "      <td>2.0</td>\n",
       "      <td>0.1</td>\n",
       "      <td>10</td>\n",
       "      <td>70</td>\n",
       "      <td>21</td>\n",
       "      <td>1</td>\n",
       "      <td>17</td>\n",
       "      <td>6.0</td>\n",
       "      <td>8%</td>\n",
       "      <td>0%</td>\n",
       "      <td>15%</td>\n",
       "      <td>10%</td>\n",
       "      <td>85</td>\n",
       "    </tr>\n",
       "    <tr>\n",
       "      <th>18</th>\n",
       "      <td>Classic Espresso Drinks</td>\n",
       "      <td>Caffè Mocha (Without Whipped Cream)</td>\n",
       "      <td>Soymilk</td>\n",
       "      <td>110</td>\n",
       "      <td>3.5</td>\n",
       "      <td>1.0</td>\n",
       "      <td>0.0</td>\n",
       "      <td>0</td>\n",
       "      <td>55</td>\n",
       "      <td>19</td>\n",
       "      <td>2</td>\n",
       "      <td>13</td>\n",
       "      <td>6.0</td>\n",
       "      <td>6%</td>\n",
       "      <td>0%</td>\n",
       "      <td>15%</td>\n",
       "      <td>20%</td>\n",
       "      <td>85</td>\n",
       "    </tr>\n",
       "    <tr>\n",
       "      <th>19</th>\n",
       "      <td>Classic Espresso Drinks</td>\n",
       "      <td>Caffè Mocha (Without Whipped Cream)</td>\n",
       "      <td>Tall Nonfat Milk</td>\n",
       "      <td>170</td>\n",
       "      <td>2</td>\n",
       "      <td>1.0</td>\n",
       "      <td>0.0</td>\n",
       "      <td>5</td>\n",
       "      <td>100</td>\n",
       "      <td>32</td>\n",
       "      <td>1</td>\n",
       "      <td>27</td>\n",
       "      <td>10.0</td>\n",
       "      <td>15%</td>\n",
       "      <td>0%</td>\n",
       "      <td>25%</td>\n",
       "      <td>20%</td>\n",
       "      <td>95</td>\n",
       "    </tr>\n",
       "  </tbody>\n",
       "</table>\n",
       "</div>"
      ],
      "text/plain": [
       "          Beverage_category                             Beverage  \\\n",
       "0                    Coffee                        Brewed Coffee   \n",
       "1                    Coffee                        Brewed Coffee   \n",
       "2                    Coffee                        Brewed Coffee   \n",
       "3                    Coffee                        Brewed Coffee   \n",
       "4   Classic Espresso Drinks                          Caffè Latte   \n",
       "5   Classic Espresso Drinks                          Caffè Latte   \n",
       "6   Classic Espresso Drinks                          Caffè Latte   \n",
       "7   Classic Espresso Drinks                          Caffè Latte   \n",
       "8   Classic Espresso Drinks                          Caffè Latte   \n",
       "9   Classic Espresso Drinks                          Caffè Latte   \n",
       "10  Classic Espresso Drinks                          Caffè Latte   \n",
       "11  Classic Espresso Drinks                          Caffè Latte   \n",
       "12  Classic Espresso Drinks                          Caffè Latte   \n",
       "13  Classic Espresso Drinks                          Caffè Latte   \n",
       "14  Classic Espresso Drinks                          Caffè Latte   \n",
       "15  Classic Espresso Drinks                          Caffè Latte   \n",
       "16  Classic Espresso Drinks  Caffè Mocha (Without Whipped Cream)   \n",
       "17  Classic Espresso Drinks  Caffè Mocha (Without Whipped Cream)   \n",
       "18  Classic Espresso Drinks  Caffè Mocha (Without Whipped Cream)   \n",
       "19  Classic Espresso Drinks  Caffè Mocha (Without Whipped Cream)   \n",
       "\n",
       "         Beverage_prep  Calories  Total Fat (g)  Trans Fat (g)   \\\n",
       "0                Short         3            0.1             0.0   \n",
       "1                 Tall         4            0.1             0.0   \n",
       "2               Grande         5            0.1             0.0   \n",
       "3                Venti         5            0.1             0.0   \n",
       "4    Short Nonfat Milk        70            0.1             0.1   \n",
       "5              2% Milk       100            3.5             2.0   \n",
       "6              Soymilk        70            2.5             0.4   \n",
       "7     Tall Nonfat Milk       100            0.2             0.2   \n",
       "8              2% Milk       150              6             3.0   \n",
       "9              Soymilk       110            4.5             0.5   \n",
       "10  Grande Nonfat Milk       130            0.3             0.2   \n",
       "11             2% Milk       190              7             3.5   \n",
       "12             Soymilk       150              5             0.5   \n",
       "13   Venti Nonfat Milk       170            0.4             0.3   \n",
       "14             2% Milk       240              9             4.5   \n",
       "15             Soymilk       190              7             1.0   \n",
       "16   Short Nonfat Milk       110            1.5             1.0   \n",
       "17             2% Milk       130              4             2.0   \n",
       "18             Soymilk       110            3.5             1.0   \n",
       "19    Tall Nonfat Milk       170              2             1.0   \n",
       "\n",
       "    Saturated Fat (g)   Sodium (mg)   Total Carbohydrates (g)   \\\n",
       "0                 0.0             0                          5   \n",
       "1                 0.0             0                         10   \n",
       "2                 0.0             0                         10   \n",
       "3                 0.0             0                         10   \n",
       "4                 0.0             5                         75   \n",
       "5                 0.1            15                         85   \n",
       "6                 0.0             0                         65   \n",
       "7                 0.0             5                        120   \n",
       "8                 0.2            25                        135   \n",
       "9                 0.0             0                        105   \n",
       "10                0.0             5                        150   \n",
       "11                0.2            30                        170   \n",
       "12                0.0             0                        130   \n",
       "13                0.0            10                        190   \n",
       "14                0.3            35                        220   \n",
       "15                0.0             0                        170   \n",
       "16                0.0             5                         60   \n",
       "17                0.1            10                         70   \n",
       "18                0.0             0                         55   \n",
       "19                0.0             5                        100   \n",
       "\n",
       "    Cholesterol (mg)   Dietary Fibre (g)   Sugars (g)   Protein (g)   \\\n",
       "0                  0                   0            0            0.3   \n",
       "1                  0                   0            0            0.5   \n",
       "2                  0                   0            0            1.0   \n",
       "3                  0                   0            0            1.0   \n",
       "4                 10                   0            9            6.0   \n",
       "5                 10                   0            9            6.0   \n",
       "6                  6                   1            4            5.0   \n",
       "7                 15                   0           14           10.0   \n",
       "8                 15                   0           14           10.0   \n",
       "9                 10                   1            6            8.0   \n",
       "10                19                   0           18           13.0   \n",
       "11                19                   0           17           12.0   \n",
       "12                13                   1            8           10.0   \n",
       "13                25                   0           23           16.0   \n",
       "14                24                   0           22           16.0   \n",
       "15                16                   2           11           13.0   \n",
       "16                21                   1           17            7.0   \n",
       "17                21                   1           17            6.0   \n",
       "18                19                   2           13            6.0   \n",
       "19                32                   1           27           10.0   \n",
       "\n",
       "   Vitamin A (% DV)  Vitamin C (% DV)  Calcium (% DV)  Iron (% DV)   \\\n",
       "0                 0%               0%               0%           0%   \n",
       "1                 0%               0%               0%           0%   \n",
       "2                 0%               0%               0%           0%   \n",
       "3                 0%               0%               2%           0%   \n",
       "4                10%               0%              20%           0%   \n",
       "5                10%               0%              20%           0%   \n",
       "6                 6%               0%              20%           8%   \n",
       "7                15%               0%              30%           0%   \n",
       "8                15%               0%              30%           0%   \n",
       "9                10%               0%              30%          15%   \n",
       "10               20%               0%              40%           0%   \n",
       "11               20%               2%              40%           0%   \n",
       "12               15%               0%              40%          15%   \n",
       "13               30%               0%              50%           0%   \n",
       "14               25%               2%              50%           0%   \n",
       "15               20%               0%              50%          25%   \n",
       "16                8%               0%              15%          10%   \n",
       "17                8%               0%              15%          10%   \n",
       "18                6%               0%              15%          20%   \n",
       "19               15%               0%              25%          20%   \n",
       "\n",
       "   Caffeine (mg)  \n",
       "0            175  \n",
       "1            260  \n",
       "2            330  \n",
       "3            410  \n",
       "4             75  \n",
       "5             75  \n",
       "6             75  \n",
       "7             75  \n",
       "8             75  \n",
       "9             75  \n",
       "10           150  \n",
       "11           150  \n",
       "12           150  \n",
       "13           150  \n",
       "14           150  \n",
       "15           150  \n",
       "16            85  \n",
       "17            85  \n",
       "18            85  \n",
       "19            95  "
      ]
     },
     "execution_count": 32,
     "metadata": {},
     "output_type": "execute_result"
    }
   ],
   "source": [
    "#first, importing the dataset \n",
    "df = pd.read_csv('drinkMenu.csv')\n",
    "df.head(20)\n"
   ]
  },
  {
   "cell_type": "code",
   "execution_count": 33,
   "id": "fb2e3ce1",
   "metadata": {},
   "outputs": [
    {
     "data": {
      "text/plain": [
       "0      False\n",
       "1      False\n",
       "2      False\n",
       "3      False\n",
       "4      False\n",
       "       ...  \n",
       "237    False\n",
       "238    False\n",
       "239    False\n",
       "240    False\n",
       "241    False\n",
       "Length: 242, dtype: bool"
      ]
     },
     "execution_count": 33,
     "metadata": {},
     "output_type": "execute_result"
    }
   ],
   "source": [
    "#checking the column with duplicated values\n",
    "df.duplicated()\n"
   ]
  },
  {
   "cell_type": "code",
   "execution_count": 34,
   "id": "0fd534b4",
   "metadata": {},
   "outputs": [
    {
     "data": {
      "text/html": [
       "<div>\n",
       "<style scoped>\n",
       "    .dataframe tbody tr th:only-of-type {\n",
       "        vertical-align: middle;\n",
       "    }\n",
       "\n",
       "    .dataframe tbody tr th {\n",
       "        vertical-align: top;\n",
       "    }\n",
       "\n",
       "    .dataframe thead th {\n",
       "        text-align: right;\n",
       "    }\n",
       "</style>\n",
       "<table border=\"1\" class=\"dataframe\">\n",
       "  <thead>\n",
       "    <tr style=\"text-align: right;\">\n",
       "      <th></th>\n",
       "      <th>Beverage_category</th>\n",
       "      <th>Beverage</th>\n",
       "      <th>Beverage_prep</th>\n",
       "      <th>Calories</th>\n",
       "      <th>Total Fat (g)</th>\n",
       "      <th>Trans Fat (g)</th>\n",
       "      <th>Saturated Fat (g)</th>\n",
       "      <th>Sodium (mg)</th>\n",
       "      <th>Total Carbohydrates (g)</th>\n",
       "      <th>Cholesterol (mg)</th>\n",
       "      <th>Dietary Fibre (g)</th>\n",
       "      <th>Sugars (g)</th>\n",
       "      <th>Protein (g)</th>\n",
       "      <th>Vitamin A (% DV)</th>\n",
       "      <th>Vitamin C (% DV)</th>\n",
       "      <th>Calcium (% DV)</th>\n",
       "      <th>Iron (% DV)</th>\n",
       "      <th>Caffeine (mg)</th>\n",
       "    </tr>\n",
       "  </thead>\n",
       "  <tbody>\n",
       "    <tr>\n",
       "      <th>0</th>\n",
       "      <td>Coffee</td>\n",
       "      <td>Brewed Coffee</td>\n",
       "      <td>Short</td>\n",
       "      <td>3</td>\n",
       "      <td>0.1</td>\n",
       "      <td>0.0</td>\n",
       "      <td>0.0</td>\n",
       "      <td>0</td>\n",
       "      <td>5</td>\n",
       "      <td>0</td>\n",
       "      <td>0</td>\n",
       "      <td>0</td>\n",
       "      <td>0.3</td>\n",
       "      <td>0%</td>\n",
       "      <td>0%</td>\n",
       "      <td>0%</td>\n",
       "      <td>0%</td>\n",
       "      <td>175</td>\n",
       "    </tr>\n",
       "    <tr>\n",
       "      <th>1</th>\n",
       "      <td>Coffee</td>\n",
       "      <td>Brewed Coffee</td>\n",
       "      <td>Tall</td>\n",
       "      <td>4</td>\n",
       "      <td>0.1</td>\n",
       "      <td>0.0</td>\n",
       "      <td>0.0</td>\n",
       "      <td>0</td>\n",
       "      <td>10</td>\n",
       "      <td>0</td>\n",
       "      <td>0</td>\n",
       "      <td>0</td>\n",
       "      <td>0.5</td>\n",
       "      <td>0%</td>\n",
       "      <td>0%</td>\n",
       "      <td>0%</td>\n",
       "      <td>0%</td>\n",
       "      <td>260</td>\n",
       "    </tr>\n",
       "    <tr>\n",
       "      <th>2</th>\n",
       "      <td>Coffee</td>\n",
       "      <td>Brewed Coffee</td>\n",
       "      <td>Grande</td>\n",
       "      <td>5</td>\n",
       "      <td>0.1</td>\n",
       "      <td>0.0</td>\n",
       "      <td>0.0</td>\n",
       "      <td>0</td>\n",
       "      <td>10</td>\n",
       "      <td>0</td>\n",
       "      <td>0</td>\n",
       "      <td>0</td>\n",
       "      <td>1.0</td>\n",
       "      <td>0%</td>\n",
       "      <td>0%</td>\n",
       "      <td>0%</td>\n",
       "      <td>0%</td>\n",
       "      <td>330</td>\n",
       "    </tr>\n",
       "    <tr>\n",
       "      <th>3</th>\n",
       "      <td>Coffee</td>\n",
       "      <td>Brewed Coffee</td>\n",
       "      <td>Venti</td>\n",
       "      <td>5</td>\n",
       "      <td>0.1</td>\n",
       "      <td>0.0</td>\n",
       "      <td>0.0</td>\n",
       "      <td>0</td>\n",
       "      <td>10</td>\n",
       "      <td>0</td>\n",
       "      <td>0</td>\n",
       "      <td>0</td>\n",
       "      <td>1.0</td>\n",
       "      <td>0%</td>\n",
       "      <td>0%</td>\n",
       "      <td>2%</td>\n",
       "      <td>0%</td>\n",
       "      <td>410</td>\n",
       "    </tr>\n",
       "    <tr>\n",
       "      <th>4</th>\n",
       "      <td>Classic Espresso Drinks</td>\n",
       "      <td>Caffè Latte</td>\n",
       "      <td>Short Nonfat Milk</td>\n",
       "      <td>70</td>\n",
       "      <td>0.1</td>\n",
       "      <td>0.1</td>\n",
       "      <td>0.0</td>\n",
       "      <td>5</td>\n",
       "      <td>75</td>\n",
       "      <td>10</td>\n",
       "      <td>0</td>\n",
       "      <td>9</td>\n",
       "      <td>6.0</td>\n",
       "      <td>10%</td>\n",
       "      <td>0%</td>\n",
       "      <td>20%</td>\n",
       "      <td>0%</td>\n",
       "      <td>75</td>\n",
       "    </tr>\n",
       "    <tr>\n",
       "      <th>...</th>\n",
       "      <td>...</td>\n",
       "      <td>...</td>\n",
       "      <td>...</td>\n",
       "      <td>...</td>\n",
       "      <td>...</td>\n",
       "      <td>...</td>\n",
       "      <td>...</td>\n",
       "      <td>...</td>\n",
       "      <td>...</td>\n",
       "      <td>...</td>\n",
       "      <td>...</td>\n",
       "      <td>...</td>\n",
       "      <td>...</td>\n",
       "      <td>...</td>\n",
       "      <td>...</td>\n",
       "      <td>...</td>\n",
       "      <td>...</td>\n",
       "      <td>...</td>\n",
       "    </tr>\n",
       "    <tr>\n",
       "      <th>237</th>\n",
       "      <td>Frappuccino® Blended Crème</td>\n",
       "      <td>Strawberries &amp; Crème (Without Whipped Cream)</td>\n",
       "      <td>Soymilk</td>\n",
       "      <td>320</td>\n",
       "      <td>3 2</td>\n",
       "      <td>0.4</td>\n",
       "      <td>0.0</td>\n",
       "      <td>0</td>\n",
       "      <td>250</td>\n",
       "      <td>67</td>\n",
       "      <td>1</td>\n",
       "      <td>64</td>\n",
       "      <td>5.0</td>\n",
       "      <td>6%</td>\n",
       "      <td>8%</td>\n",
       "      <td>20%</td>\n",
       "      <td>10%</td>\n",
       "      <td>0</td>\n",
       "    </tr>\n",
       "    <tr>\n",
       "      <th>238</th>\n",
       "      <td>Frappuccino® Blended Crème</td>\n",
       "      <td>Vanilla Bean (Without Whipped Cream)</td>\n",
       "      <td>Tall Nonfat Milk</td>\n",
       "      <td>170</td>\n",
       "      <td>0.1</td>\n",
       "      <td>0.1</td>\n",
       "      <td>0.0</td>\n",
       "      <td>0</td>\n",
       "      <td>160</td>\n",
       "      <td>39</td>\n",
       "      <td>0</td>\n",
       "      <td>38</td>\n",
       "      <td>4.0</td>\n",
       "      <td>6%</td>\n",
       "      <td>0%</td>\n",
       "      <td>10%</td>\n",
       "      <td>0%</td>\n",
       "      <td>0</td>\n",
       "    </tr>\n",
       "    <tr>\n",
       "      <th>239</th>\n",
       "      <td>Frappuccino® Blended Crème</td>\n",
       "      <td>Vanilla Bean (Without Whipped Cream)</td>\n",
       "      <td>Whole Milk</td>\n",
       "      <td>200</td>\n",
       "      <td>3.5</td>\n",
       "      <td>2.0</td>\n",
       "      <td>0.1</td>\n",
       "      <td>10</td>\n",
       "      <td>160</td>\n",
       "      <td>39</td>\n",
       "      <td>0</td>\n",
       "      <td>38</td>\n",
       "      <td>3.0</td>\n",
       "      <td>6%</td>\n",
       "      <td>0%</td>\n",
       "      <td>10%</td>\n",
       "      <td>0%</td>\n",
       "      <td>0</td>\n",
       "    </tr>\n",
       "    <tr>\n",
       "      <th>240</th>\n",
       "      <td>Frappuccino® Blended Crème</td>\n",
       "      <td>Vanilla Bean (Without Whipped Cream)</td>\n",
       "      <td>Soymilk</td>\n",
       "      <td>180</td>\n",
       "      <td>1.5</td>\n",
       "      <td>0.2</td>\n",
       "      <td>0.0</td>\n",
       "      <td>0</td>\n",
       "      <td>160</td>\n",
       "      <td>37</td>\n",
       "      <td>1</td>\n",
       "      <td>35</td>\n",
       "      <td>3.0</td>\n",
       "      <td>4%</td>\n",
       "      <td>0%</td>\n",
       "      <td>10%</td>\n",
       "      <td>6%</td>\n",
       "      <td>0</td>\n",
       "    </tr>\n",
       "    <tr>\n",
       "      <th>241</th>\n",
       "      <td>Frappuccino® Blended Crème</td>\n",
       "      <td>Vanilla Bean (Without Whipped Cream)</td>\n",
       "      <td>Grande Nonfat Milk</td>\n",
       "      <td>240</td>\n",
       "      <td>0.1</td>\n",
       "      <td>0.1</td>\n",
       "      <td>0.0</td>\n",
       "      <td>5</td>\n",
       "      <td>230</td>\n",
       "      <td>56</td>\n",
       "      <td>0</td>\n",
       "      <td>55</td>\n",
       "      <td>5.0</td>\n",
       "      <td>8%</td>\n",
       "      <td>0%</td>\n",
       "      <td>15%</td>\n",
       "      <td>0%</td>\n",
       "      <td>0</td>\n",
       "    </tr>\n",
       "  </tbody>\n",
       "</table>\n",
       "<p>242 rows × 18 columns</p>\n",
       "</div>"
      ],
      "text/plain": [
       "              Beverage_category                                      Beverage  \\\n",
       "0                        Coffee                                 Brewed Coffee   \n",
       "1                        Coffee                                 Brewed Coffee   \n",
       "2                        Coffee                                 Brewed Coffee   \n",
       "3                        Coffee                                 Brewed Coffee   \n",
       "4       Classic Espresso Drinks                                   Caffè Latte   \n",
       "..                          ...                                           ...   \n",
       "237  Frappuccino® Blended Crème  Strawberries & Crème (Without Whipped Cream)   \n",
       "238  Frappuccino® Blended Crème          Vanilla Bean (Without Whipped Cream)   \n",
       "239  Frappuccino® Blended Crème          Vanilla Bean (Without Whipped Cream)   \n",
       "240  Frappuccino® Blended Crème          Vanilla Bean (Without Whipped Cream)   \n",
       "241  Frappuccino® Blended Crème          Vanilla Bean (Without Whipped Cream)   \n",
       "\n",
       "          Beverage_prep  Calories  Total Fat (g)  Trans Fat (g)   \\\n",
       "0                 Short         3            0.1             0.0   \n",
       "1                  Tall         4            0.1             0.0   \n",
       "2                Grande         5            0.1             0.0   \n",
       "3                 Venti         5            0.1             0.0   \n",
       "4     Short Nonfat Milk        70            0.1             0.1   \n",
       "..                  ...       ...            ...             ...   \n",
       "237             Soymilk       320            3 2             0.4   \n",
       "238    Tall Nonfat Milk       170            0.1             0.1   \n",
       "239          Whole Milk       200            3.5             2.0   \n",
       "240             Soymilk       180            1.5             0.2   \n",
       "241  Grande Nonfat Milk       240            0.1             0.1   \n",
       "\n",
       "     Saturated Fat (g)   Sodium (mg)   Total Carbohydrates (g)   \\\n",
       "0                  0.0             0                          5   \n",
       "1                  0.0             0                         10   \n",
       "2                  0.0             0                         10   \n",
       "3                  0.0             0                         10   \n",
       "4                  0.0             5                         75   \n",
       "..                 ...           ...                        ...   \n",
       "237                0.0             0                        250   \n",
       "238                0.0             0                        160   \n",
       "239                0.1            10                        160   \n",
       "240                0.0             0                        160   \n",
       "241                0.0             5                        230   \n",
       "\n",
       "     Cholesterol (mg)   Dietary Fibre (g)   Sugars (g)   Protein (g)   \\\n",
       "0                   0                   0            0            0.3   \n",
       "1                   0                   0            0            0.5   \n",
       "2                   0                   0            0            1.0   \n",
       "3                   0                   0            0            1.0   \n",
       "4                  10                   0            9            6.0   \n",
       "..                ...                 ...          ...            ...   \n",
       "237                67                   1           64            5.0   \n",
       "238                39                   0           38            4.0   \n",
       "239                39                   0           38            3.0   \n",
       "240                37                   1           35            3.0   \n",
       "241                56                   0           55            5.0   \n",
       "\n",
       "    Vitamin A (% DV)  Vitamin C (% DV)  Calcium (% DV)  Iron (% DV)   \\\n",
       "0                  0%               0%               0%           0%   \n",
       "1                  0%               0%               0%           0%   \n",
       "2                  0%               0%               0%           0%   \n",
       "3                  0%               0%               2%           0%   \n",
       "4                 10%               0%              20%           0%   \n",
       "..                ...              ...              ...          ...   \n",
       "237                6%               8%              20%          10%   \n",
       "238                6%               0%              10%           0%   \n",
       "239                6%               0%              10%           0%   \n",
       "240                4%               0%              10%           6%   \n",
       "241                8%               0%              15%           0%   \n",
       "\n",
       "    Caffeine (mg)  \n",
       "0             175  \n",
       "1             260  \n",
       "2             330  \n",
       "3             410  \n",
       "4              75  \n",
       "..            ...  \n",
       "237             0  \n",
       "238             0  \n",
       "239             0  \n",
       "240             0  \n",
       "241             0  \n",
       "\n",
       "[242 rows x 18 columns]"
      ]
     },
     "execution_count": 34,
     "metadata": {},
     "output_type": "execute_result"
    }
   ],
   "source": [
    "#removing duplicated values\n",
    "df.drop_duplicates(inplace = True)\n",
    "df"
   ]
  },
  {
   "cell_type": "code",
   "execution_count": 35,
   "id": "1e88e8b1",
   "metadata": {},
   "outputs": [
    {
     "data": {
      "text/plain": [
       "Beverage_category            0\n",
       "Beverage                     0\n",
       "Beverage_prep                0\n",
       "Calories                     0\n",
       " Total Fat (g)               0\n",
       "Trans Fat (g)                0\n",
       "Saturated Fat (g)            0\n",
       " Sodium (mg)                 0\n",
       " Total Carbohydrates (g)     0\n",
       "Cholesterol (mg)             0\n",
       " Dietary Fibre (g)           0\n",
       " Sugars (g)                  0\n",
       " Protein (g)                 0\n",
       "Vitamin A (% DV)             0\n",
       "Vitamin C (% DV)             0\n",
       " Calcium (% DV)              0\n",
       "Iron (% DV)                  0\n",
       "Caffeine (mg)                1\n",
       "dtype: int64"
      ]
     },
     "execution_count": 35,
     "metadata": {},
     "output_type": "execute_result"
    }
   ],
   "source": [
    "df.isnull().sum()\n"
   ]
  },
  {
   "cell_type": "code",
   "execution_count": 36,
   "id": "73d674a5",
   "metadata": {},
   "outputs": [
    {
     "data": {
      "text/html": [
       "<div>\n",
       "<style scoped>\n",
       "    .dataframe tbody tr th:only-of-type {\n",
       "        vertical-align: middle;\n",
       "    }\n",
       "\n",
       "    .dataframe tbody tr th {\n",
       "        vertical-align: top;\n",
       "    }\n",
       "\n",
       "    .dataframe thead th {\n",
       "        text-align: right;\n",
       "    }\n",
       "</style>\n",
       "<table border=\"1\" class=\"dataframe\">\n",
       "  <thead>\n",
       "    <tr style=\"text-align: right;\">\n",
       "      <th></th>\n",
       "      <th>Beverage_category</th>\n",
       "      <th>Beverage</th>\n",
       "      <th>Beverage_prep</th>\n",
       "      <th>Calories</th>\n",
       "      <th>Total Fat (g)</th>\n",
       "      <th>Trans Fat (g)</th>\n",
       "      <th>Saturated Fat (g)</th>\n",
       "      <th>Sodium (mg)</th>\n",
       "      <th>Total Carbohydrates (g)</th>\n",
       "      <th>Cholesterol (mg)</th>\n",
       "      <th>Dietary Fibre (g)</th>\n",
       "      <th>Sugars (g)</th>\n",
       "      <th>Protein (g)</th>\n",
       "      <th>Vitamin A (% DV)</th>\n",
       "      <th>Vitamin C (% DV)</th>\n",
       "      <th>Calcium (% DV)</th>\n",
       "      <th>Iron (% DV)</th>\n",
       "      <th>Caffeine (mg)</th>\n",
       "    </tr>\n",
       "  </thead>\n",
       "  <tbody>\n",
       "    <tr>\n",
       "      <th>0</th>\n",
       "      <td>Coffee</td>\n",
       "      <td>Brewed Coffee</td>\n",
       "      <td>Short</td>\n",
       "      <td>3</td>\n",
       "      <td>0.1</td>\n",
       "      <td>0.0</td>\n",
       "      <td>0.0</td>\n",
       "      <td>0</td>\n",
       "      <td>5</td>\n",
       "      <td>0</td>\n",
       "      <td>0</td>\n",
       "      <td>0</td>\n",
       "      <td>0.3</td>\n",
       "      <td>0%</td>\n",
       "      <td>0%</td>\n",
       "      <td>0%</td>\n",
       "      <td>0%</td>\n",
       "      <td>175</td>\n",
       "    </tr>\n",
       "    <tr>\n",
       "      <th>1</th>\n",
       "      <td>Coffee</td>\n",
       "      <td>Brewed Coffee</td>\n",
       "      <td>Tall</td>\n",
       "      <td>4</td>\n",
       "      <td>0.1</td>\n",
       "      <td>0.0</td>\n",
       "      <td>0.0</td>\n",
       "      <td>0</td>\n",
       "      <td>10</td>\n",
       "      <td>0</td>\n",
       "      <td>0</td>\n",
       "      <td>0</td>\n",
       "      <td>0.5</td>\n",
       "      <td>0%</td>\n",
       "      <td>0%</td>\n",
       "      <td>0%</td>\n",
       "      <td>0%</td>\n",
       "      <td>260</td>\n",
       "    </tr>\n",
       "    <tr>\n",
       "      <th>2</th>\n",
       "      <td>Coffee</td>\n",
       "      <td>Brewed Coffee</td>\n",
       "      <td>Grande</td>\n",
       "      <td>5</td>\n",
       "      <td>0.1</td>\n",
       "      <td>0.0</td>\n",
       "      <td>0.0</td>\n",
       "      <td>0</td>\n",
       "      <td>10</td>\n",
       "      <td>0</td>\n",
       "      <td>0</td>\n",
       "      <td>0</td>\n",
       "      <td>1.0</td>\n",
       "      <td>0%</td>\n",
       "      <td>0%</td>\n",
       "      <td>0%</td>\n",
       "      <td>0%</td>\n",
       "      <td>330</td>\n",
       "    </tr>\n",
       "    <tr>\n",
       "      <th>3</th>\n",
       "      <td>Coffee</td>\n",
       "      <td>Brewed Coffee</td>\n",
       "      <td>Venti</td>\n",
       "      <td>5</td>\n",
       "      <td>0.1</td>\n",
       "      <td>0.0</td>\n",
       "      <td>0.0</td>\n",
       "      <td>0</td>\n",
       "      <td>10</td>\n",
       "      <td>0</td>\n",
       "      <td>0</td>\n",
       "      <td>0</td>\n",
       "      <td>1.0</td>\n",
       "      <td>0%</td>\n",
       "      <td>0%</td>\n",
       "      <td>2%</td>\n",
       "      <td>0%</td>\n",
       "      <td>410</td>\n",
       "    </tr>\n",
       "    <tr>\n",
       "      <th>4</th>\n",
       "      <td>Classic Espresso Drinks</td>\n",
       "      <td>Caffè Latte</td>\n",
       "      <td>Short Nonfat Milk</td>\n",
       "      <td>70</td>\n",
       "      <td>0.1</td>\n",
       "      <td>0.1</td>\n",
       "      <td>0.0</td>\n",
       "      <td>5</td>\n",
       "      <td>75</td>\n",
       "      <td>10</td>\n",
       "      <td>0</td>\n",
       "      <td>9</td>\n",
       "      <td>6.0</td>\n",
       "      <td>10%</td>\n",
       "      <td>0%</td>\n",
       "      <td>20%</td>\n",
       "      <td>0%</td>\n",
       "      <td>75</td>\n",
       "    </tr>\n",
       "    <tr>\n",
       "      <th>...</th>\n",
       "      <td>...</td>\n",
       "      <td>...</td>\n",
       "      <td>...</td>\n",
       "      <td>...</td>\n",
       "      <td>...</td>\n",
       "      <td>...</td>\n",
       "      <td>...</td>\n",
       "      <td>...</td>\n",
       "      <td>...</td>\n",
       "      <td>...</td>\n",
       "      <td>...</td>\n",
       "      <td>...</td>\n",
       "      <td>...</td>\n",
       "      <td>...</td>\n",
       "      <td>...</td>\n",
       "      <td>...</td>\n",
       "      <td>...</td>\n",
       "      <td>...</td>\n",
       "    </tr>\n",
       "    <tr>\n",
       "      <th>237</th>\n",
       "      <td>Frappuccino® Blended Crème</td>\n",
       "      <td>Strawberries &amp; Crème (Without Whipped Cream)</td>\n",
       "      <td>Soymilk</td>\n",
       "      <td>320</td>\n",
       "      <td>3 2</td>\n",
       "      <td>0.4</td>\n",
       "      <td>0.0</td>\n",
       "      <td>0</td>\n",
       "      <td>250</td>\n",
       "      <td>67</td>\n",
       "      <td>1</td>\n",
       "      <td>64</td>\n",
       "      <td>5.0</td>\n",
       "      <td>6%</td>\n",
       "      <td>8%</td>\n",
       "      <td>20%</td>\n",
       "      <td>10%</td>\n",
       "      <td>0</td>\n",
       "    </tr>\n",
       "    <tr>\n",
       "      <th>238</th>\n",
       "      <td>Frappuccino® Blended Crème</td>\n",
       "      <td>Vanilla Bean (Without Whipped Cream)</td>\n",
       "      <td>Tall Nonfat Milk</td>\n",
       "      <td>170</td>\n",
       "      <td>0.1</td>\n",
       "      <td>0.1</td>\n",
       "      <td>0.0</td>\n",
       "      <td>0</td>\n",
       "      <td>160</td>\n",
       "      <td>39</td>\n",
       "      <td>0</td>\n",
       "      <td>38</td>\n",
       "      <td>4.0</td>\n",
       "      <td>6%</td>\n",
       "      <td>0%</td>\n",
       "      <td>10%</td>\n",
       "      <td>0%</td>\n",
       "      <td>0</td>\n",
       "    </tr>\n",
       "    <tr>\n",
       "      <th>239</th>\n",
       "      <td>Frappuccino® Blended Crème</td>\n",
       "      <td>Vanilla Bean (Without Whipped Cream)</td>\n",
       "      <td>Whole Milk</td>\n",
       "      <td>200</td>\n",
       "      <td>3.5</td>\n",
       "      <td>2.0</td>\n",
       "      <td>0.1</td>\n",
       "      <td>10</td>\n",
       "      <td>160</td>\n",
       "      <td>39</td>\n",
       "      <td>0</td>\n",
       "      <td>38</td>\n",
       "      <td>3.0</td>\n",
       "      <td>6%</td>\n",
       "      <td>0%</td>\n",
       "      <td>10%</td>\n",
       "      <td>0%</td>\n",
       "      <td>0</td>\n",
       "    </tr>\n",
       "    <tr>\n",
       "      <th>240</th>\n",
       "      <td>Frappuccino® Blended Crème</td>\n",
       "      <td>Vanilla Bean (Without Whipped Cream)</td>\n",
       "      <td>Soymilk</td>\n",
       "      <td>180</td>\n",
       "      <td>1.5</td>\n",
       "      <td>0.2</td>\n",
       "      <td>0.0</td>\n",
       "      <td>0</td>\n",
       "      <td>160</td>\n",
       "      <td>37</td>\n",
       "      <td>1</td>\n",
       "      <td>35</td>\n",
       "      <td>3.0</td>\n",
       "      <td>4%</td>\n",
       "      <td>0%</td>\n",
       "      <td>10%</td>\n",
       "      <td>6%</td>\n",
       "      <td>0</td>\n",
       "    </tr>\n",
       "    <tr>\n",
       "      <th>241</th>\n",
       "      <td>Frappuccino® Blended Crème</td>\n",
       "      <td>Vanilla Bean (Without Whipped Cream)</td>\n",
       "      <td>Grande Nonfat Milk</td>\n",
       "      <td>240</td>\n",
       "      <td>0.1</td>\n",
       "      <td>0.1</td>\n",
       "      <td>0.0</td>\n",
       "      <td>5</td>\n",
       "      <td>230</td>\n",
       "      <td>56</td>\n",
       "      <td>0</td>\n",
       "      <td>55</td>\n",
       "      <td>5.0</td>\n",
       "      <td>8%</td>\n",
       "      <td>0%</td>\n",
       "      <td>15%</td>\n",
       "      <td>0%</td>\n",
       "      <td>0</td>\n",
       "    </tr>\n",
       "  </tbody>\n",
       "</table>\n",
       "<p>242 rows × 18 columns</p>\n",
       "</div>"
      ],
      "text/plain": [
       "              Beverage_category                                      Beverage  \\\n",
       "0                        Coffee                                 Brewed Coffee   \n",
       "1                        Coffee                                 Brewed Coffee   \n",
       "2                        Coffee                                 Brewed Coffee   \n",
       "3                        Coffee                                 Brewed Coffee   \n",
       "4       Classic Espresso Drinks                                   Caffè Latte   \n",
       "..                          ...                                           ...   \n",
       "237  Frappuccino® Blended Crème  Strawberries & Crème (Without Whipped Cream)   \n",
       "238  Frappuccino® Blended Crème          Vanilla Bean (Without Whipped Cream)   \n",
       "239  Frappuccino® Blended Crème          Vanilla Bean (Without Whipped Cream)   \n",
       "240  Frappuccino® Blended Crème          Vanilla Bean (Without Whipped Cream)   \n",
       "241  Frappuccino® Blended Crème          Vanilla Bean (Without Whipped Cream)   \n",
       "\n",
       "          Beverage_prep  Calories  Total Fat (g)  Trans Fat (g)   \\\n",
       "0                 Short         3            0.1             0.0   \n",
       "1                  Tall         4            0.1             0.0   \n",
       "2                Grande         5            0.1             0.0   \n",
       "3                 Venti         5            0.1             0.0   \n",
       "4     Short Nonfat Milk        70            0.1             0.1   \n",
       "..                  ...       ...            ...             ...   \n",
       "237             Soymilk       320            3 2             0.4   \n",
       "238    Tall Nonfat Milk       170            0.1             0.1   \n",
       "239          Whole Milk       200            3.5             2.0   \n",
       "240             Soymilk       180            1.5             0.2   \n",
       "241  Grande Nonfat Milk       240            0.1             0.1   \n",
       "\n",
       "     Saturated Fat (g)   Sodium (mg)   Total Carbohydrates (g)   \\\n",
       "0                  0.0             0                          5   \n",
       "1                  0.0             0                         10   \n",
       "2                  0.0             0                         10   \n",
       "3                  0.0             0                         10   \n",
       "4                  0.0             5                         75   \n",
       "..                 ...           ...                        ...   \n",
       "237                0.0             0                        250   \n",
       "238                0.0             0                        160   \n",
       "239                0.1            10                        160   \n",
       "240                0.0             0                        160   \n",
       "241                0.0             5                        230   \n",
       "\n",
       "     Cholesterol (mg)   Dietary Fibre (g)   Sugars (g)   Protein (g)   \\\n",
       "0                   0                   0            0            0.3   \n",
       "1                   0                   0            0            0.5   \n",
       "2                   0                   0            0            1.0   \n",
       "3                   0                   0            0            1.0   \n",
       "4                  10                   0            9            6.0   \n",
       "..                ...                 ...          ...            ...   \n",
       "237                67                   1           64            5.0   \n",
       "238                39                   0           38            4.0   \n",
       "239                39                   0           38            3.0   \n",
       "240                37                   1           35            3.0   \n",
       "241                56                   0           55            5.0   \n",
       "\n",
       "    Vitamin A (% DV)  Vitamin C (% DV)  Calcium (% DV)  Iron (% DV)   \\\n",
       "0                  0%               0%               0%           0%   \n",
       "1                  0%               0%               0%           0%   \n",
       "2                  0%               0%               0%           0%   \n",
       "3                  0%               0%               2%           0%   \n",
       "4                 10%               0%              20%           0%   \n",
       "..                ...              ...              ...          ...   \n",
       "237                6%               8%              20%          10%   \n",
       "238                6%               0%              10%           0%   \n",
       "239                6%               0%              10%           0%   \n",
       "240                4%               0%              10%           6%   \n",
       "241                8%               0%              15%           0%   \n",
       "\n",
       "    Caffeine (mg)  \n",
       "0             175  \n",
       "1             260  \n",
       "2             330  \n",
       "3             410  \n",
       "4              75  \n",
       "..            ...  \n",
       "237             0  \n",
       "238             0  \n",
       "239             0  \n",
       "240             0  \n",
       "241             0  \n",
       "\n",
       "[242 rows x 18 columns]"
      ]
     },
     "execution_count": 36,
     "metadata": {},
     "output_type": "execute_result"
    }
   ],
   "source": [
    "df.fillna(0)\n"
   ]
  },
  {
   "cell_type": "code",
   "execution_count": 60,
   "id": "2f5a253e",
   "metadata": {},
   "outputs": [
    {
     "data": {
      "text/plain": [
       "Index(['Beverage_category', 'Beverage', 'Beverage_prep', 'Calories',\n",
       "       ' Total Fat (g)', 'Trans Fat (g) ', 'Saturated Fat (g)', ' Sodium (mg)',\n",
       "       ' Total Carbohydrates (g) ', 'Cholesterol (mg)', ' Dietary Fibre (g)',\n",
       "       ' Sugars (g)', ' Protein (g) ', 'Vitamin A (% DV) ', 'Vitamin C (% DV)',\n",
       "       ' Calcium (% DV) ', 'Iron (% DV) ', 'Caffeine (mg)'],\n",
       "      dtype='object')"
      ]
     },
     "execution_count": 60,
     "metadata": {},
     "output_type": "execute_result"
    }
   ],
   "source": [
    "df.columns"
   ]
  },
  {
   "cell_type": "code",
   "execution_count": 64,
   "id": "3c330c65",
   "metadata": {},
   "outputs": [
    {
     "data": {
      "text/html": [
       "<div>\n",
       "<style scoped>\n",
       "    .dataframe tbody tr th:only-of-type {\n",
       "        vertical-align: middle;\n",
       "    }\n",
       "\n",
       "    .dataframe tbody tr th {\n",
       "        vertical-align: top;\n",
       "    }\n",
       "\n",
       "    .dataframe thead th {\n",
       "        text-align: right;\n",
       "    }\n",
       "</style>\n",
       "<table border=\"1\" class=\"dataframe\">\n",
       "  <thead>\n",
       "    <tr style=\"text-align: right;\">\n",
       "      <th></th>\n",
       "      <th>Beverage_category</th>\n",
       "      <th>Beverage</th>\n",
       "      <th>Beverage_prep</th>\n",
       "      <th>Calories</th>\n",
       "      <th>Total Fat (g)</th>\n",
       "      <th>Saturated Fat (g)</th>\n",
       "      <th>Sodium (mg)</th>\n",
       "      <th>Total Carbohydrates (g)</th>\n",
       "      <th>Cholesterol (mg)</th>\n",
       "      <th>Dietary Fibre (g)</th>\n",
       "      <th>Sugars (g)</th>\n",
       "      <th>Protein (g)</th>\n",
       "      <th>Vitamin A (% DV)</th>\n",
       "      <th>Vitamin C (% DV)</th>\n",
       "      <th>Calcium (% DV)</th>\n",
       "      <th>Iron (% DV)</th>\n",
       "      <th>Caffeine (mg)</th>\n",
       "    </tr>\n",
       "  </thead>\n",
       "  <tbody>\n",
       "    <tr>\n",
       "      <th>0</th>\n",
       "      <td>Coffee</td>\n",
       "      <td>Brewed Coffee</td>\n",
       "      <td>Short</td>\n",
       "      <td>3</td>\n",
       "      <td>0.1</td>\n",
       "      <td>0.0</td>\n",
       "      <td>0</td>\n",
       "      <td>5</td>\n",
       "      <td>0</td>\n",
       "      <td>0</td>\n",
       "      <td>0</td>\n",
       "      <td>0.3</td>\n",
       "      <td>0%</td>\n",
       "      <td>0%</td>\n",
       "      <td>0%</td>\n",
       "      <td>0%</td>\n",
       "      <td>175</td>\n",
       "    </tr>\n",
       "    <tr>\n",
       "      <th>1</th>\n",
       "      <td>Coffee</td>\n",
       "      <td>Brewed Coffee</td>\n",
       "      <td>Tall</td>\n",
       "      <td>4</td>\n",
       "      <td>0.1</td>\n",
       "      <td>0.0</td>\n",
       "      <td>0</td>\n",
       "      <td>10</td>\n",
       "      <td>0</td>\n",
       "      <td>0</td>\n",
       "      <td>0</td>\n",
       "      <td>0.5</td>\n",
       "      <td>0%</td>\n",
       "      <td>0%</td>\n",
       "      <td>0%</td>\n",
       "      <td>0%</td>\n",
       "      <td>260</td>\n",
       "    </tr>\n",
       "    <tr>\n",
       "      <th>2</th>\n",
       "      <td>Coffee</td>\n",
       "      <td>Brewed Coffee</td>\n",
       "      <td>Grande</td>\n",
       "      <td>5</td>\n",
       "      <td>0.1</td>\n",
       "      <td>0.0</td>\n",
       "      <td>0</td>\n",
       "      <td>10</td>\n",
       "      <td>0</td>\n",
       "      <td>0</td>\n",
       "      <td>0</td>\n",
       "      <td>1.0</td>\n",
       "      <td>0%</td>\n",
       "      <td>0%</td>\n",
       "      <td>0%</td>\n",
       "      <td>0%</td>\n",
       "      <td>330</td>\n",
       "    </tr>\n",
       "    <tr>\n",
       "      <th>3</th>\n",
       "      <td>Coffee</td>\n",
       "      <td>Brewed Coffee</td>\n",
       "      <td>Venti</td>\n",
       "      <td>5</td>\n",
       "      <td>0.1</td>\n",
       "      <td>0.0</td>\n",
       "      <td>0</td>\n",
       "      <td>10</td>\n",
       "      <td>0</td>\n",
       "      <td>0</td>\n",
       "      <td>0</td>\n",
       "      <td>1.0</td>\n",
       "      <td>0%</td>\n",
       "      <td>0%</td>\n",
       "      <td>2%</td>\n",
       "      <td>0%</td>\n",
       "      <td>410</td>\n",
       "    </tr>\n",
       "    <tr>\n",
       "      <th>4</th>\n",
       "      <td>Classic Espresso Drinks</td>\n",
       "      <td>Caffè Latte</td>\n",
       "      <td>Short Nonfat Milk</td>\n",
       "      <td>70</td>\n",
       "      <td>0.1</td>\n",
       "      <td>0.0</td>\n",
       "      <td>5</td>\n",
       "      <td>75</td>\n",
       "      <td>10</td>\n",
       "      <td>0</td>\n",
       "      <td>9</td>\n",
       "      <td>6.0</td>\n",
       "      <td>10%</td>\n",
       "      <td>0%</td>\n",
       "      <td>20%</td>\n",
       "      <td>0%</td>\n",
       "      <td>75</td>\n",
       "    </tr>\n",
       "    <tr>\n",
       "      <th>...</th>\n",
       "      <td>...</td>\n",
       "      <td>...</td>\n",
       "      <td>...</td>\n",
       "      <td>...</td>\n",
       "      <td>...</td>\n",
       "      <td>...</td>\n",
       "      <td>...</td>\n",
       "      <td>...</td>\n",
       "      <td>...</td>\n",
       "      <td>...</td>\n",
       "      <td>...</td>\n",
       "      <td>...</td>\n",
       "      <td>...</td>\n",
       "      <td>...</td>\n",
       "      <td>...</td>\n",
       "      <td>...</td>\n",
       "      <td>...</td>\n",
       "    </tr>\n",
       "    <tr>\n",
       "      <th>237</th>\n",
       "      <td>Frappuccino® Blended Crème</td>\n",
       "      <td>Strawberries &amp; Crème (Without Whipped Cream)</td>\n",
       "      <td>Soymilk</td>\n",
       "      <td>320</td>\n",
       "      <td>3 2</td>\n",
       "      <td>0.0</td>\n",
       "      <td>0</td>\n",
       "      <td>250</td>\n",
       "      <td>67</td>\n",
       "      <td>1</td>\n",
       "      <td>64</td>\n",
       "      <td>5.0</td>\n",
       "      <td>6%</td>\n",
       "      <td>8%</td>\n",
       "      <td>20%</td>\n",
       "      <td>10%</td>\n",
       "      <td>0</td>\n",
       "    </tr>\n",
       "    <tr>\n",
       "      <th>238</th>\n",
       "      <td>Frappuccino® Blended Crème</td>\n",
       "      <td>Vanilla Bean (Without Whipped Cream)</td>\n",
       "      <td>Tall Nonfat Milk</td>\n",
       "      <td>170</td>\n",
       "      <td>0.1</td>\n",
       "      <td>0.0</td>\n",
       "      <td>0</td>\n",
       "      <td>160</td>\n",
       "      <td>39</td>\n",
       "      <td>0</td>\n",
       "      <td>38</td>\n",
       "      <td>4.0</td>\n",
       "      <td>6%</td>\n",
       "      <td>0%</td>\n",
       "      <td>10%</td>\n",
       "      <td>0%</td>\n",
       "      <td>0</td>\n",
       "    </tr>\n",
       "    <tr>\n",
       "      <th>239</th>\n",
       "      <td>Frappuccino® Blended Crème</td>\n",
       "      <td>Vanilla Bean (Without Whipped Cream)</td>\n",
       "      <td>Whole Milk</td>\n",
       "      <td>200</td>\n",
       "      <td>3.5</td>\n",
       "      <td>0.1</td>\n",
       "      <td>10</td>\n",
       "      <td>160</td>\n",
       "      <td>39</td>\n",
       "      <td>0</td>\n",
       "      <td>38</td>\n",
       "      <td>3.0</td>\n",
       "      <td>6%</td>\n",
       "      <td>0%</td>\n",
       "      <td>10%</td>\n",
       "      <td>0%</td>\n",
       "      <td>0</td>\n",
       "    </tr>\n",
       "    <tr>\n",
       "      <th>240</th>\n",
       "      <td>Frappuccino® Blended Crème</td>\n",
       "      <td>Vanilla Bean (Without Whipped Cream)</td>\n",
       "      <td>Soymilk</td>\n",
       "      <td>180</td>\n",
       "      <td>1.5</td>\n",
       "      <td>0.0</td>\n",
       "      <td>0</td>\n",
       "      <td>160</td>\n",
       "      <td>37</td>\n",
       "      <td>1</td>\n",
       "      <td>35</td>\n",
       "      <td>3.0</td>\n",
       "      <td>4%</td>\n",
       "      <td>0%</td>\n",
       "      <td>10%</td>\n",
       "      <td>6%</td>\n",
       "      <td>0</td>\n",
       "    </tr>\n",
       "    <tr>\n",
       "      <th>241</th>\n",
       "      <td>Frappuccino® Blended Crème</td>\n",
       "      <td>Vanilla Bean (Without Whipped Cream)</td>\n",
       "      <td>Grande Nonfat Milk</td>\n",
       "      <td>240</td>\n",
       "      <td>0.1</td>\n",
       "      <td>0.0</td>\n",
       "      <td>5</td>\n",
       "      <td>230</td>\n",
       "      <td>56</td>\n",
       "      <td>0</td>\n",
       "      <td>55</td>\n",
       "      <td>5.0</td>\n",
       "      <td>8%</td>\n",
       "      <td>0%</td>\n",
       "      <td>15%</td>\n",
       "      <td>0%</td>\n",
       "      <td>0</td>\n",
       "    </tr>\n",
       "  </tbody>\n",
       "</table>\n",
       "<p>242 rows × 17 columns</p>\n",
       "</div>"
      ],
      "text/plain": [
       "              Beverage_category                                      Beverage  \\\n",
       "0                        Coffee                                 Brewed Coffee   \n",
       "1                        Coffee                                 Brewed Coffee   \n",
       "2                        Coffee                                 Brewed Coffee   \n",
       "3                        Coffee                                 Brewed Coffee   \n",
       "4       Classic Espresso Drinks                                   Caffè Latte   \n",
       "..                          ...                                           ...   \n",
       "237  Frappuccino® Blended Crème  Strawberries & Crème (Without Whipped Cream)   \n",
       "238  Frappuccino® Blended Crème          Vanilla Bean (Without Whipped Cream)   \n",
       "239  Frappuccino® Blended Crème          Vanilla Bean (Without Whipped Cream)   \n",
       "240  Frappuccino® Blended Crème          Vanilla Bean (Without Whipped Cream)   \n",
       "241  Frappuccino® Blended Crème          Vanilla Bean (Without Whipped Cream)   \n",
       "\n",
       "          Beverage_prep  Calories  Total Fat (g)  Saturated Fat (g)  \\\n",
       "0                 Short         3            0.1                0.0   \n",
       "1                  Tall         4            0.1                0.0   \n",
       "2                Grande         5            0.1                0.0   \n",
       "3                 Venti         5            0.1                0.0   \n",
       "4     Short Nonfat Milk        70            0.1                0.0   \n",
       "..                  ...       ...            ...                ...   \n",
       "237             Soymilk       320            3 2                0.0   \n",
       "238    Tall Nonfat Milk       170            0.1                0.0   \n",
       "239          Whole Milk       200            3.5                0.1   \n",
       "240             Soymilk       180            1.5                0.0   \n",
       "241  Grande Nonfat Milk       240            0.1                0.0   \n",
       "\n",
       "      Sodium (mg)   Total Carbohydrates (g)   Cholesterol (mg)  \\\n",
       "0               0                          5                 0   \n",
       "1               0                         10                 0   \n",
       "2               0                         10                 0   \n",
       "3               0                         10                 0   \n",
       "4               5                         75                10   \n",
       "..            ...                        ...               ...   \n",
       "237             0                        250                67   \n",
       "238             0                        160                39   \n",
       "239            10                        160                39   \n",
       "240             0                        160                37   \n",
       "241             5                        230                56   \n",
       "\n",
       "      Dietary Fibre (g)   Sugars (g)   Protein (g)  Vitamin A (% DV)   \\\n",
       "0                     0            0            0.3                0%   \n",
       "1                     0            0            0.5                0%   \n",
       "2                     0            0            1.0                0%   \n",
       "3                     0            0            1.0                0%   \n",
       "4                     0            9            6.0               10%   \n",
       "..                  ...          ...            ...               ...   \n",
       "237                   1           64            5.0                6%   \n",
       "238                   0           38            4.0                6%   \n",
       "239                   0           38            3.0                6%   \n",
       "240                   1           35            3.0                4%   \n",
       "241                   0           55            5.0                8%   \n",
       "\n",
       "    Vitamin C (% DV)  Calcium (% DV)  Iron (% DV)  Caffeine (mg)  \n",
       "0                 0%               0%           0%           175  \n",
       "1                 0%               0%           0%           260  \n",
       "2                 0%               0%           0%           330  \n",
       "3                 0%               2%           0%           410  \n",
       "4                 0%              20%           0%            75  \n",
       "..               ...              ...          ...           ...  \n",
       "237               8%              20%          10%             0  \n",
       "238               0%              10%           0%             0  \n",
       "239               0%              10%           0%             0  \n",
       "240               0%              10%           6%             0  \n",
       "241               0%              15%           0%             0  \n",
       "\n",
       "[242 rows x 17 columns]"
      ]
     },
     "execution_count": 64,
     "metadata": {},
     "output_type": "execute_result"
    }
   ],
   "source": [
    "df.drop('Trans Fat (g) ', axis=1,inplace=True)\n",
    "df"
   ]
  },
  {
   "cell_type": "code",
   "execution_count": 65,
   "id": "9aa048c3",
   "metadata": {},
   "outputs": [],
   "source": [
    "df.drop('Saturated Fat (g)', axis=1,inplace=True)\n"
   ]
  },
  {
   "cell_type": "code",
   "execution_count": 66,
   "id": "118963c8",
   "metadata": {},
   "outputs": [
    {
     "data": {
      "text/html": [
       "<div>\n",
       "<style scoped>\n",
       "    .dataframe tbody tr th:only-of-type {\n",
       "        vertical-align: middle;\n",
       "    }\n",
       "\n",
       "    .dataframe tbody tr th {\n",
       "        vertical-align: top;\n",
       "    }\n",
       "\n",
       "    .dataframe thead th {\n",
       "        text-align: right;\n",
       "    }\n",
       "</style>\n",
       "<table border=\"1\" class=\"dataframe\">\n",
       "  <thead>\n",
       "    <tr style=\"text-align: right;\">\n",
       "      <th></th>\n",
       "      <th>Beverage_category</th>\n",
       "      <th>Beverage</th>\n",
       "      <th>Beverage_prep</th>\n",
       "      <th>Calories</th>\n",
       "      <th>Total Fat (g)</th>\n",
       "      <th>Sodium (mg)</th>\n",
       "      <th>Total Carbohydrates (g)</th>\n",
       "      <th>Cholesterol (mg)</th>\n",
       "      <th>Dietary Fibre (g)</th>\n",
       "      <th>Sugars (g)</th>\n",
       "      <th>Protein (g)</th>\n",
       "      <th>Vitamin A (% DV)</th>\n",
       "      <th>Vitamin C (% DV)</th>\n",
       "      <th>Calcium (% DV)</th>\n",
       "      <th>Iron (% DV)</th>\n",
       "      <th>Caffeine (mg)</th>\n",
       "    </tr>\n",
       "  </thead>\n",
       "  <tbody>\n",
       "    <tr>\n",
       "      <th>0</th>\n",
       "      <td>Coffee</td>\n",
       "      <td>Brewed Coffee</td>\n",
       "      <td>Short</td>\n",
       "      <td>3</td>\n",
       "      <td>0.1</td>\n",
       "      <td>0</td>\n",
       "      <td>5</td>\n",
       "      <td>0</td>\n",
       "      <td>0</td>\n",
       "      <td>0</td>\n",
       "      <td>0.3</td>\n",
       "      <td>0%</td>\n",
       "      <td>0%</td>\n",
       "      <td>0%</td>\n",
       "      <td>0%</td>\n",
       "      <td>175</td>\n",
       "    </tr>\n",
       "    <tr>\n",
       "      <th>1</th>\n",
       "      <td>Coffee</td>\n",
       "      <td>Brewed Coffee</td>\n",
       "      <td>Tall</td>\n",
       "      <td>4</td>\n",
       "      <td>0.1</td>\n",
       "      <td>0</td>\n",
       "      <td>10</td>\n",
       "      <td>0</td>\n",
       "      <td>0</td>\n",
       "      <td>0</td>\n",
       "      <td>0.5</td>\n",
       "      <td>0%</td>\n",
       "      <td>0%</td>\n",
       "      <td>0%</td>\n",
       "      <td>0%</td>\n",
       "      <td>260</td>\n",
       "    </tr>\n",
       "    <tr>\n",
       "      <th>2</th>\n",
       "      <td>Coffee</td>\n",
       "      <td>Brewed Coffee</td>\n",
       "      <td>Grande</td>\n",
       "      <td>5</td>\n",
       "      <td>0.1</td>\n",
       "      <td>0</td>\n",
       "      <td>10</td>\n",
       "      <td>0</td>\n",
       "      <td>0</td>\n",
       "      <td>0</td>\n",
       "      <td>1.0</td>\n",
       "      <td>0%</td>\n",
       "      <td>0%</td>\n",
       "      <td>0%</td>\n",
       "      <td>0%</td>\n",
       "      <td>330</td>\n",
       "    </tr>\n",
       "    <tr>\n",
       "      <th>3</th>\n",
       "      <td>Coffee</td>\n",
       "      <td>Brewed Coffee</td>\n",
       "      <td>Venti</td>\n",
       "      <td>5</td>\n",
       "      <td>0.1</td>\n",
       "      <td>0</td>\n",
       "      <td>10</td>\n",
       "      <td>0</td>\n",
       "      <td>0</td>\n",
       "      <td>0</td>\n",
       "      <td>1.0</td>\n",
       "      <td>0%</td>\n",
       "      <td>0%</td>\n",
       "      <td>2%</td>\n",
       "      <td>0%</td>\n",
       "      <td>410</td>\n",
       "    </tr>\n",
       "    <tr>\n",
       "      <th>4</th>\n",
       "      <td>Classic Espresso Drinks</td>\n",
       "      <td>Caffè Latte</td>\n",
       "      <td>Short Nonfat Milk</td>\n",
       "      <td>70</td>\n",
       "      <td>0.1</td>\n",
       "      <td>5</td>\n",
       "      <td>75</td>\n",
       "      <td>10</td>\n",
       "      <td>0</td>\n",
       "      <td>9</td>\n",
       "      <td>6.0</td>\n",
       "      <td>10%</td>\n",
       "      <td>0%</td>\n",
       "      <td>20%</td>\n",
       "      <td>0%</td>\n",
       "      <td>75</td>\n",
       "    </tr>\n",
       "    <tr>\n",
       "      <th>...</th>\n",
       "      <td>...</td>\n",
       "      <td>...</td>\n",
       "      <td>...</td>\n",
       "      <td>...</td>\n",
       "      <td>...</td>\n",
       "      <td>...</td>\n",
       "      <td>...</td>\n",
       "      <td>...</td>\n",
       "      <td>...</td>\n",
       "      <td>...</td>\n",
       "      <td>...</td>\n",
       "      <td>...</td>\n",
       "      <td>...</td>\n",
       "      <td>...</td>\n",
       "      <td>...</td>\n",
       "      <td>...</td>\n",
       "    </tr>\n",
       "    <tr>\n",
       "      <th>237</th>\n",
       "      <td>Frappuccino® Blended Crème</td>\n",
       "      <td>Strawberries &amp; Crème (Without Whipped Cream)</td>\n",
       "      <td>Soymilk</td>\n",
       "      <td>320</td>\n",
       "      <td>3 2</td>\n",
       "      <td>0</td>\n",
       "      <td>250</td>\n",
       "      <td>67</td>\n",
       "      <td>1</td>\n",
       "      <td>64</td>\n",
       "      <td>5.0</td>\n",
       "      <td>6%</td>\n",
       "      <td>8%</td>\n",
       "      <td>20%</td>\n",
       "      <td>10%</td>\n",
       "      <td>0</td>\n",
       "    </tr>\n",
       "    <tr>\n",
       "      <th>238</th>\n",
       "      <td>Frappuccino® Blended Crème</td>\n",
       "      <td>Vanilla Bean (Without Whipped Cream)</td>\n",
       "      <td>Tall Nonfat Milk</td>\n",
       "      <td>170</td>\n",
       "      <td>0.1</td>\n",
       "      <td>0</td>\n",
       "      <td>160</td>\n",
       "      <td>39</td>\n",
       "      <td>0</td>\n",
       "      <td>38</td>\n",
       "      <td>4.0</td>\n",
       "      <td>6%</td>\n",
       "      <td>0%</td>\n",
       "      <td>10%</td>\n",
       "      <td>0%</td>\n",
       "      <td>0</td>\n",
       "    </tr>\n",
       "    <tr>\n",
       "      <th>239</th>\n",
       "      <td>Frappuccino® Blended Crème</td>\n",
       "      <td>Vanilla Bean (Without Whipped Cream)</td>\n",
       "      <td>Whole Milk</td>\n",
       "      <td>200</td>\n",
       "      <td>3.5</td>\n",
       "      <td>10</td>\n",
       "      <td>160</td>\n",
       "      <td>39</td>\n",
       "      <td>0</td>\n",
       "      <td>38</td>\n",
       "      <td>3.0</td>\n",
       "      <td>6%</td>\n",
       "      <td>0%</td>\n",
       "      <td>10%</td>\n",
       "      <td>0%</td>\n",
       "      <td>0</td>\n",
       "    </tr>\n",
       "    <tr>\n",
       "      <th>240</th>\n",
       "      <td>Frappuccino® Blended Crème</td>\n",
       "      <td>Vanilla Bean (Without Whipped Cream)</td>\n",
       "      <td>Soymilk</td>\n",
       "      <td>180</td>\n",
       "      <td>1.5</td>\n",
       "      <td>0</td>\n",
       "      <td>160</td>\n",
       "      <td>37</td>\n",
       "      <td>1</td>\n",
       "      <td>35</td>\n",
       "      <td>3.0</td>\n",
       "      <td>4%</td>\n",
       "      <td>0%</td>\n",
       "      <td>10%</td>\n",
       "      <td>6%</td>\n",
       "      <td>0</td>\n",
       "    </tr>\n",
       "    <tr>\n",
       "      <th>241</th>\n",
       "      <td>Frappuccino® Blended Crème</td>\n",
       "      <td>Vanilla Bean (Without Whipped Cream)</td>\n",
       "      <td>Grande Nonfat Milk</td>\n",
       "      <td>240</td>\n",
       "      <td>0.1</td>\n",
       "      <td>5</td>\n",
       "      <td>230</td>\n",
       "      <td>56</td>\n",
       "      <td>0</td>\n",
       "      <td>55</td>\n",
       "      <td>5.0</td>\n",
       "      <td>8%</td>\n",
       "      <td>0%</td>\n",
       "      <td>15%</td>\n",
       "      <td>0%</td>\n",
       "      <td>0</td>\n",
       "    </tr>\n",
       "  </tbody>\n",
       "</table>\n",
       "<p>242 rows × 16 columns</p>\n",
       "</div>"
      ],
      "text/plain": [
       "              Beverage_category                                      Beverage  \\\n",
       "0                        Coffee                                 Brewed Coffee   \n",
       "1                        Coffee                                 Brewed Coffee   \n",
       "2                        Coffee                                 Brewed Coffee   \n",
       "3                        Coffee                                 Brewed Coffee   \n",
       "4       Classic Espresso Drinks                                   Caffè Latte   \n",
       "..                          ...                                           ...   \n",
       "237  Frappuccino® Blended Crème  Strawberries & Crème (Without Whipped Cream)   \n",
       "238  Frappuccino® Blended Crème          Vanilla Bean (Without Whipped Cream)   \n",
       "239  Frappuccino® Blended Crème          Vanilla Bean (Without Whipped Cream)   \n",
       "240  Frappuccino® Blended Crème          Vanilla Bean (Without Whipped Cream)   \n",
       "241  Frappuccino® Blended Crème          Vanilla Bean (Without Whipped Cream)   \n",
       "\n",
       "          Beverage_prep  Calories  Total Fat (g)   Sodium (mg)  \\\n",
       "0                 Short         3            0.1             0   \n",
       "1                  Tall         4            0.1             0   \n",
       "2                Grande         5            0.1             0   \n",
       "3                 Venti         5            0.1             0   \n",
       "4     Short Nonfat Milk        70            0.1             5   \n",
       "..                  ...       ...            ...           ...   \n",
       "237             Soymilk       320            3 2             0   \n",
       "238    Tall Nonfat Milk       170            0.1             0   \n",
       "239          Whole Milk       200            3.5            10   \n",
       "240             Soymilk       180            1.5             0   \n",
       "241  Grande Nonfat Milk       240            0.1             5   \n",
       "\n",
       "      Total Carbohydrates (g)   Cholesterol (mg)   Dietary Fibre (g)  \\\n",
       "0                            5                 0                   0   \n",
       "1                           10                 0                   0   \n",
       "2                           10                 0                   0   \n",
       "3                           10                 0                   0   \n",
       "4                           75                10                   0   \n",
       "..                         ...               ...                 ...   \n",
       "237                        250                67                   1   \n",
       "238                        160                39                   0   \n",
       "239                        160                39                   0   \n",
       "240                        160                37                   1   \n",
       "241                        230                56                   0   \n",
       "\n",
       "      Sugars (g)   Protein (g)  Vitamin A (% DV)  Vitamin C (% DV)  \\\n",
       "0              0            0.3                0%               0%   \n",
       "1              0            0.5                0%               0%   \n",
       "2              0            1.0                0%               0%   \n",
       "3              0            1.0                0%               0%   \n",
       "4              9            6.0               10%               0%   \n",
       "..           ...            ...               ...              ...   \n",
       "237           64            5.0                6%               8%   \n",
       "238           38            4.0                6%               0%   \n",
       "239           38            3.0                6%               0%   \n",
       "240           35            3.0                4%               0%   \n",
       "241           55            5.0                8%               0%   \n",
       "\n",
       "     Calcium (% DV)  Iron (% DV)  Caffeine (mg)  \n",
       "0                 0%           0%           175  \n",
       "1                 0%           0%           260  \n",
       "2                 0%           0%           330  \n",
       "3                 2%           0%           410  \n",
       "4                20%           0%            75  \n",
       "..               ...          ...           ...  \n",
       "237              20%          10%             0  \n",
       "238              10%           0%             0  \n",
       "239              10%           0%             0  \n",
       "240              10%           6%             0  \n",
       "241              15%           0%             0  \n",
       "\n",
       "[242 rows x 16 columns]"
      ]
     },
     "execution_count": 66,
     "metadata": {},
     "output_type": "execute_result"
    }
   ],
   "source": [
    "df"
   ]
  },
  {
   "cell_type": "code",
   "execution_count": 67,
   "id": "db64e19f",
   "metadata": {},
   "outputs": [],
   "source": [
    "df.drop(' Dietary Fibre (g)', axis=1,inplace=True)\n"
   ]
  },
  {
   "cell_type": "code",
   "execution_count": 68,
   "id": "4e3bb58c",
   "metadata": {},
   "outputs": [
    {
     "data": {
      "text/html": [
       "<div>\n",
       "<style scoped>\n",
       "    .dataframe tbody tr th:only-of-type {\n",
       "        vertical-align: middle;\n",
       "    }\n",
       "\n",
       "    .dataframe tbody tr th {\n",
       "        vertical-align: top;\n",
       "    }\n",
       "\n",
       "    .dataframe thead th {\n",
       "        text-align: right;\n",
       "    }\n",
       "</style>\n",
       "<table border=\"1\" class=\"dataframe\">\n",
       "  <thead>\n",
       "    <tr style=\"text-align: right;\">\n",
       "      <th></th>\n",
       "      <th>Beverage_category</th>\n",
       "      <th>Beverage</th>\n",
       "      <th>Beverage_prep</th>\n",
       "      <th>Calories</th>\n",
       "      <th>Total Fat (g)</th>\n",
       "      <th>Sodium (mg)</th>\n",
       "      <th>Total Carbohydrates (g)</th>\n",
       "      <th>Cholesterol (mg)</th>\n",
       "      <th>Sugars (g)</th>\n",
       "      <th>Protein (g)</th>\n",
       "      <th>Vitamin A (% DV)</th>\n",
       "      <th>Vitamin C (% DV)</th>\n",
       "      <th>Calcium (% DV)</th>\n",
       "      <th>Iron (% DV)</th>\n",
       "      <th>Caffeine (mg)</th>\n",
       "    </tr>\n",
       "  </thead>\n",
       "  <tbody>\n",
       "    <tr>\n",
       "      <th>0</th>\n",
       "      <td>Coffee</td>\n",
       "      <td>Brewed Coffee</td>\n",
       "      <td>Short</td>\n",
       "      <td>3</td>\n",
       "      <td>0.1</td>\n",
       "      <td>0</td>\n",
       "      <td>5</td>\n",
       "      <td>0</td>\n",
       "      <td>0</td>\n",
       "      <td>0.3</td>\n",
       "      <td>0%</td>\n",
       "      <td>0%</td>\n",
       "      <td>0%</td>\n",
       "      <td>0%</td>\n",
       "      <td>175</td>\n",
       "    </tr>\n",
       "    <tr>\n",
       "      <th>1</th>\n",
       "      <td>Coffee</td>\n",
       "      <td>Brewed Coffee</td>\n",
       "      <td>Tall</td>\n",
       "      <td>4</td>\n",
       "      <td>0.1</td>\n",
       "      <td>0</td>\n",
       "      <td>10</td>\n",
       "      <td>0</td>\n",
       "      <td>0</td>\n",
       "      <td>0.5</td>\n",
       "      <td>0%</td>\n",
       "      <td>0%</td>\n",
       "      <td>0%</td>\n",
       "      <td>0%</td>\n",
       "      <td>260</td>\n",
       "    </tr>\n",
       "    <tr>\n",
       "      <th>2</th>\n",
       "      <td>Coffee</td>\n",
       "      <td>Brewed Coffee</td>\n",
       "      <td>Grande</td>\n",
       "      <td>5</td>\n",
       "      <td>0.1</td>\n",
       "      <td>0</td>\n",
       "      <td>10</td>\n",
       "      <td>0</td>\n",
       "      <td>0</td>\n",
       "      <td>1.0</td>\n",
       "      <td>0%</td>\n",
       "      <td>0%</td>\n",
       "      <td>0%</td>\n",
       "      <td>0%</td>\n",
       "      <td>330</td>\n",
       "    </tr>\n",
       "    <tr>\n",
       "      <th>3</th>\n",
       "      <td>Coffee</td>\n",
       "      <td>Brewed Coffee</td>\n",
       "      <td>Venti</td>\n",
       "      <td>5</td>\n",
       "      <td>0.1</td>\n",
       "      <td>0</td>\n",
       "      <td>10</td>\n",
       "      <td>0</td>\n",
       "      <td>0</td>\n",
       "      <td>1.0</td>\n",
       "      <td>0%</td>\n",
       "      <td>0%</td>\n",
       "      <td>2%</td>\n",
       "      <td>0%</td>\n",
       "      <td>410</td>\n",
       "    </tr>\n",
       "    <tr>\n",
       "      <th>4</th>\n",
       "      <td>Classic Espresso Drinks</td>\n",
       "      <td>Caffè Latte</td>\n",
       "      <td>Short Nonfat Milk</td>\n",
       "      <td>70</td>\n",
       "      <td>0.1</td>\n",
       "      <td>5</td>\n",
       "      <td>75</td>\n",
       "      <td>10</td>\n",
       "      <td>9</td>\n",
       "      <td>6.0</td>\n",
       "      <td>10%</td>\n",
       "      <td>0%</td>\n",
       "      <td>20%</td>\n",
       "      <td>0%</td>\n",
       "      <td>75</td>\n",
       "    </tr>\n",
       "    <tr>\n",
       "      <th>...</th>\n",
       "      <td>...</td>\n",
       "      <td>...</td>\n",
       "      <td>...</td>\n",
       "      <td>...</td>\n",
       "      <td>...</td>\n",
       "      <td>...</td>\n",
       "      <td>...</td>\n",
       "      <td>...</td>\n",
       "      <td>...</td>\n",
       "      <td>...</td>\n",
       "      <td>...</td>\n",
       "      <td>...</td>\n",
       "      <td>...</td>\n",
       "      <td>...</td>\n",
       "      <td>...</td>\n",
       "    </tr>\n",
       "    <tr>\n",
       "      <th>237</th>\n",
       "      <td>Frappuccino® Blended Crème</td>\n",
       "      <td>Strawberries &amp; Crème (Without Whipped Cream)</td>\n",
       "      <td>Soymilk</td>\n",
       "      <td>320</td>\n",
       "      <td>3 2</td>\n",
       "      <td>0</td>\n",
       "      <td>250</td>\n",
       "      <td>67</td>\n",
       "      <td>64</td>\n",
       "      <td>5.0</td>\n",
       "      <td>6%</td>\n",
       "      <td>8%</td>\n",
       "      <td>20%</td>\n",
       "      <td>10%</td>\n",
       "      <td>0</td>\n",
       "    </tr>\n",
       "    <tr>\n",
       "      <th>238</th>\n",
       "      <td>Frappuccino® Blended Crème</td>\n",
       "      <td>Vanilla Bean (Without Whipped Cream)</td>\n",
       "      <td>Tall Nonfat Milk</td>\n",
       "      <td>170</td>\n",
       "      <td>0.1</td>\n",
       "      <td>0</td>\n",
       "      <td>160</td>\n",
       "      <td>39</td>\n",
       "      <td>38</td>\n",
       "      <td>4.0</td>\n",
       "      <td>6%</td>\n",
       "      <td>0%</td>\n",
       "      <td>10%</td>\n",
       "      <td>0%</td>\n",
       "      <td>0</td>\n",
       "    </tr>\n",
       "    <tr>\n",
       "      <th>239</th>\n",
       "      <td>Frappuccino® Blended Crème</td>\n",
       "      <td>Vanilla Bean (Without Whipped Cream)</td>\n",
       "      <td>Whole Milk</td>\n",
       "      <td>200</td>\n",
       "      <td>3.5</td>\n",
       "      <td>10</td>\n",
       "      <td>160</td>\n",
       "      <td>39</td>\n",
       "      <td>38</td>\n",
       "      <td>3.0</td>\n",
       "      <td>6%</td>\n",
       "      <td>0%</td>\n",
       "      <td>10%</td>\n",
       "      <td>0%</td>\n",
       "      <td>0</td>\n",
       "    </tr>\n",
       "    <tr>\n",
       "      <th>240</th>\n",
       "      <td>Frappuccino® Blended Crème</td>\n",
       "      <td>Vanilla Bean (Without Whipped Cream)</td>\n",
       "      <td>Soymilk</td>\n",
       "      <td>180</td>\n",
       "      <td>1.5</td>\n",
       "      <td>0</td>\n",
       "      <td>160</td>\n",
       "      <td>37</td>\n",
       "      <td>35</td>\n",
       "      <td>3.0</td>\n",
       "      <td>4%</td>\n",
       "      <td>0%</td>\n",
       "      <td>10%</td>\n",
       "      <td>6%</td>\n",
       "      <td>0</td>\n",
       "    </tr>\n",
       "    <tr>\n",
       "      <th>241</th>\n",
       "      <td>Frappuccino® Blended Crème</td>\n",
       "      <td>Vanilla Bean (Without Whipped Cream)</td>\n",
       "      <td>Grande Nonfat Milk</td>\n",
       "      <td>240</td>\n",
       "      <td>0.1</td>\n",
       "      <td>5</td>\n",
       "      <td>230</td>\n",
       "      <td>56</td>\n",
       "      <td>55</td>\n",
       "      <td>5.0</td>\n",
       "      <td>8%</td>\n",
       "      <td>0%</td>\n",
       "      <td>15%</td>\n",
       "      <td>0%</td>\n",
       "      <td>0</td>\n",
       "    </tr>\n",
       "  </tbody>\n",
       "</table>\n",
       "<p>242 rows × 15 columns</p>\n",
       "</div>"
      ],
      "text/plain": [
       "              Beverage_category                                      Beverage  \\\n",
       "0                        Coffee                                 Brewed Coffee   \n",
       "1                        Coffee                                 Brewed Coffee   \n",
       "2                        Coffee                                 Brewed Coffee   \n",
       "3                        Coffee                                 Brewed Coffee   \n",
       "4       Classic Espresso Drinks                                   Caffè Latte   \n",
       "..                          ...                                           ...   \n",
       "237  Frappuccino® Blended Crème  Strawberries & Crème (Without Whipped Cream)   \n",
       "238  Frappuccino® Blended Crème          Vanilla Bean (Without Whipped Cream)   \n",
       "239  Frappuccino® Blended Crème          Vanilla Bean (Without Whipped Cream)   \n",
       "240  Frappuccino® Blended Crème          Vanilla Bean (Without Whipped Cream)   \n",
       "241  Frappuccino® Blended Crème          Vanilla Bean (Without Whipped Cream)   \n",
       "\n",
       "          Beverage_prep  Calories  Total Fat (g)   Sodium (mg)  \\\n",
       "0                 Short         3            0.1             0   \n",
       "1                  Tall         4            0.1             0   \n",
       "2                Grande         5            0.1             0   \n",
       "3                 Venti         5            0.1             0   \n",
       "4     Short Nonfat Milk        70            0.1             5   \n",
       "..                  ...       ...            ...           ...   \n",
       "237             Soymilk       320            3 2             0   \n",
       "238    Tall Nonfat Milk       170            0.1             0   \n",
       "239          Whole Milk       200            3.5            10   \n",
       "240             Soymilk       180            1.5             0   \n",
       "241  Grande Nonfat Milk       240            0.1             5   \n",
       "\n",
       "      Total Carbohydrates (g)   Cholesterol (mg)   Sugars (g)   Protein (g)   \\\n",
       "0                            5                 0            0            0.3   \n",
       "1                           10                 0            0            0.5   \n",
       "2                           10                 0            0            1.0   \n",
       "3                           10                 0            0            1.0   \n",
       "4                           75                10            9            6.0   \n",
       "..                         ...               ...          ...            ...   \n",
       "237                        250                67           64            5.0   \n",
       "238                        160                39           38            4.0   \n",
       "239                        160                39           38            3.0   \n",
       "240                        160                37           35            3.0   \n",
       "241                        230                56           55            5.0   \n",
       "\n",
       "    Vitamin A (% DV)  Vitamin C (% DV)  Calcium (% DV)  Iron (% DV)   \\\n",
       "0                  0%               0%               0%           0%   \n",
       "1                  0%               0%               0%           0%   \n",
       "2                  0%               0%               0%           0%   \n",
       "3                  0%               0%               2%           0%   \n",
       "4                 10%               0%              20%           0%   \n",
       "..                ...              ...              ...          ...   \n",
       "237                6%               8%              20%          10%   \n",
       "238                6%               0%              10%           0%   \n",
       "239                6%               0%              10%           0%   \n",
       "240                4%               0%              10%           6%   \n",
       "241                8%               0%              15%           0%   \n",
       "\n",
       "    Caffeine (mg)  \n",
       "0             175  \n",
       "1             260  \n",
       "2             330  \n",
       "3             410  \n",
       "4              75  \n",
       "..            ...  \n",
       "237             0  \n",
       "238             0  \n",
       "239             0  \n",
       "240             0  \n",
       "241             0  \n",
       "\n",
       "[242 rows x 15 columns]"
      ]
     },
     "execution_count": 68,
     "metadata": {},
     "output_type": "execute_result"
    }
   ],
   "source": [
    "df"
   ]
  },
  {
   "cell_type": "code",
   "execution_count": 76,
   "id": "41afb9b3",
   "metadata": {},
   "outputs": [
    {
     "data": {
      "application/vnd.plotly.v1+json": {
       "config": {
        "plotlyServerURL": "https://plot.ly"
       },
       "data": [
        {
         "domain": {
          "x": [
           0,
           1
          ],
          "y": [
           0,
           1
          ]
         },
         "hovertemplate": "Beverage=%{label}<br>Calories=%{value}<extra></extra>",
         "labels": [
          "Brewed Coffee",
          "Brewed Coffee",
          "Brewed Coffee",
          "Brewed Coffee",
          "Caffè Latte",
          "Caffè Latte",
          "Caffè Latte",
          "Caffè Latte",
          "Caffè Latte",
          "Caffè Latte",
          "Caffè Latte",
          "Caffè Latte",
          "Caffè Latte",
          "Caffè Latte",
          "Caffè Latte",
          "Caffè Latte",
          "Caffè Mocha (Without Whipped Cream)",
          "Caffè Mocha (Without Whipped Cream)",
          "Caffè Mocha (Without Whipped Cream)",
          "Caffè Mocha (Without Whipped Cream)",
          "Caffè Mocha (Without Whipped Cream)",
          "Caffè Mocha (Without Whipped Cream)",
          "Caffè Mocha (Without Whipped Cream)",
          "Caffè Mocha (Without Whipped Cream)",
          "Caffè Mocha (Without Whipped Cream)",
          "Caffè Mocha (Without Whipped Cream)",
          "Caffè Mocha (Without Whipped Cream)",
          "Caffè Mocha (Without Whipped Cream)",
          "Vanilla Latte (Or Other Flavoured Latte)",
          "Vanilla Latte (Or Other Flavoured Latte)",
          "Vanilla Latte (Or Other Flavoured Latte)",
          "Vanilla Latte (Or Other Flavoured Latte)",
          "Vanilla Latte (Or Other Flavoured Latte)",
          "Vanilla Latte (Or Other Flavoured Latte)",
          "Vanilla Latte (Or Other Flavoured Latte)",
          "Vanilla Latte (Or Other Flavoured Latte)",
          "Vanilla Latte (Or Other Flavoured Latte)",
          "Vanilla Latte (Or Other Flavoured Latte)",
          "Vanilla Latte (Or Other Flavoured Latte)",
          "Vanilla Latte (Or Other Flavoured Latte)",
          "Caffè Americano",
          "Caffè Americano",
          "Caffè Americano",
          "Caffè Americano",
          "Cappuccino",
          "Cappuccino",
          "Cappuccino",
          "Cappuccino",
          "Cappuccino",
          "Cappuccino",
          "Cappuccino",
          "Cappuccino",
          "Cappuccino",
          "Cappuccino",
          "Cappuccino",
          "Cappuccino",
          "Espresso",
          "Espresso",
          "Skinny Latte (Any Flavour)",
          "Skinny Latte (Any Flavour)",
          "Skinny Latte (Any Flavour)",
          "Skinny Latte (Any Flavour)",
          "Caramel Macchiato",
          "Caramel Macchiato",
          "Caramel Macchiato",
          "Caramel Macchiato",
          "Caramel Macchiato",
          "Caramel Macchiato",
          "Caramel Macchiato",
          "Caramel Macchiato",
          "Caramel Macchiato",
          "Caramel Macchiato",
          "Caramel Macchiato",
          "Caramel Macchiato",
          "White Chocolate Mocha (Without Whipped Cream)",
          "White Chocolate Mocha (Without Whipped Cream)",
          "White Chocolate Mocha (Without Whipped Cream)",
          "White Chocolate Mocha (Without Whipped Cream)",
          "White Chocolate Mocha (Without Whipped Cream)",
          "White Chocolate Mocha (Without Whipped Cream)",
          "White Chocolate Mocha (Without Whipped Cream)",
          "White Chocolate Mocha (Without Whipped Cream)",
          "White Chocolate Mocha (Without Whipped Cream)",
          "White Chocolate Mocha (Without Whipped Cream)",
          "White Chocolate Mocha (Without Whipped Cream)",
          "White Chocolate Mocha (Without Whipped Cream)",
          "Hot Chocolate (Without Whipped Cream)",
          "Hot Chocolate (Without Whipped Cream)",
          "Hot Chocolate (Without Whipped Cream)",
          "Hot Chocolate (Without Whipped Cream)",
          "Hot Chocolate (Without Whipped Cream)",
          "Hot Chocolate (Without Whipped Cream)",
          "Hot Chocolate (Without Whipped Cream)",
          "Hot Chocolate (Without Whipped Cream)",
          "Hot Chocolate (Without Whipped Cream)",
          "Hot Chocolate (Without Whipped Cream)",
          "Hot Chocolate (Without Whipped Cream)",
          "Hot Chocolate (Without Whipped Cream)",
          "Caramel Apple Spice (Without Whipped Cream)",
          "Caramel Apple Spice (Without Whipped Cream)",
          "Caramel Apple Spice (Without Whipped Cream)",
          "Caramel Apple Spice (Without Whipped Cream)",
          "Tazo® Tea",
          "Tazo® Tea",
          "Tazo® Tea",
          "Tazo® Tea",
          "Tazo® Chai Tea Latte",
          "Tazo® Chai Tea Latte",
          "Tazo® Chai Tea Latte",
          "Tazo® Chai Tea Latte",
          "Tazo® Chai Tea Latte",
          "Tazo® Chai Tea Latte",
          "Tazo® Chai Tea Latte",
          "Tazo® Chai Tea Latte",
          "Tazo® Chai Tea Latte",
          "Tazo® Chai Tea Latte",
          "Tazo® Chai Tea Latte",
          "Tazo® Chai Tea Latte",
          "Tazo® Green Tea Latte",
          "Tazo® Green Tea Latte",
          "Tazo® Green Tea Latte",
          "Tazo® Green Tea Latte",
          "Tazo® Green Tea Latte",
          "Tazo® Green Tea Latte",
          "Tazo® Green Tea Latte",
          "Tazo® Green Tea Latte",
          "Tazo® Green Tea Latte",
          "Tazo® Green Tea Latte",
          "Tazo® Green Tea Latte",
          "Tazo® Green Tea Latte",
          "Tazo® Full-Leaf Tea Latte",
          "Tazo® Full-Leaf Tea Latte",
          "Tazo® Full-Leaf Tea Latte",
          "Tazo® Full-Leaf Tea Latte",
          "Tazo® Full-Leaf Tea Latte",
          "Tazo® Full-Leaf Tea Latte",
          "Tazo® Full-Leaf Tea Latte",
          "Tazo® Full-Leaf Tea Latte",
          "Tazo® Full-Leaf Tea Latte",
          "Tazo® Full-Leaf Tea Latte",
          "Tazo® Full-Leaf Tea Latte",
          "Tazo® Full-Leaf Tea Latte",
          "Tazo® Full-Leaf Red Tea Latte (Vanilla Rooibos)",
          "Tazo® Full-Leaf Red Tea Latte (Vanilla Rooibos)",
          "Tazo® Full-Leaf Red Tea Latte (Vanilla Rooibos)",
          "Tazo® Full-Leaf Red Tea Latte (Vanilla Rooibos)",
          "Tazo® Full-Leaf Red Tea Latte (Vanilla Rooibos)",
          "Tazo® Full-Leaf Red Tea Latte (Vanilla Rooibos)",
          "Tazo® Full-Leaf Red Tea Latte (Vanilla Rooibos)",
          "Tazo® Full-Leaf Red Tea Latte (Vanilla Rooibos)",
          "Tazo® Full-Leaf Red Tea Latte (Vanilla Rooibos)",
          "Tazo® Full-Leaf Red Tea Latte (Vanilla Rooibos)",
          "Tazo® Full-Leaf Red Tea Latte (Vanilla Rooibos)",
          "Tazo® Full-Leaf Red Tea Latte (Vanilla Rooibos)",
          "Iced Brewed Coffee (With Classic Syrup)",
          "Iced Brewed Coffee (With Classic Syrup)",
          "Iced Brewed Coffee (With Classic Syrup)",
          "Iced Brewed Coffee (With Milk & Classic Syrup)",
          "Iced Brewed Coffee (With Milk & Classic Syrup)",
          "Iced Brewed Coffee (With Milk & Classic Syrup)",
          "Iced Brewed Coffee (With Milk & Classic Syrup)",
          "Iced Brewed Coffee (With Milk & Classic Syrup)",
          "Iced Brewed Coffee (With Milk & Classic Syrup)",
          "Iced Brewed Coffee (With Milk & Classic Syrup)",
          "Iced Brewed Coffee (With Milk & Classic Syrup)",
          "Iced Brewed Coffee (With Milk & Classic Syrup)",
          "Shaken Iced Tazo® Tea (With Classic Syrup)",
          "Shaken Iced Tazo® Tea (With Classic Syrup)",
          "Shaken Iced Tazo® Tea (With Classic Syrup)",
          "Shaken Iced Tazo® Tea Lemonade (With Classic Syrup)",
          "Shaken Iced Tazo® Tea Lemonade (With Classic Syrup)",
          "Shaken Iced Tazo® Tea Lemonade (With Classic Syrup)",
          "Banana Chocolate Smoothie",
          "Banana Chocolate Smoothie",
          "Banana Chocolate Smoothie",
          "Orange Mango Banana Smoothie",
          "Orange Mango Banana Smoothie",
          "Orange Mango Banana Smoothie",
          "Strawberry Banana Smoothie",
          "Strawberry Banana Smoothie",
          "Strawberry Banana Smoothie",
          "Coffee",
          "Coffee",
          "Coffee",
          "Coffee",
          "Coffee",
          "Coffee",
          "Coffee",
          "Coffee",
          "Coffee",
          "Mocha (Without Whipped Cream)",
          "Mocha (Without Whipped Cream)",
          "Mocha (Without Whipped Cream)",
          "Mocha (Without Whipped Cream)",
          "Mocha (Without Whipped Cream)",
          "Mocha (Without Whipped Cream)",
          "Mocha (Without Whipped Cream)",
          "Mocha (Without Whipped Cream)",
          "Mocha (Without Whipped Cream)",
          "Caramel (Without Whipped Cream)",
          "Caramel (Without Whipped Cream)",
          "Caramel (Without Whipped Cream)",
          "Caramel (Without Whipped Cream)",
          "Caramel (Without Whipped Cream)",
          "Caramel (Without Whipped Cream)",
          "Caramel (Without Whipped Cream)",
          "Caramel (Without Whipped Cream)",
          "Caramel (Without Whipped Cream)",
          "Java Chip (Without Whipped Cream)",
          "Java Chip (Without Whipped Cream)",
          "Java Chip (Without Whipped Cream)",
          "Java Chip (Without Whipped Cream)",
          "Java Chip (Without Whipped Cream)",
          "Java Chip (Without Whipped Cream)",
          "Java Chip (Without Whipped Cream)",
          "Java Chip (Without Whipped Cream)",
          "Java Chip (Without Whipped Cream)",
          "Coffee",
          "Coffee",
          "Coffee",
          "Mocha",
          "Mocha",
          "Mocha",
          "Caramel",
          "Caramel",
          "Caramel",
          "Java Chip",
          "Java Chip",
          "Java Chip",
          "Strawberries & Crème (Without Whipped Cream)",
          "Strawberries & Crème (Without Whipped Cream)",
          "Strawberries & Crème (Without Whipped Cream)",
          "Strawberries & Crème (Without Whipped Cream)",
          "Strawberries & Crème (Without Whipped Cream)",
          "Strawberries & Crème (Without Whipped Cream)",
          "Strawberries & Crème (Without Whipped Cream)",
          "Strawberries & Crème (Without Whipped Cream)",
          "Strawberries & Crème (Without Whipped Cream)",
          "Vanilla Bean (Without Whipped Cream)",
          "Vanilla Bean (Without Whipped Cream)",
          "Vanilla Bean (Without Whipped Cream)",
          "Vanilla Bean (Without Whipped Cream)"
         ],
         "legendgroup": "",
         "name": "",
         "showlegend": true,
         "type": "pie",
         "values": [
          3,
          4,
          5,
          5,
          70,
          100,
          70,
          100,
          150,
          110,
          130,
          190,
          150,
          170,
          240,
          190,
          110,
          130,
          110,
          170,
          200,
          180,
          220,
          260,
          230,
          280,
          340,
          290,
          100,
          130,
          110,
          150,
          200,
          160,
          200,
          250,
          210,
          250,
          320,
          270,
          5,
          10,
          15,
          25,
          50,
          80,
          50,
          60,
          90,
          70,
          80,
          120,
          100,
          110,
          150,
          120,
          5,
          10,
          60,
          100,
          120,
          160,
          100,
          120,
          100,
          140,
          180,
          150,
          190,
          240,
          200,
          240,
          300,
          250,
          180,
          200,
          180,
          270,
          310,
          280,
          350,
          400,
          370,
          450,
          510,
          460,
          130,
          150,
          130,
          190,
          230,
          200,
          240,
          290,
          250,
          320,
          380,
          330,
          140,
          210,
          280,
          360,
          0,
          0,
          0,
          0,
          100,
          120,
          110,
          160,
          190,
          160,
          210,
          240,
          220,
          260,
          310,
          280,
          130,
          170,
          140,
          210,
          260,
          230,
          290,
          350,
          310,
          370,
          450,
          390,
          80,
          90,
          80,
          120,
          140,
          130,
          150,
          190,
          170,
          190,
          230,
          210,
          80,
          90,
          80,
          120,
          140,
          130,
          150,
          190,
          170,
          190,
          230,
          210,
          60,
          90,
          130,
          80,
          90,
          80,
          110,
          120,
          110,
          160,
          180,
          170,
          60,
          80,
          120,
          100,
          130,
          190,
          280,
          300,
          290,
          260,
          270,
          270,
          290,
          290,
          290,
          160,
          180,
          160,
          220,
          240,
          220,
          310,
          350,
          310,
          180,
          200,
          180,
          260,
          290,
          260,
          340,
          390,
          350,
          180,
          200,
          180,
          280,
          280,
          260,
          330,
          370,
          340,
          220,
          240,
          220,
          310,
          340,
          310,
          420,
          460,
          430,
          90,
          120,
          160,
          110,
          150,
          210,
          100,
          150,
          200,
          150,
          220,
          290,
          170,
          190,
          170,
          230,
          260,
          240,
          310,
          350,
          320,
          170,
          200,
          180,
          240
         ]
        }
       ],
       "layout": {
        "legend": {
         "tracegroupgap": 0
        },
        "template": {
         "data": {
          "bar": [
           {
            "error_x": {
             "color": "#2a3f5f"
            },
            "error_y": {
             "color": "#2a3f5f"
            },
            "marker": {
             "line": {
              "color": "#E5ECF6",
              "width": 0.5
             },
             "pattern": {
              "fillmode": "overlay",
              "size": 10,
              "solidity": 0.2
             }
            },
            "type": "bar"
           }
          ],
          "barpolar": [
           {
            "marker": {
             "line": {
              "color": "#E5ECF6",
              "width": 0.5
             },
             "pattern": {
              "fillmode": "overlay",
              "size": 10,
              "solidity": 0.2
             }
            },
            "type": "barpolar"
           }
          ],
          "carpet": [
           {
            "aaxis": {
             "endlinecolor": "#2a3f5f",
             "gridcolor": "white",
             "linecolor": "white",
             "minorgridcolor": "white",
             "startlinecolor": "#2a3f5f"
            },
            "baxis": {
             "endlinecolor": "#2a3f5f",
             "gridcolor": "white",
             "linecolor": "white",
             "minorgridcolor": "white",
             "startlinecolor": "#2a3f5f"
            },
            "type": "carpet"
           }
          ],
          "choropleth": [
           {
            "colorbar": {
             "outlinewidth": 0,
             "ticks": ""
            },
            "type": "choropleth"
           }
          ],
          "contour": [
           {
            "colorbar": {
             "outlinewidth": 0,
             "ticks": ""
            },
            "colorscale": [
             [
              0,
              "#0d0887"
             ],
             [
              0.1111111111111111,
              "#46039f"
             ],
             [
              0.2222222222222222,
              "#7201a8"
             ],
             [
              0.3333333333333333,
              "#9c179e"
             ],
             [
              0.4444444444444444,
              "#bd3786"
             ],
             [
              0.5555555555555556,
              "#d8576b"
             ],
             [
              0.6666666666666666,
              "#ed7953"
             ],
             [
              0.7777777777777778,
              "#fb9f3a"
             ],
             [
              0.8888888888888888,
              "#fdca26"
             ],
             [
              1,
              "#f0f921"
             ]
            ],
            "type": "contour"
           }
          ],
          "contourcarpet": [
           {
            "colorbar": {
             "outlinewidth": 0,
             "ticks": ""
            },
            "type": "contourcarpet"
           }
          ],
          "heatmap": [
           {
            "colorbar": {
             "outlinewidth": 0,
             "ticks": ""
            },
            "colorscale": [
             [
              0,
              "#0d0887"
             ],
             [
              0.1111111111111111,
              "#46039f"
             ],
             [
              0.2222222222222222,
              "#7201a8"
             ],
             [
              0.3333333333333333,
              "#9c179e"
             ],
             [
              0.4444444444444444,
              "#bd3786"
             ],
             [
              0.5555555555555556,
              "#d8576b"
             ],
             [
              0.6666666666666666,
              "#ed7953"
             ],
             [
              0.7777777777777778,
              "#fb9f3a"
             ],
             [
              0.8888888888888888,
              "#fdca26"
             ],
             [
              1,
              "#f0f921"
             ]
            ],
            "type": "heatmap"
           }
          ],
          "heatmapgl": [
           {
            "colorbar": {
             "outlinewidth": 0,
             "ticks": ""
            },
            "colorscale": [
             [
              0,
              "#0d0887"
             ],
             [
              0.1111111111111111,
              "#46039f"
             ],
             [
              0.2222222222222222,
              "#7201a8"
             ],
             [
              0.3333333333333333,
              "#9c179e"
             ],
             [
              0.4444444444444444,
              "#bd3786"
             ],
             [
              0.5555555555555556,
              "#d8576b"
             ],
             [
              0.6666666666666666,
              "#ed7953"
             ],
             [
              0.7777777777777778,
              "#fb9f3a"
             ],
             [
              0.8888888888888888,
              "#fdca26"
             ],
             [
              1,
              "#f0f921"
             ]
            ],
            "type": "heatmapgl"
           }
          ],
          "histogram": [
           {
            "marker": {
             "pattern": {
              "fillmode": "overlay",
              "size": 10,
              "solidity": 0.2
             }
            },
            "type": "histogram"
           }
          ],
          "histogram2d": [
           {
            "colorbar": {
             "outlinewidth": 0,
             "ticks": ""
            },
            "colorscale": [
             [
              0,
              "#0d0887"
             ],
             [
              0.1111111111111111,
              "#46039f"
             ],
             [
              0.2222222222222222,
              "#7201a8"
             ],
             [
              0.3333333333333333,
              "#9c179e"
             ],
             [
              0.4444444444444444,
              "#bd3786"
             ],
             [
              0.5555555555555556,
              "#d8576b"
             ],
             [
              0.6666666666666666,
              "#ed7953"
             ],
             [
              0.7777777777777778,
              "#fb9f3a"
             ],
             [
              0.8888888888888888,
              "#fdca26"
             ],
             [
              1,
              "#f0f921"
             ]
            ],
            "type": "histogram2d"
           }
          ],
          "histogram2dcontour": [
           {
            "colorbar": {
             "outlinewidth": 0,
             "ticks": ""
            },
            "colorscale": [
             [
              0,
              "#0d0887"
             ],
             [
              0.1111111111111111,
              "#46039f"
             ],
             [
              0.2222222222222222,
              "#7201a8"
             ],
             [
              0.3333333333333333,
              "#9c179e"
             ],
             [
              0.4444444444444444,
              "#bd3786"
             ],
             [
              0.5555555555555556,
              "#d8576b"
             ],
             [
              0.6666666666666666,
              "#ed7953"
             ],
             [
              0.7777777777777778,
              "#fb9f3a"
             ],
             [
              0.8888888888888888,
              "#fdca26"
             ],
             [
              1,
              "#f0f921"
             ]
            ],
            "type": "histogram2dcontour"
           }
          ],
          "mesh3d": [
           {
            "colorbar": {
             "outlinewidth": 0,
             "ticks": ""
            },
            "type": "mesh3d"
           }
          ],
          "parcoords": [
           {
            "line": {
             "colorbar": {
              "outlinewidth": 0,
              "ticks": ""
             }
            },
            "type": "parcoords"
           }
          ],
          "pie": [
           {
            "automargin": true,
            "type": "pie"
           }
          ],
          "scatter": [
           {
            "fillpattern": {
             "fillmode": "overlay",
             "size": 10,
             "solidity": 0.2
            },
            "type": "scatter"
           }
          ],
          "scatter3d": [
           {
            "line": {
             "colorbar": {
              "outlinewidth": 0,
              "ticks": ""
             }
            },
            "marker": {
             "colorbar": {
              "outlinewidth": 0,
              "ticks": ""
             }
            },
            "type": "scatter3d"
           }
          ],
          "scattercarpet": [
           {
            "marker": {
             "colorbar": {
              "outlinewidth": 0,
              "ticks": ""
             }
            },
            "type": "scattercarpet"
           }
          ],
          "scattergeo": [
           {
            "marker": {
             "colorbar": {
              "outlinewidth": 0,
              "ticks": ""
             }
            },
            "type": "scattergeo"
           }
          ],
          "scattergl": [
           {
            "marker": {
             "colorbar": {
              "outlinewidth": 0,
              "ticks": ""
             }
            },
            "type": "scattergl"
           }
          ],
          "scattermapbox": [
           {
            "marker": {
             "colorbar": {
              "outlinewidth": 0,
              "ticks": ""
             }
            },
            "type": "scattermapbox"
           }
          ],
          "scatterpolar": [
           {
            "marker": {
             "colorbar": {
              "outlinewidth": 0,
              "ticks": ""
             }
            },
            "type": "scatterpolar"
           }
          ],
          "scatterpolargl": [
           {
            "marker": {
             "colorbar": {
              "outlinewidth": 0,
              "ticks": ""
             }
            },
            "type": "scatterpolargl"
           }
          ],
          "scatterternary": [
           {
            "marker": {
             "colorbar": {
              "outlinewidth": 0,
              "ticks": ""
             }
            },
            "type": "scatterternary"
           }
          ],
          "surface": [
           {
            "colorbar": {
             "outlinewidth": 0,
             "ticks": ""
            },
            "colorscale": [
             [
              0,
              "#0d0887"
             ],
             [
              0.1111111111111111,
              "#46039f"
             ],
             [
              0.2222222222222222,
              "#7201a8"
             ],
             [
              0.3333333333333333,
              "#9c179e"
             ],
             [
              0.4444444444444444,
              "#bd3786"
             ],
             [
              0.5555555555555556,
              "#d8576b"
             ],
             [
              0.6666666666666666,
              "#ed7953"
             ],
             [
              0.7777777777777778,
              "#fb9f3a"
             ],
             [
              0.8888888888888888,
              "#fdca26"
             ],
             [
              1,
              "#f0f921"
             ]
            ],
            "type": "surface"
           }
          ],
          "table": [
           {
            "cells": {
             "fill": {
              "color": "#EBF0F8"
             },
             "line": {
              "color": "white"
             }
            },
            "header": {
             "fill": {
              "color": "#C8D4E3"
             },
             "line": {
              "color": "white"
             }
            },
            "type": "table"
           }
          ]
         },
         "layout": {
          "annotationdefaults": {
           "arrowcolor": "#2a3f5f",
           "arrowhead": 0,
           "arrowwidth": 1
          },
          "autotypenumbers": "strict",
          "coloraxis": {
           "colorbar": {
            "outlinewidth": 0,
            "ticks": ""
           }
          },
          "colorscale": {
           "diverging": [
            [
             0,
             "#8e0152"
            ],
            [
             0.1,
             "#c51b7d"
            ],
            [
             0.2,
             "#de77ae"
            ],
            [
             0.3,
             "#f1b6da"
            ],
            [
             0.4,
             "#fde0ef"
            ],
            [
             0.5,
             "#f7f7f7"
            ],
            [
             0.6,
             "#e6f5d0"
            ],
            [
             0.7,
             "#b8e186"
            ],
            [
             0.8,
             "#7fbc41"
            ],
            [
             0.9,
             "#4d9221"
            ],
            [
             1,
             "#276419"
            ]
           ],
           "sequential": [
            [
             0,
             "#0d0887"
            ],
            [
             0.1111111111111111,
             "#46039f"
            ],
            [
             0.2222222222222222,
             "#7201a8"
            ],
            [
             0.3333333333333333,
             "#9c179e"
            ],
            [
             0.4444444444444444,
             "#bd3786"
            ],
            [
             0.5555555555555556,
             "#d8576b"
            ],
            [
             0.6666666666666666,
             "#ed7953"
            ],
            [
             0.7777777777777778,
             "#fb9f3a"
            ],
            [
             0.8888888888888888,
             "#fdca26"
            ],
            [
             1,
             "#f0f921"
            ]
           ],
           "sequentialminus": [
            [
             0,
             "#0d0887"
            ],
            [
             0.1111111111111111,
             "#46039f"
            ],
            [
             0.2222222222222222,
             "#7201a8"
            ],
            [
             0.3333333333333333,
             "#9c179e"
            ],
            [
             0.4444444444444444,
             "#bd3786"
            ],
            [
             0.5555555555555556,
             "#d8576b"
            ],
            [
             0.6666666666666666,
             "#ed7953"
            ],
            [
             0.7777777777777778,
             "#fb9f3a"
            ],
            [
             0.8888888888888888,
             "#fdca26"
            ],
            [
             1,
             "#f0f921"
            ]
           ]
          },
          "colorway": [
           "#636efa",
           "#EF553B",
           "#00cc96",
           "#ab63fa",
           "#FFA15A",
           "#19d3f3",
           "#FF6692",
           "#B6E880",
           "#FF97FF",
           "#FECB52"
          ],
          "font": {
           "color": "#2a3f5f"
          },
          "geo": {
           "bgcolor": "white",
           "lakecolor": "white",
           "landcolor": "#E5ECF6",
           "showlakes": true,
           "showland": true,
           "subunitcolor": "white"
          },
          "hoverlabel": {
           "align": "left"
          },
          "hovermode": "closest",
          "mapbox": {
           "style": "light"
          },
          "paper_bgcolor": "white",
          "plot_bgcolor": "#E5ECF6",
          "polar": {
           "angularaxis": {
            "gridcolor": "white",
            "linecolor": "white",
            "ticks": ""
           },
           "bgcolor": "#E5ECF6",
           "radialaxis": {
            "gridcolor": "white",
            "linecolor": "white",
            "ticks": ""
           }
          },
          "scene": {
           "xaxis": {
            "backgroundcolor": "#E5ECF6",
            "gridcolor": "white",
            "gridwidth": 2,
            "linecolor": "white",
            "showbackground": true,
            "ticks": "",
            "zerolinecolor": "white"
           },
           "yaxis": {
            "backgroundcolor": "#E5ECF6",
            "gridcolor": "white",
            "gridwidth": 2,
            "linecolor": "white",
            "showbackground": true,
            "ticks": "",
            "zerolinecolor": "white"
           },
           "zaxis": {
            "backgroundcolor": "#E5ECF6",
            "gridcolor": "white",
            "gridwidth": 2,
            "linecolor": "white",
            "showbackground": true,
            "ticks": "",
            "zerolinecolor": "white"
           }
          },
          "shapedefaults": {
           "line": {
            "color": "#2a3f5f"
           }
          },
          "ternary": {
           "aaxis": {
            "gridcolor": "white",
            "linecolor": "white",
            "ticks": ""
           },
           "baxis": {
            "gridcolor": "white",
            "linecolor": "white",
            "ticks": ""
           },
           "bgcolor": "#E5ECF6",
           "caxis": {
            "gridcolor": "white",
            "linecolor": "white",
            "ticks": ""
           }
          },
          "title": {
           "x": 0.05
          },
          "xaxis": {
           "automargin": true,
           "gridcolor": "white",
           "linecolor": "white",
           "ticks": "",
           "title": {
            "standoff": 15
           },
           "zerolinecolor": "white",
           "zerolinewidth": 2
          },
          "yaxis": {
           "automargin": true,
           "gridcolor": "white",
           "linecolor": "white",
           "ticks": "",
           "title": {
            "standoff": 15
           },
           "zerolinecolor": "white",
           "zerolinewidth": 2
          }
         }
        },
        "title": {
         "text": "Drink with Highest calories"
        }
       }
      },
      "text/html": [
       "<div>                            <div id=\"da48ee14-091c-4572-88d7-06a5d05c36ce\" class=\"plotly-graph-div\" style=\"height:525px; width:100%;\"></div>            <script type=\"text/javascript\">                require([\"plotly\"], function(Plotly) {                    window.PLOTLYENV=window.PLOTLYENV || {};                                    if (document.getElementById(\"da48ee14-091c-4572-88d7-06a5d05c36ce\")) {                    Plotly.newPlot(                        \"da48ee14-091c-4572-88d7-06a5d05c36ce\",                        [{\"domain\":{\"x\":[0.0,1.0],\"y\":[0.0,1.0]},\"hovertemplate\":\"Beverage=%{label}<br>Calories=%{value}<extra></extra>\",\"labels\":[\"Brewed Coffee\",\"Brewed Coffee\",\"Brewed Coffee\",\"Brewed Coffee\",\"Caff\\u00e8 Latte\",\"Caff\\u00e8 Latte\",\"Caff\\u00e8 Latte\",\"Caff\\u00e8 Latte\",\"Caff\\u00e8 Latte\",\"Caff\\u00e8 Latte\",\"Caff\\u00e8 Latte\",\"Caff\\u00e8 Latte\",\"Caff\\u00e8 Latte\",\"Caff\\u00e8 Latte\",\"Caff\\u00e8 Latte\",\"Caff\\u00e8 Latte\",\"Caff\\u00e8 Mocha (Without Whipped Cream)\",\"Caff\\u00e8 Mocha (Without Whipped Cream)\",\"Caff\\u00e8 Mocha (Without Whipped Cream)\",\"Caff\\u00e8 Mocha (Without Whipped Cream)\",\"Caff\\u00e8 Mocha (Without Whipped Cream)\",\"Caff\\u00e8 Mocha (Without Whipped Cream)\",\"Caff\\u00e8 Mocha (Without Whipped Cream)\",\"Caff\\u00e8 Mocha (Without Whipped Cream)\",\"Caff\\u00e8 Mocha (Without Whipped Cream)\",\"Caff\\u00e8 Mocha (Without Whipped Cream)\",\"Caff\\u00e8 Mocha (Without Whipped Cream)\",\"Caff\\u00e8 Mocha (Without Whipped Cream)\",\"Vanilla Latte (Or Other Flavoured Latte)\",\"Vanilla Latte (Or Other Flavoured Latte)\",\"Vanilla Latte (Or Other Flavoured Latte)\",\"Vanilla Latte (Or Other Flavoured Latte)\",\"Vanilla Latte (Or Other Flavoured Latte)\",\"Vanilla Latte (Or Other Flavoured Latte)\",\"Vanilla Latte (Or Other Flavoured Latte)\",\"Vanilla Latte (Or Other Flavoured Latte)\",\"Vanilla Latte (Or Other Flavoured Latte)\",\"Vanilla Latte (Or Other Flavoured Latte)\",\"Vanilla Latte (Or Other Flavoured Latte)\",\"Vanilla Latte (Or Other Flavoured Latte)\",\"Caff\\u00e8 Americano\",\"Caff\\u00e8 Americano\",\"Caff\\u00e8 Americano\",\"Caff\\u00e8 Americano\",\"Cappuccino\",\"Cappuccino\",\"Cappuccino\",\"Cappuccino\",\"Cappuccino\",\"Cappuccino\",\"Cappuccino\",\"Cappuccino\",\"Cappuccino\",\"Cappuccino\",\"Cappuccino\",\"Cappuccino\",\"Espresso\",\"Espresso\",\"Skinny Latte (Any Flavour)\",\"Skinny Latte (Any Flavour)\",\"Skinny Latte (Any Flavour)\",\"Skinny Latte (Any Flavour)\",\"Caramel Macchiato\",\"Caramel Macchiato\",\"Caramel Macchiato\",\"Caramel Macchiato\",\"Caramel Macchiato\",\"Caramel Macchiato\",\"Caramel Macchiato\",\"Caramel Macchiato\",\"Caramel Macchiato\",\"Caramel Macchiato\",\"Caramel Macchiato\",\"Caramel Macchiato\",\"White Chocolate Mocha (Without Whipped Cream)\",\"White Chocolate Mocha (Without Whipped Cream)\",\"White Chocolate Mocha (Without Whipped Cream)\",\"White Chocolate Mocha (Without Whipped Cream)\",\"White Chocolate Mocha (Without Whipped Cream)\",\"White Chocolate Mocha (Without Whipped Cream)\",\"White Chocolate Mocha (Without Whipped Cream)\",\"White Chocolate Mocha (Without Whipped Cream)\",\"White Chocolate Mocha (Without Whipped Cream)\",\"White Chocolate Mocha (Without Whipped Cream)\",\"White Chocolate Mocha (Without Whipped Cream)\",\"White Chocolate Mocha (Without Whipped Cream)\",\"Hot Chocolate (Without Whipped Cream)\",\"Hot Chocolate (Without Whipped Cream)\",\"Hot Chocolate (Without Whipped Cream)\",\"Hot Chocolate (Without Whipped Cream)\",\"Hot Chocolate (Without Whipped Cream)\",\"Hot Chocolate (Without Whipped Cream)\",\"Hot Chocolate (Without Whipped Cream)\",\"Hot Chocolate (Without Whipped Cream)\",\"Hot Chocolate (Without Whipped Cream)\",\"Hot Chocolate (Without Whipped Cream)\",\"Hot Chocolate (Without Whipped Cream)\",\"Hot Chocolate (Without Whipped Cream)\",\"Caramel Apple Spice (Without Whipped Cream)\",\"Caramel Apple Spice (Without Whipped Cream)\",\"Caramel Apple Spice (Without Whipped Cream)\",\"Caramel Apple Spice (Without Whipped Cream)\",\"Tazo\\u00ae Tea\",\"Tazo\\u00ae Tea\",\"Tazo\\u00ae Tea\",\"Tazo\\u00ae Tea\",\"Tazo\\u00ae Chai Tea Latte\",\"Tazo\\u00ae Chai Tea Latte\",\"Tazo\\u00ae Chai Tea Latte\",\"Tazo\\u00ae Chai Tea Latte\",\"Tazo\\u00ae Chai Tea Latte\",\"Tazo\\u00ae Chai Tea Latte\",\"Tazo\\u00ae Chai Tea Latte\",\"Tazo\\u00ae Chai Tea Latte\",\"Tazo\\u00ae Chai Tea Latte\",\"Tazo\\u00ae Chai Tea Latte\",\"Tazo\\u00ae Chai Tea Latte\",\"Tazo\\u00ae Chai Tea Latte\",\"Tazo\\u00ae Green Tea Latte\",\"Tazo\\u00ae Green Tea Latte\",\"Tazo\\u00ae Green Tea Latte\",\"Tazo\\u00ae Green Tea Latte\",\"Tazo\\u00ae Green Tea Latte\",\"Tazo\\u00ae Green Tea Latte\",\"Tazo\\u00ae Green Tea Latte\",\"Tazo\\u00ae Green Tea Latte\",\"Tazo\\u00ae Green Tea Latte\",\"Tazo\\u00ae Green Tea Latte\",\"Tazo\\u00ae Green Tea Latte\",\"Tazo\\u00ae Green Tea Latte\",\"Tazo\\u00ae Full-Leaf Tea Latte\",\"Tazo\\u00ae Full-Leaf Tea Latte\",\"Tazo\\u00ae Full-Leaf Tea Latte\",\"Tazo\\u00ae Full-Leaf Tea Latte\",\"Tazo\\u00ae Full-Leaf Tea Latte\",\"Tazo\\u00ae Full-Leaf Tea Latte\",\"Tazo\\u00ae Full-Leaf Tea Latte\",\"Tazo\\u00ae Full-Leaf Tea Latte\",\"Tazo\\u00ae Full-Leaf Tea Latte\",\"Tazo\\u00ae Full-Leaf Tea Latte\",\"Tazo\\u00ae Full-Leaf Tea Latte\",\"Tazo\\u00ae Full-Leaf Tea Latte\",\"Tazo\\u00ae Full-Leaf Red Tea Latte (Vanilla Rooibos)\",\"Tazo\\u00ae Full-Leaf Red Tea Latte (Vanilla Rooibos)\",\"Tazo\\u00ae Full-Leaf Red Tea Latte (Vanilla Rooibos)\",\"Tazo\\u00ae Full-Leaf Red Tea Latte (Vanilla Rooibos)\",\"Tazo\\u00ae Full-Leaf Red Tea Latte (Vanilla Rooibos)\",\"Tazo\\u00ae Full-Leaf Red Tea Latte (Vanilla Rooibos)\",\"Tazo\\u00ae Full-Leaf Red Tea Latte (Vanilla Rooibos)\",\"Tazo\\u00ae Full-Leaf Red Tea Latte (Vanilla Rooibos)\",\"Tazo\\u00ae Full-Leaf Red Tea Latte (Vanilla Rooibos)\",\"Tazo\\u00ae Full-Leaf Red Tea Latte (Vanilla Rooibos)\",\"Tazo\\u00ae Full-Leaf Red Tea Latte (Vanilla Rooibos)\",\"Tazo\\u00ae Full-Leaf Red Tea Latte (Vanilla Rooibos)\",\"Iced Brewed Coffee (With Classic Syrup)\",\"Iced Brewed Coffee (With Classic Syrup)\",\"Iced Brewed Coffee (With Classic Syrup)\",\"Iced Brewed Coffee (With Milk & Classic Syrup)\",\"Iced Brewed Coffee (With Milk & Classic Syrup)\",\"Iced Brewed Coffee (With Milk & Classic Syrup)\",\"Iced Brewed Coffee (With Milk & Classic Syrup)\",\"Iced Brewed Coffee (With Milk & Classic Syrup)\",\"Iced Brewed Coffee (With Milk & Classic Syrup)\",\"Iced Brewed Coffee (With Milk & Classic Syrup)\",\"Iced Brewed Coffee (With Milk & Classic Syrup)\",\"Iced Brewed Coffee (With Milk & Classic Syrup)\",\"Shaken Iced Tazo\\u00ae Tea (With Classic Syrup)\",\"Shaken Iced Tazo\\u00ae Tea (With Classic Syrup)\",\"Shaken Iced Tazo\\u00ae Tea (With Classic Syrup)\",\"Shaken Iced Tazo\\u00ae Tea Lemonade (With Classic Syrup)\",\"Shaken Iced Tazo\\u00ae Tea Lemonade (With Classic Syrup)\",\"Shaken Iced Tazo\\u00ae Tea Lemonade (With Classic Syrup)\",\"Banana Chocolate Smoothie\",\"Banana Chocolate Smoothie\",\"Banana Chocolate Smoothie\",\"Orange Mango Banana Smoothie\",\"Orange Mango Banana Smoothie\",\"Orange Mango Banana Smoothie\",\"Strawberry Banana Smoothie\",\"Strawberry Banana Smoothie\",\"Strawberry Banana Smoothie\",\"Coffee\",\"Coffee\",\"Coffee\",\"Coffee\",\"Coffee\",\"Coffee\",\"Coffee\",\"Coffee\",\"Coffee\",\"Mocha (Without Whipped Cream)\",\"Mocha (Without Whipped Cream)\",\"Mocha (Without Whipped Cream)\",\"Mocha (Without Whipped Cream)\",\"Mocha (Without Whipped Cream)\",\"Mocha (Without Whipped Cream)\",\"Mocha (Without Whipped Cream)\",\"Mocha (Without Whipped Cream)\",\"Mocha (Without Whipped Cream)\",\"Caramel (Without Whipped Cream)\",\"Caramel (Without Whipped Cream)\",\"Caramel (Without Whipped Cream)\",\"Caramel (Without Whipped Cream)\",\"Caramel (Without Whipped Cream)\",\"Caramel (Without Whipped Cream)\",\"Caramel (Without Whipped Cream)\",\"Caramel (Without Whipped Cream)\",\"Caramel (Without Whipped Cream)\",\"Java Chip (Without Whipped Cream)\",\"Java Chip (Without Whipped Cream)\",\"Java Chip (Without Whipped Cream)\",\"Java Chip (Without Whipped Cream)\",\"Java Chip (Without Whipped Cream)\",\"Java Chip (Without Whipped Cream)\",\"Java Chip (Without Whipped Cream)\",\"Java Chip (Without Whipped Cream)\",\"Java Chip (Without Whipped Cream)\",\"Coffee\",\"Coffee\",\"Coffee\",\"Mocha\",\"Mocha\",\"Mocha\",\"Caramel\",\"Caramel\",\"Caramel\",\"Java Chip\",\"Java Chip\",\"Java Chip\",\"Strawberries & Cr\\u00e8me (Without Whipped Cream)\",\"Strawberries & Cr\\u00e8me (Without Whipped Cream)\",\"Strawberries & Cr\\u00e8me (Without Whipped Cream)\",\"Strawberries & Cr\\u00e8me (Without Whipped Cream)\",\"Strawberries & Cr\\u00e8me (Without Whipped Cream)\",\"Strawberries & Cr\\u00e8me (Without Whipped Cream)\",\"Strawberries & Cr\\u00e8me (Without Whipped Cream)\",\"Strawberries & Cr\\u00e8me (Without Whipped Cream)\",\"Strawberries & Cr\\u00e8me (Without Whipped Cream)\",\"Vanilla Bean (Without Whipped Cream)\",\"Vanilla Bean (Without Whipped Cream)\",\"Vanilla Bean (Without Whipped Cream)\",\"Vanilla Bean (Without Whipped Cream)\"],\"legendgroup\":\"\",\"name\":\"\",\"showlegend\":true,\"values\":[3,4,5,5,70,100,70,100,150,110,130,190,150,170,240,190,110,130,110,170,200,180,220,260,230,280,340,290,100,130,110,150,200,160,200,250,210,250,320,270,5,10,15,25,50,80,50,60,90,70,80,120,100,110,150,120,5,10,60,100,120,160,100,120,100,140,180,150,190,240,200,240,300,250,180,200,180,270,310,280,350,400,370,450,510,460,130,150,130,190,230,200,240,290,250,320,380,330,140,210,280,360,0,0,0,0,100,120,110,160,190,160,210,240,220,260,310,280,130,170,140,210,260,230,290,350,310,370,450,390,80,90,80,120,140,130,150,190,170,190,230,210,80,90,80,120,140,130,150,190,170,190,230,210,60,90,130,80,90,80,110,120,110,160,180,170,60,80,120,100,130,190,280,300,290,260,270,270,290,290,290,160,180,160,220,240,220,310,350,310,180,200,180,260,290,260,340,390,350,180,200,180,280,280,260,330,370,340,220,240,220,310,340,310,420,460,430,90,120,160,110,150,210,100,150,200,150,220,290,170,190,170,230,260,240,310,350,320,170,200,180,240],\"type\":\"pie\"}],                        {\"template\":{\"data\":{\"histogram2dcontour\":[{\"type\":\"histogram2dcontour\",\"colorbar\":{\"outlinewidth\":0,\"ticks\":\"\"},\"colorscale\":[[0.0,\"#0d0887\"],[0.1111111111111111,\"#46039f\"],[0.2222222222222222,\"#7201a8\"],[0.3333333333333333,\"#9c179e\"],[0.4444444444444444,\"#bd3786\"],[0.5555555555555556,\"#d8576b\"],[0.6666666666666666,\"#ed7953\"],[0.7777777777777778,\"#fb9f3a\"],[0.8888888888888888,\"#fdca26\"],[1.0,\"#f0f921\"]]}],\"choropleth\":[{\"type\":\"choropleth\",\"colorbar\":{\"outlinewidth\":0,\"ticks\":\"\"}}],\"histogram2d\":[{\"type\":\"histogram2d\",\"colorbar\":{\"outlinewidth\":0,\"ticks\":\"\"},\"colorscale\":[[0.0,\"#0d0887\"],[0.1111111111111111,\"#46039f\"],[0.2222222222222222,\"#7201a8\"],[0.3333333333333333,\"#9c179e\"],[0.4444444444444444,\"#bd3786\"],[0.5555555555555556,\"#d8576b\"],[0.6666666666666666,\"#ed7953\"],[0.7777777777777778,\"#fb9f3a\"],[0.8888888888888888,\"#fdca26\"],[1.0,\"#f0f921\"]]}],\"heatmap\":[{\"type\":\"heatmap\",\"colorbar\":{\"outlinewidth\":0,\"ticks\":\"\"},\"colorscale\":[[0.0,\"#0d0887\"],[0.1111111111111111,\"#46039f\"],[0.2222222222222222,\"#7201a8\"],[0.3333333333333333,\"#9c179e\"],[0.4444444444444444,\"#bd3786\"],[0.5555555555555556,\"#d8576b\"],[0.6666666666666666,\"#ed7953\"],[0.7777777777777778,\"#fb9f3a\"],[0.8888888888888888,\"#fdca26\"],[1.0,\"#f0f921\"]]}],\"heatmapgl\":[{\"type\":\"heatmapgl\",\"colorbar\":{\"outlinewidth\":0,\"ticks\":\"\"},\"colorscale\":[[0.0,\"#0d0887\"],[0.1111111111111111,\"#46039f\"],[0.2222222222222222,\"#7201a8\"],[0.3333333333333333,\"#9c179e\"],[0.4444444444444444,\"#bd3786\"],[0.5555555555555556,\"#d8576b\"],[0.6666666666666666,\"#ed7953\"],[0.7777777777777778,\"#fb9f3a\"],[0.8888888888888888,\"#fdca26\"],[1.0,\"#f0f921\"]]}],\"contourcarpet\":[{\"type\":\"contourcarpet\",\"colorbar\":{\"outlinewidth\":0,\"ticks\":\"\"}}],\"contour\":[{\"type\":\"contour\",\"colorbar\":{\"outlinewidth\":0,\"ticks\":\"\"},\"colorscale\":[[0.0,\"#0d0887\"],[0.1111111111111111,\"#46039f\"],[0.2222222222222222,\"#7201a8\"],[0.3333333333333333,\"#9c179e\"],[0.4444444444444444,\"#bd3786\"],[0.5555555555555556,\"#d8576b\"],[0.6666666666666666,\"#ed7953\"],[0.7777777777777778,\"#fb9f3a\"],[0.8888888888888888,\"#fdca26\"],[1.0,\"#f0f921\"]]}],\"surface\":[{\"type\":\"surface\",\"colorbar\":{\"outlinewidth\":0,\"ticks\":\"\"},\"colorscale\":[[0.0,\"#0d0887\"],[0.1111111111111111,\"#46039f\"],[0.2222222222222222,\"#7201a8\"],[0.3333333333333333,\"#9c179e\"],[0.4444444444444444,\"#bd3786\"],[0.5555555555555556,\"#d8576b\"],[0.6666666666666666,\"#ed7953\"],[0.7777777777777778,\"#fb9f3a\"],[0.8888888888888888,\"#fdca26\"],[1.0,\"#f0f921\"]]}],\"mesh3d\":[{\"type\":\"mesh3d\",\"colorbar\":{\"outlinewidth\":0,\"ticks\":\"\"}}],\"scatter\":[{\"fillpattern\":{\"fillmode\":\"overlay\",\"size\":10,\"solidity\":0.2},\"type\":\"scatter\"}],\"parcoords\":[{\"type\":\"parcoords\",\"line\":{\"colorbar\":{\"outlinewidth\":0,\"ticks\":\"\"}}}],\"scatterpolargl\":[{\"type\":\"scatterpolargl\",\"marker\":{\"colorbar\":{\"outlinewidth\":0,\"ticks\":\"\"}}}],\"bar\":[{\"error_x\":{\"color\":\"#2a3f5f\"},\"error_y\":{\"color\":\"#2a3f5f\"},\"marker\":{\"line\":{\"color\":\"#E5ECF6\",\"width\":0.5},\"pattern\":{\"fillmode\":\"overlay\",\"size\":10,\"solidity\":0.2}},\"type\":\"bar\"}],\"scattergeo\":[{\"type\":\"scattergeo\",\"marker\":{\"colorbar\":{\"outlinewidth\":0,\"ticks\":\"\"}}}],\"scatterpolar\":[{\"type\":\"scatterpolar\",\"marker\":{\"colorbar\":{\"outlinewidth\":0,\"ticks\":\"\"}}}],\"histogram\":[{\"marker\":{\"pattern\":{\"fillmode\":\"overlay\",\"size\":10,\"solidity\":0.2}},\"type\":\"histogram\"}],\"scattergl\":[{\"type\":\"scattergl\",\"marker\":{\"colorbar\":{\"outlinewidth\":0,\"ticks\":\"\"}}}],\"scatter3d\":[{\"type\":\"scatter3d\",\"line\":{\"colorbar\":{\"outlinewidth\":0,\"ticks\":\"\"}},\"marker\":{\"colorbar\":{\"outlinewidth\":0,\"ticks\":\"\"}}}],\"scattermapbox\":[{\"type\":\"scattermapbox\",\"marker\":{\"colorbar\":{\"outlinewidth\":0,\"ticks\":\"\"}}}],\"scatterternary\":[{\"type\":\"scatterternary\",\"marker\":{\"colorbar\":{\"outlinewidth\":0,\"ticks\":\"\"}}}],\"scattercarpet\":[{\"type\":\"scattercarpet\",\"marker\":{\"colorbar\":{\"outlinewidth\":0,\"ticks\":\"\"}}}],\"carpet\":[{\"aaxis\":{\"endlinecolor\":\"#2a3f5f\",\"gridcolor\":\"white\",\"linecolor\":\"white\",\"minorgridcolor\":\"white\",\"startlinecolor\":\"#2a3f5f\"},\"baxis\":{\"endlinecolor\":\"#2a3f5f\",\"gridcolor\":\"white\",\"linecolor\":\"white\",\"minorgridcolor\":\"white\",\"startlinecolor\":\"#2a3f5f\"},\"type\":\"carpet\"}],\"table\":[{\"cells\":{\"fill\":{\"color\":\"#EBF0F8\"},\"line\":{\"color\":\"white\"}},\"header\":{\"fill\":{\"color\":\"#C8D4E3\"},\"line\":{\"color\":\"white\"}},\"type\":\"table\"}],\"barpolar\":[{\"marker\":{\"line\":{\"color\":\"#E5ECF6\",\"width\":0.5},\"pattern\":{\"fillmode\":\"overlay\",\"size\":10,\"solidity\":0.2}},\"type\":\"barpolar\"}],\"pie\":[{\"automargin\":true,\"type\":\"pie\"}]},\"layout\":{\"autotypenumbers\":\"strict\",\"colorway\":[\"#636efa\",\"#EF553B\",\"#00cc96\",\"#ab63fa\",\"#FFA15A\",\"#19d3f3\",\"#FF6692\",\"#B6E880\",\"#FF97FF\",\"#FECB52\"],\"font\":{\"color\":\"#2a3f5f\"},\"hovermode\":\"closest\",\"hoverlabel\":{\"align\":\"left\"},\"paper_bgcolor\":\"white\",\"plot_bgcolor\":\"#E5ECF6\",\"polar\":{\"bgcolor\":\"#E5ECF6\",\"angularaxis\":{\"gridcolor\":\"white\",\"linecolor\":\"white\",\"ticks\":\"\"},\"radialaxis\":{\"gridcolor\":\"white\",\"linecolor\":\"white\",\"ticks\":\"\"}},\"ternary\":{\"bgcolor\":\"#E5ECF6\",\"aaxis\":{\"gridcolor\":\"white\",\"linecolor\":\"white\",\"ticks\":\"\"},\"baxis\":{\"gridcolor\":\"white\",\"linecolor\":\"white\",\"ticks\":\"\"},\"caxis\":{\"gridcolor\":\"white\",\"linecolor\":\"white\",\"ticks\":\"\"}},\"coloraxis\":{\"colorbar\":{\"outlinewidth\":0,\"ticks\":\"\"}},\"colorscale\":{\"sequential\":[[0.0,\"#0d0887\"],[0.1111111111111111,\"#46039f\"],[0.2222222222222222,\"#7201a8\"],[0.3333333333333333,\"#9c179e\"],[0.4444444444444444,\"#bd3786\"],[0.5555555555555556,\"#d8576b\"],[0.6666666666666666,\"#ed7953\"],[0.7777777777777778,\"#fb9f3a\"],[0.8888888888888888,\"#fdca26\"],[1.0,\"#f0f921\"]],\"sequentialminus\":[[0.0,\"#0d0887\"],[0.1111111111111111,\"#46039f\"],[0.2222222222222222,\"#7201a8\"],[0.3333333333333333,\"#9c179e\"],[0.4444444444444444,\"#bd3786\"],[0.5555555555555556,\"#d8576b\"],[0.6666666666666666,\"#ed7953\"],[0.7777777777777778,\"#fb9f3a\"],[0.8888888888888888,\"#fdca26\"],[1.0,\"#f0f921\"]],\"diverging\":[[0,\"#8e0152\"],[0.1,\"#c51b7d\"],[0.2,\"#de77ae\"],[0.3,\"#f1b6da\"],[0.4,\"#fde0ef\"],[0.5,\"#f7f7f7\"],[0.6,\"#e6f5d0\"],[0.7,\"#b8e186\"],[0.8,\"#7fbc41\"],[0.9,\"#4d9221\"],[1,\"#276419\"]]},\"xaxis\":{\"gridcolor\":\"white\",\"linecolor\":\"white\",\"ticks\":\"\",\"title\":{\"standoff\":15},\"zerolinecolor\":\"white\",\"automargin\":true,\"zerolinewidth\":2},\"yaxis\":{\"gridcolor\":\"white\",\"linecolor\":\"white\",\"ticks\":\"\",\"title\":{\"standoff\":15},\"zerolinecolor\":\"white\",\"automargin\":true,\"zerolinewidth\":2},\"scene\":{\"xaxis\":{\"backgroundcolor\":\"#E5ECF6\",\"gridcolor\":\"white\",\"linecolor\":\"white\",\"showbackground\":true,\"ticks\":\"\",\"zerolinecolor\":\"white\",\"gridwidth\":2},\"yaxis\":{\"backgroundcolor\":\"#E5ECF6\",\"gridcolor\":\"white\",\"linecolor\":\"white\",\"showbackground\":true,\"ticks\":\"\",\"zerolinecolor\":\"white\",\"gridwidth\":2},\"zaxis\":{\"backgroundcolor\":\"#E5ECF6\",\"gridcolor\":\"white\",\"linecolor\":\"white\",\"showbackground\":true,\"ticks\":\"\",\"zerolinecolor\":\"white\",\"gridwidth\":2}},\"shapedefaults\":{\"line\":{\"color\":\"#2a3f5f\"}},\"annotationdefaults\":{\"arrowcolor\":\"#2a3f5f\",\"arrowhead\":0,\"arrowwidth\":1},\"geo\":{\"bgcolor\":\"white\",\"landcolor\":\"#E5ECF6\",\"subunitcolor\":\"white\",\"showland\":true,\"showlakes\":true,\"lakecolor\":\"white\"},\"title\":{\"x\":0.05},\"mapbox\":{\"style\":\"light\"}}},\"legend\":{\"tracegroupgap\":0},\"title\":{\"text\":\"Drink with Highest calories\"}},                        {\"responsive\": true}                    ).then(function(){\n",
       "                            \n",
       "var gd = document.getElementById('da48ee14-091c-4572-88d7-06a5d05c36ce');\n",
       "var x = new MutationObserver(function (mutations, observer) {{\n",
       "        var display = window.getComputedStyle(gd).display;\n",
       "        if (!display || display === 'none') {{\n",
       "            console.log([gd, 'removed!']);\n",
       "            Plotly.purge(gd);\n",
       "            observer.disconnect();\n",
       "        }}\n",
       "}});\n",
       "\n",
       "// Listen for the removal of the full notebook cells\n",
       "var notebookContainer = gd.closest('#notebook-container');\n",
       "if (notebookContainer) {{\n",
       "    x.observe(notebookContainer, {childList: true});\n",
       "}}\n",
       "\n",
       "// Listen for the clearing of the current output cell\n",
       "var outputEl = gd.closest('.output');\n",
       "if (outputEl) {{\n",
       "    x.observe(outputEl, {childList: true});\n",
       "}}\n",
       "\n",
       "                        })                };                });            </script>        </div>"
      ]
     },
     "metadata": {},
     "output_type": "display_data"
    }
   ],
   "source": [
    "import plotly.express as px\n",
    "fig = px.pie(df, values='Calories', names='Beverage', title='Drink with Highest calories')\n",
    "fig.show()"
   ]
  },
  {
   "cell_type": "code",
   "execution_count": 74,
   "id": "e14c9a54",
   "metadata": {},
   "outputs": [
    {
     "data": {
      "application/vnd.plotly.v1+json": {
       "config": {
        "plotlyServerURL": "https://plot.ly"
       },
       "data": [
        {
         "domain": {
          "x": [
           0,
           1
          ],
          "y": [
           0,
           1
          ]
         },
         "hovertemplate": "Beverage=%{label}<br>Calories=%{value}<extra></extra>",
         "labels": [
          "Brewed Coffee",
          "Brewed Coffee",
          "Brewed Coffee",
          "Brewed Coffee",
          "Caffè Latte",
          "Caffè Latte",
          "Caffè Latte",
          "Caffè Latte",
          "Caffè Latte",
          "Caffè Latte",
          "Caffè Latte",
          "Caffè Latte",
          "Caffè Latte",
          "Caffè Latte",
          "Caffè Latte",
          "Caffè Latte",
          "Caffè Mocha (Without Whipped Cream)",
          "Caffè Mocha (Without Whipped Cream)",
          "Caffè Mocha (Without Whipped Cream)",
          "Caffè Mocha (Without Whipped Cream)",
          "Caffè Mocha (Without Whipped Cream)",
          "Caffè Mocha (Without Whipped Cream)",
          "Caffè Mocha (Without Whipped Cream)",
          "Caffè Mocha (Without Whipped Cream)",
          "Caffè Mocha (Without Whipped Cream)",
          "Caffè Mocha (Without Whipped Cream)",
          "Caffè Mocha (Without Whipped Cream)",
          "Caffè Mocha (Without Whipped Cream)",
          "Vanilla Latte (Or Other Flavoured Latte)",
          "Vanilla Latte (Or Other Flavoured Latte)",
          "Vanilla Latte (Or Other Flavoured Latte)",
          "Vanilla Latte (Or Other Flavoured Latte)",
          "Vanilla Latte (Or Other Flavoured Latte)",
          "Vanilla Latte (Or Other Flavoured Latte)",
          "Vanilla Latte (Or Other Flavoured Latte)",
          "Vanilla Latte (Or Other Flavoured Latte)",
          "Vanilla Latte (Or Other Flavoured Latte)",
          "Vanilla Latte (Or Other Flavoured Latte)",
          "Vanilla Latte (Or Other Flavoured Latte)",
          "Vanilla Latte (Or Other Flavoured Latte)",
          "Caffè Americano",
          "Caffè Americano",
          "Caffè Americano",
          "Caffè Americano",
          "Cappuccino",
          "Cappuccino",
          "Cappuccino",
          "Cappuccino",
          "Cappuccino",
          "Cappuccino",
          "Cappuccino",
          "Cappuccino",
          "Cappuccino",
          "Cappuccino",
          "Cappuccino",
          "Cappuccino",
          "Espresso",
          "Espresso",
          "Skinny Latte (Any Flavour)",
          "Skinny Latte (Any Flavour)",
          "Skinny Latte (Any Flavour)",
          "Skinny Latte (Any Flavour)",
          "Caramel Macchiato",
          "Caramel Macchiato",
          "Caramel Macchiato",
          "Caramel Macchiato",
          "Caramel Macchiato",
          "Caramel Macchiato",
          "Caramel Macchiato",
          "Caramel Macchiato",
          "Caramel Macchiato",
          "Caramel Macchiato",
          "Caramel Macchiato",
          "Caramel Macchiato",
          "White Chocolate Mocha (Without Whipped Cream)",
          "White Chocolate Mocha (Without Whipped Cream)",
          "White Chocolate Mocha (Without Whipped Cream)",
          "White Chocolate Mocha (Without Whipped Cream)",
          "White Chocolate Mocha (Without Whipped Cream)",
          "White Chocolate Mocha (Without Whipped Cream)",
          "White Chocolate Mocha (Without Whipped Cream)",
          "White Chocolate Mocha (Without Whipped Cream)",
          "White Chocolate Mocha (Without Whipped Cream)",
          "White Chocolate Mocha (Without Whipped Cream)",
          "White Chocolate Mocha (Without Whipped Cream)",
          "White Chocolate Mocha (Without Whipped Cream)",
          "Hot Chocolate (Without Whipped Cream)",
          "Hot Chocolate (Without Whipped Cream)",
          "Hot Chocolate (Without Whipped Cream)",
          "Hot Chocolate (Without Whipped Cream)",
          "Hot Chocolate (Without Whipped Cream)",
          "Hot Chocolate (Without Whipped Cream)",
          "Hot Chocolate (Without Whipped Cream)",
          "Hot Chocolate (Without Whipped Cream)",
          "Hot Chocolate (Without Whipped Cream)",
          "Hot Chocolate (Without Whipped Cream)",
          "Hot Chocolate (Without Whipped Cream)",
          "Hot Chocolate (Without Whipped Cream)",
          "Caramel Apple Spice (Without Whipped Cream)",
          "Caramel Apple Spice (Without Whipped Cream)",
          "Caramel Apple Spice (Without Whipped Cream)",
          "Caramel Apple Spice (Without Whipped Cream)",
          "Tazo® Tea",
          "Tazo® Tea",
          "Tazo® Tea",
          "Tazo® Tea",
          "Tazo® Chai Tea Latte",
          "Tazo® Chai Tea Latte",
          "Tazo® Chai Tea Latte",
          "Tazo® Chai Tea Latte",
          "Tazo® Chai Tea Latte",
          "Tazo® Chai Tea Latte",
          "Tazo® Chai Tea Latte",
          "Tazo® Chai Tea Latte",
          "Tazo® Chai Tea Latte",
          "Tazo® Chai Tea Latte",
          "Tazo® Chai Tea Latte",
          "Tazo® Chai Tea Latte",
          "Tazo® Green Tea Latte",
          "Tazo® Green Tea Latte",
          "Tazo® Green Tea Latte",
          "Tazo® Green Tea Latte",
          "Tazo® Green Tea Latte",
          "Tazo® Green Tea Latte",
          "Tazo® Green Tea Latte",
          "Tazo® Green Tea Latte",
          "Tazo® Green Tea Latte",
          "Tazo® Green Tea Latte",
          "Tazo® Green Tea Latte",
          "Tazo® Green Tea Latte",
          "Tazo® Full-Leaf Tea Latte",
          "Tazo® Full-Leaf Tea Latte",
          "Tazo® Full-Leaf Tea Latte",
          "Tazo® Full-Leaf Tea Latte",
          "Tazo® Full-Leaf Tea Latte",
          "Tazo® Full-Leaf Tea Latte",
          "Tazo® Full-Leaf Tea Latte",
          "Tazo® Full-Leaf Tea Latte",
          "Tazo® Full-Leaf Tea Latte",
          "Tazo® Full-Leaf Tea Latte",
          "Tazo® Full-Leaf Tea Latte",
          "Tazo® Full-Leaf Tea Latte",
          "Tazo® Full-Leaf Red Tea Latte (Vanilla Rooibos)",
          "Tazo® Full-Leaf Red Tea Latte (Vanilla Rooibos)",
          "Tazo® Full-Leaf Red Tea Latte (Vanilla Rooibos)",
          "Tazo® Full-Leaf Red Tea Latte (Vanilla Rooibos)",
          "Tazo® Full-Leaf Red Tea Latte (Vanilla Rooibos)",
          "Tazo® Full-Leaf Red Tea Latte (Vanilla Rooibos)",
          "Tazo® Full-Leaf Red Tea Latte (Vanilla Rooibos)",
          "Tazo® Full-Leaf Red Tea Latte (Vanilla Rooibos)",
          "Tazo® Full-Leaf Red Tea Latte (Vanilla Rooibos)",
          "Tazo® Full-Leaf Red Tea Latte (Vanilla Rooibos)",
          "Tazo® Full-Leaf Red Tea Latte (Vanilla Rooibos)",
          "Tazo® Full-Leaf Red Tea Latte (Vanilla Rooibos)",
          "Iced Brewed Coffee (With Classic Syrup)",
          "Iced Brewed Coffee (With Classic Syrup)",
          "Iced Brewed Coffee (With Classic Syrup)",
          "Iced Brewed Coffee (With Milk & Classic Syrup)",
          "Iced Brewed Coffee (With Milk & Classic Syrup)",
          "Iced Brewed Coffee (With Milk & Classic Syrup)",
          "Iced Brewed Coffee (With Milk & Classic Syrup)",
          "Iced Brewed Coffee (With Milk & Classic Syrup)",
          "Iced Brewed Coffee (With Milk & Classic Syrup)",
          "Iced Brewed Coffee (With Milk & Classic Syrup)",
          "Iced Brewed Coffee (With Milk & Classic Syrup)",
          "Iced Brewed Coffee (With Milk & Classic Syrup)",
          "Shaken Iced Tazo® Tea (With Classic Syrup)",
          "Shaken Iced Tazo® Tea (With Classic Syrup)",
          "Shaken Iced Tazo® Tea (With Classic Syrup)",
          "Shaken Iced Tazo® Tea Lemonade (With Classic Syrup)",
          "Shaken Iced Tazo® Tea Lemonade (With Classic Syrup)",
          "Shaken Iced Tazo® Tea Lemonade (With Classic Syrup)",
          "Banana Chocolate Smoothie",
          "Banana Chocolate Smoothie",
          "Banana Chocolate Smoothie",
          "Orange Mango Banana Smoothie",
          "Orange Mango Banana Smoothie",
          "Orange Mango Banana Smoothie",
          "Strawberry Banana Smoothie",
          "Strawberry Banana Smoothie",
          "Strawberry Banana Smoothie",
          "Coffee",
          "Coffee",
          "Coffee",
          "Coffee",
          "Coffee",
          "Coffee",
          "Coffee",
          "Coffee",
          "Coffee",
          "Mocha (Without Whipped Cream)",
          "Mocha (Without Whipped Cream)",
          "Mocha (Without Whipped Cream)",
          "Mocha (Without Whipped Cream)",
          "Mocha (Without Whipped Cream)",
          "Mocha (Without Whipped Cream)",
          "Mocha (Without Whipped Cream)",
          "Mocha (Without Whipped Cream)",
          "Mocha (Without Whipped Cream)",
          "Caramel (Without Whipped Cream)",
          "Caramel (Without Whipped Cream)",
          "Caramel (Without Whipped Cream)",
          "Caramel (Without Whipped Cream)",
          "Caramel (Without Whipped Cream)",
          "Caramel (Without Whipped Cream)",
          "Caramel (Without Whipped Cream)",
          "Caramel (Without Whipped Cream)",
          "Caramel (Without Whipped Cream)",
          "Java Chip (Without Whipped Cream)",
          "Java Chip (Without Whipped Cream)",
          "Java Chip (Without Whipped Cream)",
          "Java Chip (Without Whipped Cream)",
          "Java Chip (Without Whipped Cream)",
          "Java Chip (Without Whipped Cream)",
          "Java Chip (Without Whipped Cream)",
          "Java Chip (Without Whipped Cream)",
          "Java Chip (Without Whipped Cream)",
          "Coffee",
          "Coffee",
          "Coffee",
          "Mocha",
          "Mocha",
          "Mocha",
          "Caramel",
          "Caramel",
          "Caramel",
          "Java Chip",
          "Java Chip",
          "Java Chip",
          "Strawberries & Crème (Without Whipped Cream)",
          "Strawberries & Crème (Without Whipped Cream)",
          "Strawberries & Crème (Without Whipped Cream)",
          "Strawberries & Crème (Without Whipped Cream)",
          "Strawberries & Crème (Without Whipped Cream)",
          "Strawberries & Crème (Without Whipped Cream)",
          "Strawberries & Crème (Without Whipped Cream)",
          "Strawberries & Crème (Without Whipped Cream)",
          "Strawberries & Crème (Without Whipped Cream)",
          "Vanilla Bean (Without Whipped Cream)",
          "Vanilla Bean (Without Whipped Cream)",
          "Vanilla Bean (Without Whipped Cream)",
          "Vanilla Bean (Without Whipped Cream)"
         ],
         "legendgroup": "",
         "name": "",
         "showlegend": true,
         "type": "pie",
         "values": [
          3,
          4,
          5,
          5,
          70,
          100,
          70,
          100,
          150,
          110,
          130,
          190,
          150,
          170,
          240,
          190,
          110,
          130,
          110,
          170,
          200,
          180,
          220,
          260,
          230,
          280,
          340,
          290,
          100,
          130,
          110,
          150,
          200,
          160,
          200,
          250,
          210,
          250,
          320,
          270,
          5,
          10,
          15,
          25,
          50,
          80,
          50,
          60,
          90,
          70,
          80,
          120,
          100,
          110,
          150,
          120,
          5,
          10,
          60,
          100,
          120,
          160,
          100,
          120,
          100,
          140,
          180,
          150,
          190,
          240,
          200,
          240,
          300,
          250,
          180,
          200,
          180,
          270,
          310,
          280,
          350,
          400,
          370,
          450,
          510,
          460,
          130,
          150,
          130,
          190,
          230,
          200,
          240,
          290,
          250,
          320,
          380,
          330,
          140,
          210,
          280,
          360,
          0,
          0,
          0,
          0,
          100,
          120,
          110,
          160,
          190,
          160,
          210,
          240,
          220,
          260,
          310,
          280,
          130,
          170,
          140,
          210,
          260,
          230,
          290,
          350,
          310,
          370,
          450,
          390,
          80,
          90,
          80,
          120,
          140,
          130,
          150,
          190,
          170,
          190,
          230,
          210,
          80,
          90,
          80,
          120,
          140,
          130,
          150,
          190,
          170,
          190,
          230,
          210,
          60,
          90,
          130,
          80,
          90,
          80,
          110,
          120,
          110,
          160,
          180,
          170,
          60,
          80,
          120,
          100,
          130,
          190,
          280,
          300,
          290,
          260,
          270,
          270,
          290,
          290,
          290,
          160,
          180,
          160,
          220,
          240,
          220,
          310,
          350,
          310,
          180,
          200,
          180,
          260,
          290,
          260,
          340,
          390,
          350,
          180,
          200,
          180,
          280,
          280,
          260,
          330,
          370,
          340,
          220,
          240,
          220,
          310,
          340,
          310,
          420,
          460,
          430,
          90,
          120,
          160,
          110,
          150,
          210,
          100,
          150,
          200,
          150,
          220,
          290,
          170,
          190,
          170,
          230,
          260,
          240,
          310,
          350,
          320,
          170,
          200,
          180,
          240
         ]
        }
       ],
       "layout": {
        "legend": {
         "tracegroupgap": 0
        },
        "template": {
         "data": {
          "bar": [
           {
            "error_x": {
             "color": "#2a3f5f"
            },
            "error_y": {
             "color": "#2a3f5f"
            },
            "marker": {
             "line": {
              "color": "#E5ECF6",
              "width": 0.5
             },
             "pattern": {
              "fillmode": "overlay",
              "size": 10,
              "solidity": 0.2
             }
            },
            "type": "bar"
           }
          ],
          "barpolar": [
           {
            "marker": {
             "line": {
              "color": "#E5ECF6",
              "width": 0.5
             },
             "pattern": {
              "fillmode": "overlay",
              "size": 10,
              "solidity": 0.2
             }
            },
            "type": "barpolar"
           }
          ],
          "carpet": [
           {
            "aaxis": {
             "endlinecolor": "#2a3f5f",
             "gridcolor": "white",
             "linecolor": "white",
             "minorgridcolor": "white",
             "startlinecolor": "#2a3f5f"
            },
            "baxis": {
             "endlinecolor": "#2a3f5f",
             "gridcolor": "white",
             "linecolor": "white",
             "minorgridcolor": "white",
             "startlinecolor": "#2a3f5f"
            },
            "type": "carpet"
           }
          ],
          "choropleth": [
           {
            "colorbar": {
             "outlinewidth": 0,
             "ticks": ""
            },
            "type": "choropleth"
           }
          ],
          "contour": [
           {
            "colorbar": {
             "outlinewidth": 0,
             "ticks": ""
            },
            "colorscale": [
             [
              0,
              "#0d0887"
             ],
             [
              0.1111111111111111,
              "#46039f"
             ],
             [
              0.2222222222222222,
              "#7201a8"
             ],
             [
              0.3333333333333333,
              "#9c179e"
             ],
             [
              0.4444444444444444,
              "#bd3786"
             ],
             [
              0.5555555555555556,
              "#d8576b"
             ],
             [
              0.6666666666666666,
              "#ed7953"
             ],
             [
              0.7777777777777778,
              "#fb9f3a"
             ],
             [
              0.8888888888888888,
              "#fdca26"
             ],
             [
              1,
              "#f0f921"
             ]
            ],
            "type": "contour"
           }
          ],
          "contourcarpet": [
           {
            "colorbar": {
             "outlinewidth": 0,
             "ticks": ""
            },
            "type": "contourcarpet"
           }
          ],
          "heatmap": [
           {
            "colorbar": {
             "outlinewidth": 0,
             "ticks": ""
            },
            "colorscale": [
             [
              0,
              "#0d0887"
             ],
             [
              0.1111111111111111,
              "#46039f"
             ],
             [
              0.2222222222222222,
              "#7201a8"
             ],
             [
              0.3333333333333333,
              "#9c179e"
             ],
             [
              0.4444444444444444,
              "#bd3786"
             ],
             [
              0.5555555555555556,
              "#d8576b"
             ],
             [
              0.6666666666666666,
              "#ed7953"
             ],
             [
              0.7777777777777778,
              "#fb9f3a"
             ],
             [
              0.8888888888888888,
              "#fdca26"
             ],
             [
              1,
              "#f0f921"
             ]
            ],
            "type": "heatmap"
           }
          ],
          "heatmapgl": [
           {
            "colorbar": {
             "outlinewidth": 0,
             "ticks": ""
            },
            "colorscale": [
             [
              0,
              "#0d0887"
             ],
             [
              0.1111111111111111,
              "#46039f"
             ],
             [
              0.2222222222222222,
              "#7201a8"
             ],
             [
              0.3333333333333333,
              "#9c179e"
             ],
             [
              0.4444444444444444,
              "#bd3786"
             ],
             [
              0.5555555555555556,
              "#d8576b"
             ],
             [
              0.6666666666666666,
              "#ed7953"
             ],
             [
              0.7777777777777778,
              "#fb9f3a"
             ],
             [
              0.8888888888888888,
              "#fdca26"
             ],
             [
              1,
              "#f0f921"
             ]
            ],
            "type": "heatmapgl"
           }
          ],
          "histogram": [
           {
            "marker": {
             "pattern": {
              "fillmode": "overlay",
              "size": 10,
              "solidity": 0.2
             }
            },
            "type": "histogram"
           }
          ],
          "histogram2d": [
           {
            "colorbar": {
             "outlinewidth": 0,
             "ticks": ""
            },
            "colorscale": [
             [
              0,
              "#0d0887"
             ],
             [
              0.1111111111111111,
              "#46039f"
             ],
             [
              0.2222222222222222,
              "#7201a8"
             ],
             [
              0.3333333333333333,
              "#9c179e"
             ],
             [
              0.4444444444444444,
              "#bd3786"
             ],
             [
              0.5555555555555556,
              "#d8576b"
             ],
             [
              0.6666666666666666,
              "#ed7953"
             ],
             [
              0.7777777777777778,
              "#fb9f3a"
             ],
             [
              0.8888888888888888,
              "#fdca26"
             ],
             [
              1,
              "#f0f921"
             ]
            ],
            "type": "histogram2d"
           }
          ],
          "histogram2dcontour": [
           {
            "colorbar": {
             "outlinewidth": 0,
             "ticks": ""
            },
            "colorscale": [
             [
              0,
              "#0d0887"
             ],
             [
              0.1111111111111111,
              "#46039f"
             ],
             [
              0.2222222222222222,
              "#7201a8"
             ],
             [
              0.3333333333333333,
              "#9c179e"
             ],
             [
              0.4444444444444444,
              "#bd3786"
             ],
             [
              0.5555555555555556,
              "#d8576b"
             ],
             [
              0.6666666666666666,
              "#ed7953"
             ],
             [
              0.7777777777777778,
              "#fb9f3a"
             ],
             [
              0.8888888888888888,
              "#fdca26"
             ],
             [
              1,
              "#f0f921"
             ]
            ],
            "type": "histogram2dcontour"
           }
          ],
          "mesh3d": [
           {
            "colorbar": {
             "outlinewidth": 0,
             "ticks": ""
            },
            "type": "mesh3d"
           }
          ],
          "parcoords": [
           {
            "line": {
             "colorbar": {
              "outlinewidth": 0,
              "ticks": ""
             }
            },
            "type": "parcoords"
           }
          ],
          "pie": [
           {
            "automargin": true,
            "type": "pie"
           }
          ],
          "scatter": [
           {
            "fillpattern": {
             "fillmode": "overlay",
             "size": 10,
             "solidity": 0.2
            },
            "type": "scatter"
           }
          ],
          "scatter3d": [
           {
            "line": {
             "colorbar": {
              "outlinewidth": 0,
              "ticks": ""
             }
            },
            "marker": {
             "colorbar": {
              "outlinewidth": 0,
              "ticks": ""
             }
            },
            "type": "scatter3d"
           }
          ],
          "scattercarpet": [
           {
            "marker": {
             "colorbar": {
              "outlinewidth": 0,
              "ticks": ""
             }
            },
            "type": "scattercarpet"
           }
          ],
          "scattergeo": [
           {
            "marker": {
             "colorbar": {
              "outlinewidth": 0,
              "ticks": ""
             }
            },
            "type": "scattergeo"
           }
          ],
          "scattergl": [
           {
            "marker": {
             "colorbar": {
              "outlinewidth": 0,
              "ticks": ""
             }
            },
            "type": "scattergl"
           }
          ],
          "scattermapbox": [
           {
            "marker": {
             "colorbar": {
              "outlinewidth": 0,
              "ticks": ""
             }
            },
            "type": "scattermapbox"
           }
          ],
          "scatterpolar": [
           {
            "marker": {
             "colorbar": {
              "outlinewidth": 0,
              "ticks": ""
             }
            },
            "type": "scatterpolar"
           }
          ],
          "scatterpolargl": [
           {
            "marker": {
             "colorbar": {
              "outlinewidth": 0,
              "ticks": ""
             }
            },
            "type": "scatterpolargl"
           }
          ],
          "scatterternary": [
           {
            "marker": {
             "colorbar": {
              "outlinewidth": 0,
              "ticks": ""
             }
            },
            "type": "scatterternary"
           }
          ],
          "surface": [
           {
            "colorbar": {
             "outlinewidth": 0,
             "ticks": ""
            },
            "colorscale": [
             [
              0,
              "#0d0887"
             ],
             [
              0.1111111111111111,
              "#46039f"
             ],
             [
              0.2222222222222222,
              "#7201a8"
             ],
             [
              0.3333333333333333,
              "#9c179e"
             ],
             [
              0.4444444444444444,
              "#bd3786"
             ],
             [
              0.5555555555555556,
              "#d8576b"
             ],
             [
              0.6666666666666666,
              "#ed7953"
             ],
             [
              0.7777777777777778,
              "#fb9f3a"
             ],
             [
              0.8888888888888888,
              "#fdca26"
             ],
             [
              1,
              "#f0f921"
             ]
            ],
            "type": "surface"
           }
          ],
          "table": [
           {
            "cells": {
             "fill": {
              "color": "#EBF0F8"
             },
             "line": {
              "color": "white"
             }
            },
            "header": {
             "fill": {
              "color": "#C8D4E3"
             },
             "line": {
              "color": "white"
             }
            },
            "type": "table"
           }
          ]
         },
         "layout": {
          "annotationdefaults": {
           "arrowcolor": "#2a3f5f",
           "arrowhead": 0,
           "arrowwidth": 1
          },
          "autotypenumbers": "strict",
          "coloraxis": {
           "colorbar": {
            "outlinewidth": 0,
            "ticks": ""
           }
          },
          "colorscale": {
           "diverging": [
            [
             0,
             "#8e0152"
            ],
            [
             0.1,
             "#c51b7d"
            ],
            [
             0.2,
             "#de77ae"
            ],
            [
             0.3,
             "#f1b6da"
            ],
            [
             0.4,
             "#fde0ef"
            ],
            [
             0.5,
             "#f7f7f7"
            ],
            [
             0.6,
             "#e6f5d0"
            ],
            [
             0.7,
             "#b8e186"
            ],
            [
             0.8,
             "#7fbc41"
            ],
            [
             0.9,
             "#4d9221"
            ],
            [
             1,
             "#276419"
            ]
           ],
           "sequential": [
            [
             0,
             "#0d0887"
            ],
            [
             0.1111111111111111,
             "#46039f"
            ],
            [
             0.2222222222222222,
             "#7201a8"
            ],
            [
             0.3333333333333333,
             "#9c179e"
            ],
            [
             0.4444444444444444,
             "#bd3786"
            ],
            [
             0.5555555555555556,
             "#d8576b"
            ],
            [
             0.6666666666666666,
             "#ed7953"
            ],
            [
             0.7777777777777778,
             "#fb9f3a"
            ],
            [
             0.8888888888888888,
             "#fdca26"
            ],
            [
             1,
             "#f0f921"
            ]
           ],
           "sequentialminus": [
            [
             0,
             "#0d0887"
            ],
            [
             0.1111111111111111,
             "#46039f"
            ],
            [
             0.2222222222222222,
             "#7201a8"
            ],
            [
             0.3333333333333333,
             "#9c179e"
            ],
            [
             0.4444444444444444,
             "#bd3786"
            ],
            [
             0.5555555555555556,
             "#d8576b"
            ],
            [
             0.6666666666666666,
             "#ed7953"
            ],
            [
             0.7777777777777778,
             "#fb9f3a"
            ],
            [
             0.8888888888888888,
             "#fdca26"
            ],
            [
             1,
             "#f0f921"
            ]
           ]
          },
          "colorway": [
           "#636efa",
           "#EF553B",
           "#00cc96",
           "#ab63fa",
           "#FFA15A",
           "#19d3f3",
           "#FF6692",
           "#B6E880",
           "#FF97FF",
           "#FECB52"
          ],
          "font": {
           "color": "#2a3f5f"
          },
          "geo": {
           "bgcolor": "white",
           "lakecolor": "white",
           "landcolor": "#E5ECF6",
           "showlakes": true,
           "showland": true,
           "subunitcolor": "white"
          },
          "hoverlabel": {
           "align": "left"
          },
          "hovermode": "closest",
          "mapbox": {
           "style": "light"
          },
          "paper_bgcolor": "white",
          "plot_bgcolor": "#E5ECF6",
          "polar": {
           "angularaxis": {
            "gridcolor": "white",
            "linecolor": "white",
            "ticks": ""
           },
           "bgcolor": "#E5ECF6",
           "radialaxis": {
            "gridcolor": "white",
            "linecolor": "white",
            "ticks": ""
           }
          },
          "scene": {
           "xaxis": {
            "backgroundcolor": "#E5ECF6",
            "gridcolor": "white",
            "gridwidth": 2,
            "linecolor": "white",
            "showbackground": true,
            "ticks": "",
            "zerolinecolor": "white"
           },
           "yaxis": {
            "backgroundcolor": "#E5ECF6",
            "gridcolor": "white",
            "gridwidth": 2,
            "linecolor": "white",
            "showbackground": true,
            "ticks": "",
            "zerolinecolor": "white"
           },
           "zaxis": {
            "backgroundcolor": "#E5ECF6",
            "gridcolor": "white",
            "gridwidth": 2,
            "linecolor": "white",
            "showbackground": true,
            "ticks": "",
            "zerolinecolor": "white"
           }
          },
          "shapedefaults": {
           "line": {
            "color": "#2a3f5f"
           }
          },
          "ternary": {
           "aaxis": {
            "gridcolor": "white",
            "linecolor": "white",
            "ticks": ""
           },
           "baxis": {
            "gridcolor": "white",
            "linecolor": "white",
            "ticks": ""
           },
           "bgcolor": "#E5ECF6",
           "caxis": {
            "gridcolor": "white",
            "linecolor": "white",
            "ticks": ""
           }
          },
          "title": {
           "x": 0.05
          },
          "xaxis": {
           "automargin": true,
           "gridcolor": "white",
           "linecolor": "white",
           "ticks": "",
           "title": {
            "standoff": 15
           },
           "zerolinecolor": "white",
           "zerolinewidth": 2
          },
          "yaxis": {
           "automargin": true,
           "gridcolor": "white",
           "linecolor": "white",
           "ticks": "",
           "title": {
            "standoff": 15
           },
           "zerolinecolor": "white",
           "zerolinewidth": 2
          }
         }
        },
        "title": {
         "text": "Population of European continent"
        }
       }
      },
      "text/html": [
       "<div>                            <div id=\"0102dcce-c7af-47d6-96c3-bc3766b230f4\" class=\"plotly-graph-div\" style=\"height:525px; width:100%;\"></div>            <script type=\"text/javascript\">                require([\"plotly\"], function(Plotly) {                    window.PLOTLYENV=window.PLOTLYENV || {};                                    if (document.getElementById(\"0102dcce-c7af-47d6-96c3-bc3766b230f4\")) {                    Plotly.newPlot(                        \"0102dcce-c7af-47d6-96c3-bc3766b230f4\",                        [{\"domain\":{\"x\":[0.0,1.0],\"y\":[0.0,1.0]},\"hovertemplate\":\"Beverage=%{label}<br>Calories=%{value}<extra></extra>\",\"labels\":[\"Brewed Coffee\",\"Brewed Coffee\",\"Brewed Coffee\",\"Brewed Coffee\",\"Caff\\u00e8 Latte\",\"Caff\\u00e8 Latte\",\"Caff\\u00e8 Latte\",\"Caff\\u00e8 Latte\",\"Caff\\u00e8 Latte\",\"Caff\\u00e8 Latte\",\"Caff\\u00e8 Latte\",\"Caff\\u00e8 Latte\",\"Caff\\u00e8 Latte\",\"Caff\\u00e8 Latte\",\"Caff\\u00e8 Latte\",\"Caff\\u00e8 Latte\",\"Caff\\u00e8 Mocha (Without Whipped Cream)\",\"Caff\\u00e8 Mocha (Without Whipped Cream)\",\"Caff\\u00e8 Mocha (Without Whipped Cream)\",\"Caff\\u00e8 Mocha (Without Whipped Cream)\",\"Caff\\u00e8 Mocha (Without Whipped Cream)\",\"Caff\\u00e8 Mocha (Without Whipped Cream)\",\"Caff\\u00e8 Mocha (Without Whipped Cream)\",\"Caff\\u00e8 Mocha (Without Whipped Cream)\",\"Caff\\u00e8 Mocha (Without Whipped Cream)\",\"Caff\\u00e8 Mocha (Without Whipped Cream)\",\"Caff\\u00e8 Mocha (Without Whipped Cream)\",\"Caff\\u00e8 Mocha (Without Whipped Cream)\",\"Vanilla Latte (Or Other Flavoured Latte)\",\"Vanilla Latte (Or Other Flavoured Latte)\",\"Vanilla Latte (Or Other Flavoured Latte)\",\"Vanilla Latte (Or Other Flavoured Latte)\",\"Vanilla Latte (Or Other Flavoured Latte)\",\"Vanilla Latte (Or Other Flavoured Latte)\",\"Vanilla Latte (Or Other Flavoured Latte)\",\"Vanilla Latte (Or Other Flavoured Latte)\",\"Vanilla Latte (Or Other Flavoured Latte)\",\"Vanilla Latte (Or Other Flavoured Latte)\",\"Vanilla Latte (Or Other Flavoured Latte)\",\"Vanilla Latte (Or Other Flavoured Latte)\",\"Caff\\u00e8 Americano\",\"Caff\\u00e8 Americano\",\"Caff\\u00e8 Americano\",\"Caff\\u00e8 Americano\",\"Cappuccino\",\"Cappuccino\",\"Cappuccino\",\"Cappuccino\",\"Cappuccino\",\"Cappuccino\",\"Cappuccino\",\"Cappuccino\",\"Cappuccino\",\"Cappuccino\",\"Cappuccino\",\"Cappuccino\",\"Espresso\",\"Espresso\",\"Skinny Latte (Any Flavour)\",\"Skinny Latte (Any Flavour)\",\"Skinny Latte (Any Flavour)\",\"Skinny Latte (Any Flavour)\",\"Caramel Macchiato\",\"Caramel Macchiato\",\"Caramel Macchiato\",\"Caramel Macchiato\",\"Caramel Macchiato\",\"Caramel Macchiato\",\"Caramel Macchiato\",\"Caramel Macchiato\",\"Caramel Macchiato\",\"Caramel Macchiato\",\"Caramel Macchiato\",\"Caramel Macchiato\",\"White Chocolate Mocha (Without Whipped Cream)\",\"White Chocolate Mocha (Without Whipped Cream)\",\"White Chocolate Mocha (Without Whipped Cream)\",\"White Chocolate Mocha (Without Whipped Cream)\",\"White Chocolate Mocha (Without Whipped Cream)\",\"White Chocolate Mocha (Without Whipped Cream)\",\"White Chocolate Mocha (Without Whipped Cream)\",\"White Chocolate Mocha (Without Whipped Cream)\",\"White Chocolate Mocha (Without Whipped Cream)\",\"White Chocolate Mocha (Without Whipped Cream)\",\"White Chocolate Mocha (Without Whipped Cream)\",\"White Chocolate Mocha (Without Whipped Cream)\",\"Hot Chocolate (Without Whipped Cream)\",\"Hot Chocolate (Without Whipped Cream)\",\"Hot Chocolate (Without Whipped Cream)\",\"Hot Chocolate (Without Whipped Cream)\",\"Hot Chocolate (Without Whipped Cream)\",\"Hot Chocolate (Without Whipped Cream)\",\"Hot Chocolate (Without Whipped Cream)\",\"Hot Chocolate (Without Whipped Cream)\",\"Hot Chocolate (Without Whipped Cream)\",\"Hot Chocolate (Without Whipped Cream)\",\"Hot Chocolate (Without Whipped Cream)\",\"Hot Chocolate (Without Whipped Cream)\",\"Caramel Apple Spice (Without Whipped Cream)\",\"Caramel Apple Spice (Without Whipped Cream)\",\"Caramel Apple Spice (Without Whipped Cream)\",\"Caramel Apple Spice (Without Whipped Cream)\",\"Tazo\\u00ae Tea\",\"Tazo\\u00ae Tea\",\"Tazo\\u00ae Tea\",\"Tazo\\u00ae Tea\",\"Tazo\\u00ae Chai Tea Latte\",\"Tazo\\u00ae Chai Tea Latte\",\"Tazo\\u00ae Chai Tea Latte\",\"Tazo\\u00ae Chai Tea Latte\",\"Tazo\\u00ae Chai Tea Latte\",\"Tazo\\u00ae Chai Tea Latte\",\"Tazo\\u00ae Chai Tea Latte\",\"Tazo\\u00ae Chai Tea Latte\",\"Tazo\\u00ae Chai Tea Latte\",\"Tazo\\u00ae Chai Tea Latte\",\"Tazo\\u00ae Chai Tea Latte\",\"Tazo\\u00ae Chai Tea Latte\",\"Tazo\\u00ae Green Tea Latte\",\"Tazo\\u00ae Green Tea Latte\",\"Tazo\\u00ae Green Tea Latte\",\"Tazo\\u00ae Green Tea Latte\",\"Tazo\\u00ae Green Tea Latte\",\"Tazo\\u00ae Green Tea Latte\",\"Tazo\\u00ae Green Tea Latte\",\"Tazo\\u00ae Green Tea Latte\",\"Tazo\\u00ae Green Tea Latte\",\"Tazo\\u00ae Green Tea Latte\",\"Tazo\\u00ae Green Tea Latte\",\"Tazo\\u00ae Green Tea Latte\",\"Tazo\\u00ae Full-Leaf Tea Latte\",\"Tazo\\u00ae Full-Leaf Tea Latte\",\"Tazo\\u00ae Full-Leaf Tea Latte\",\"Tazo\\u00ae Full-Leaf Tea Latte\",\"Tazo\\u00ae Full-Leaf Tea Latte\",\"Tazo\\u00ae Full-Leaf Tea Latte\",\"Tazo\\u00ae Full-Leaf Tea Latte\",\"Tazo\\u00ae Full-Leaf Tea Latte\",\"Tazo\\u00ae Full-Leaf Tea Latte\",\"Tazo\\u00ae Full-Leaf Tea Latte\",\"Tazo\\u00ae Full-Leaf Tea Latte\",\"Tazo\\u00ae Full-Leaf Tea Latte\",\"Tazo\\u00ae Full-Leaf Red Tea Latte (Vanilla Rooibos)\",\"Tazo\\u00ae Full-Leaf Red Tea Latte (Vanilla Rooibos)\",\"Tazo\\u00ae Full-Leaf Red Tea Latte (Vanilla Rooibos)\",\"Tazo\\u00ae Full-Leaf Red Tea Latte (Vanilla Rooibos)\",\"Tazo\\u00ae Full-Leaf Red Tea Latte (Vanilla Rooibos)\",\"Tazo\\u00ae Full-Leaf Red Tea Latte (Vanilla Rooibos)\",\"Tazo\\u00ae Full-Leaf Red Tea Latte (Vanilla Rooibos)\",\"Tazo\\u00ae Full-Leaf Red Tea Latte (Vanilla Rooibos)\",\"Tazo\\u00ae Full-Leaf Red Tea Latte (Vanilla Rooibos)\",\"Tazo\\u00ae Full-Leaf Red Tea Latte (Vanilla Rooibos)\",\"Tazo\\u00ae Full-Leaf Red Tea Latte (Vanilla Rooibos)\",\"Tazo\\u00ae Full-Leaf Red Tea Latte (Vanilla Rooibos)\",\"Iced Brewed Coffee (With Classic Syrup)\",\"Iced Brewed Coffee (With Classic Syrup)\",\"Iced Brewed Coffee (With Classic Syrup)\",\"Iced Brewed Coffee (With Milk & Classic Syrup)\",\"Iced Brewed Coffee (With Milk & Classic Syrup)\",\"Iced Brewed Coffee (With Milk & Classic Syrup)\",\"Iced Brewed Coffee (With Milk & Classic Syrup)\",\"Iced Brewed Coffee (With Milk & Classic Syrup)\",\"Iced Brewed Coffee (With Milk & Classic Syrup)\",\"Iced Brewed Coffee (With Milk & Classic Syrup)\",\"Iced Brewed Coffee (With Milk & Classic Syrup)\",\"Iced Brewed Coffee (With Milk & Classic Syrup)\",\"Shaken Iced Tazo\\u00ae Tea (With Classic Syrup)\",\"Shaken Iced Tazo\\u00ae Tea (With Classic Syrup)\",\"Shaken Iced Tazo\\u00ae Tea (With Classic Syrup)\",\"Shaken Iced Tazo\\u00ae Tea Lemonade (With Classic Syrup)\",\"Shaken Iced Tazo\\u00ae Tea Lemonade (With Classic Syrup)\",\"Shaken Iced Tazo\\u00ae Tea Lemonade (With Classic Syrup)\",\"Banana Chocolate Smoothie\",\"Banana Chocolate Smoothie\",\"Banana Chocolate Smoothie\",\"Orange Mango Banana Smoothie\",\"Orange Mango Banana Smoothie\",\"Orange Mango Banana Smoothie\",\"Strawberry Banana Smoothie\",\"Strawberry Banana Smoothie\",\"Strawberry Banana Smoothie\",\"Coffee\",\"Coffee\",\"Coffee\",\"Coffee\",\"Coffee\",\"Coffee\",\"Coffee\",\"Coffee\",\"Coffee\",\"Mocha (Without Whipped Cream)\",\"Mocha (Without Whipped Cream)\",\"Mocha (Without Whipped Cream)\",\"Mocha (Without Whipped Cream)\",\"Mocha (Without Whipped Cream)\",\"Mocha (Without Whipped Cream)\",\"Mocha (Without Whipped Cream)\",\"Mocha (Without Whipped Cream)\",\"Mocha (Without Whipped Cream)\",\"Caramel (Without Whipped Cream)\",\"Caramel (Without Whipped Cream)\",\"Caramel (Without Whipped Cream)\",\"Caramel (Without Whipped Cream)\",\"Caramel (Without Whipped Cream)\",\"Caramel (Without Whipped Cream)\",\"Caramel (Without Whipped Cream)\",\"Caramel (Without Whipped Cream)\",\"Caramel (Without Whipped Cream)\",\"Java Chip (Without Whipped Cream)\",\"Java Chip (Without Whipped Cream)\",\"Java Chip (Without Whipped Cream)\",\"Java Chip (Without Whipped Cream)\",\"Java Chip (Without Whipped Cream)\",\"Java Chip (Without Whipped Cream)\",\"Java Chip (Without Whipped Cream)\",\"Java Chip (Without Whipped Cream)\",\"Java Chip (Without Whipped Cream)\",\"Coffee\",\"Coffee\",\"Coffee\",\"Mocha\",\"Mocha\",\"Mocha\",\"Caramel\",\"Caramel\",\"Caramel\",\"Java Chip\",\"Java Chip\",\"Java Chip\",\"Strawberries & Cr\\u00e8me (Without Whipped Cream)\",\"Strawberries & Cr\\u00e8me (Without Whipped Cream)\",\"Strawberries & Cr\\u00e8me (Without Whipped Cream)\",\"Strawberries & Cr\\u00e8me (Without Whipped Cream)\",\"Strawberries & Cr\\u00e8me (Without Whipped Cream)\",\"Strawberries & Cr\\u00e8me (Without Whipped Cream)\",\"Strawberries & Cr\\u00e8me (Without Whipped Cream)\",\"Strawberries & Cr\\u00e8me (Without Whipped Cream)\",\"Strawberries & Cr\\u00e8me (Without Whipped Cream)\",\"Vanilla Bean (Without Whipped Cream)\",\"Vanilla Bean (Without Whipped Cream)\",\"Vanilla Bean (Without Whipped Cream)\",\"Vanilla Bean (Without Whipped Cream)\"],\"legendgroup\":\"\",\"name\":\"\",\"showlegend\":true,\"values\":[3,4,5,5,70,100,70,100,150,110,130,190,150,170,240,190,110,130,110,170,200,180,220,260,230,280,340,290,100,130,110,150,200,160,200,250,210,250,320,270,5,10,15,25,50,80,50,60,90,70,80,120,100,110,150,120,5,10,60,100,120,160,100,120,100,140,180,150,190,240,200,240,300,250,180,200,180,270,310,280,350,400,370,450,510,460,130,150,130,190,230,200,240,290,250,320,380,330,140,210,280,360,0,0,0,0,100,120,110,160,190,160,210,240,220,260,310,280,130,170,140,210,260,230,290,350,310,370,450,390,80,90,80,120,140,130,150,190,170,190,230,210,80,90,80,120,140,130,150,190,170,190,230,210,60,90,130,80,90,80,110,120,110,160,180,170,60,80,120,100,130,190,280,300,290,260,270,270,290,290,290,160,180,160,220,240,220,310,350,310,180,200,180,260,290,260,340,390,350,180,200,180,280,280,260,330,370,340,220,240,220,310,340,310,420,460,430,90,120,160,110,150,210,100,150,200,150,220,290,170,190,170,230,260,240,310,350,320,170,200,180,240],\"type\":\"pie\"}],                        {\"template\":{\"data\":{\"histogram2dcontour\":[{\"type\":\"histogram2dcontour\",\"colorbar\":{\"outlinewidth\":0,\"ticks\":\"\"},\"colorscale\":[[0.0,\"#0d0887\"],[0.1111111111111111,\"#46039f\"],[0.2222222222222222,\"#7201a8\"],[0.3333333333333333,\"#9c179e\"],[0.4444444444444444,\"#bd3786\"],[0.5555555555555556,\"#d8576b\"],[0.6666666666666666,\"#ed7953\"],[0.7777777777777778,\"#fb9f3a\"],[0.8888888888888888,\"#fdca26\"],[1.0,\"#f0f921\"]]}],\"choropleth\":[{\"type\":\"choropleth\",\"colorbar\":{\"outlinewidth\":0,\"ticks\":\"\"}}],\"histogram2d\":[{\"type\":\"histogram2d\",\"colorbar\":{\"outlinewidth\":0,\"ticks\":\"\"},\"colorscale\":[[0.0,\"#0d0887\"],[0.1111111111111111,\"#46039f\"],[0.2222222222222222,\"#7201a8\"],[0.3333333333333333,\"#9c179e\"],[0.4444444444444444,\"#bd3786\"],[0.5555555555555556,\"#d8576b\"],[0.6666666666666666,\"#ed7953\"],[0.7777777777777778,\"#fb9f3a\"],[0.8888888888888888,\"#fdca26\"],[1.0,\"#f0f921\"]]}],\"heatmap\":[{\"type\":\"heatmap\",\"colorbar\":{\"outlinewidth\":0,\"ticks\":\"\"},\"colorscale\":[[0.0,\"#0d0887\"],[0.1111111111111111,\"#46039f\"],[0.2222222222222222,\"#7201a8\"],[0.3333333333333333,\"#9c179e\"],[0.4444444444444444,\"#bd3786\"],[0.5555555555555556,\"#d8576b\"],[0.6666666666666666,\"#ed7953\"],[0.7777777777777778,\"#fb9f3a\"],[0.8888888888888888,\"#fdca26\"],[1.0,\"#f0f921\"]]}],\"heatmapgl\":[{\"type\":\"heatmapgl\",\"colorbar\":{\"outlinewidth\":0,\"ticks\":\"\"},\"colorscale\":[[0.0,\"#0d0887\"],[0.1111111111111111,\"#46039f\"],[0.2222222222222222,\"#7201a8\"],[0.3333333333333333,\"#9c179e\"],[0.4444444444444444,\"#bd3786\"],[0.5555555555555556,\"#d8576b\"],[0.6666666666666666,\"#ed7953\"],[0.7777777777777778,\"#fb9f3a\"],[0.8888888888888888,\"#fdca26\"],[1.0,\"#f0f921\"]]}],\"contourcarpet\":[{\"type\":\"contourcarpet\",\"colorbar\":{\"outlinewidth\":0,\"ticks\":\"\"}}],\"contour\":[{\"type\":\"contour\",\"colorbar\":{\"outlinewidth\":0,\"ticks\":\"\"},\"colorscale\":[[0.0,\"#0d0887\"],[0.1111111111111111,\"#46039f\"],[0.2222222222222222,\"#7201a8\"],[0.3333333333333333,\"#9c179e\"],[0.4444444444444444,\"#bd3786\"],[0.5555555555555556,\"#d8576b\"],[0.6666666666666666,\"#ed7953\"],[0.7777777777777778,\"#fb9f3a\"],[0.8888888888888888,\"#fdca26\"],[1.0,\"#f0f921\"]]}],\"surface\":[{\"type\":\"surface\",\"colorbar\":{\"outlinewidth\":0,\"ticks\":\"\"},\"colorscale\":[[0.0,\"#0d0887\"],[0.1111111111111111,\"#46039f\"],[0.2222222222222222,\"#7201a8\"],[0.3333333333333333,\"#9c179e\"],[0.4444444444444444,\"#bd3786\"],[0.5555555555555556,\"#d8576b\"],[0.6666666666666666,\"#ed7953\"],[0.7777777777777778,\"#fb9f3a\"],[0.8888888888888888,\"#fdca26\"],[1.0,\"#f0f921\"]]}],\"mesh3d\":[{\"type\":\"mesh3d\",\"colorbar\":{\"outlinewidth\":0,\"ticks\":\"\"}}],\"scatter\":[{\"fillpattern\":{\"fillmode\":\"overlay\",\"size\":10,\"solidity\":0.2},\"type\":\"scatter\"}],\"parcoords\":[{\"type\":\"parcoords\",\"line\":{\"colorbar\":{\"outlinewidth\":0,\"ticks\":\"\"}}}],\"scatterpolargl\":[{\"type\":\"scatterpolargl\",\"marker\":{\"colorbar\":{\"outlinewidth\":0,\"ticks\":\"\"}}}],\"bar\":[{\"error_x\":{\"color\":\"#2a3f5f\"},\"error_y\":{\"color\":\"#2a3f5f\"},\"marker\":{\"line\":{\"color\":\"#E5ECF6\",\"width\":0.5},\"pattern\":{\"fillmode\":\"overlay\",\"size\":10,\"solidity\":0.2}},\"type\":\"bar\"}],\"scattergeo\":[{\"type\":\"scattergeo\",\"marker\":{\"colorbar\":{\"outlinewidth\":0,\"ticks\":\"\"}}}],\"scatterpolar\":[{\"type\":\"scatterpolar\",\"marker\":{\"colorbar\":{\"outlinewidth\":0,\"ticks\":\"\"}}}],\"histogram\":[{\"marker\":{\"pattern\":{\"fillmode\":\"overlay\",\"size\":10,\"solidity\":0.2}},\"type\":\"histogram\"}],\"scattergl\":[{\"type\":\"scattergl\",\"marker\":{\"colorbar\":{\"outlinewidth\":0,\"ticks\":\"\"}}}],\"scatter3d\":[{\"type\":\"scatter3d\",\"line\":{\"colorbar\":{\"outlinewidth\":0,\"ticks\":\"\"}},\"marker\":{\"colorbar\":{\"outlinewidth\":0,\"ticks\":\"\"}}}],\"scattermapbox\":[{\"type\":\"scattermapbox\",\"marker\":{\"colorbar\":{\"outlinewidth\":0,\"ticks\":\"\"}}}],\"scatterternary\":[{\"type\":\"scatterternary\",\"marker\":{\"colorbar\":{\"outlinewidth\":0,\"ticks\":\"\"}}}],\"scattercarpet\":[{\"type\":\"scattercarpet\",\"marker\":{\"colorbar\":{\"outlinewidth\":0,\"ticks\":\"\"}}}],\"carpet\":[{\"aaxis\":{\"endlinecolor\":\"#2a3f5f\",\"gridcolor\":\"white\",\"linecolor\":\"white\",\"minorgridcolor\":\"white\",\"startlinecolor\":\"#2a3f5f\"},\"baxis\":{\"endlinecolor\":\"#2a3f5f\",\"gridcolor\":\"white\",\"linecolor\":\"white\",\"minorgridcolor\":\"white\",\"startlinecolor\":\"#2a3f5f\"},\"type\":\"carpet\"}],\"table\":[{\"cells\":{\"fill\":{\"color\":\"#EBF0F8\"},\"line\":{\"color\":\"white\"}},\"header\":{\"fill\":{\"color\":\"#C8D4E3\"},\"line\":{\"color\":\"white\"}},\"type\":\"table\"}],\"barpolar\":[{\"marker\":{\"line\":{\"color\":\"#E5ECF6\",\"width\":0.5},\"pattern\":{\"fillmode\":\"overlay\",\"size\":10,\"solidity\":0.2}},\"type\":\"barpolar\"}],\"pie\":[{\"automargin\":true,\"type\":\"pie\"}]},\"layout\":{\"autotypenumbers\":\"strict\",\"colorway\":[\"#636efa\",\"#EF553B\",\"#00cc96\",\"#ab63fa\",\"#FFA15A\",\"#19d3f3\",\"#FF6692\",\"#B6E880\",\"#FF97FF\",\"#FECB52\"],\"font\":{\"color\":\"#2a3f5f\"},\"hovermode\":\"closest\",\"hoverlabel\":{\"align\":\"left\"},\"paper_bgcolor\":\"white\",\"plot_bgcolor\":\"#E5ECF6\",\"polar\":{\"bgcolor\":\"#E5ECF6\",\"angularaxis\":{\"gridcolor\":\"white\",\"linecolor\":\"white\",\"ticks\":\"\"},\"radialaxis\":{\"gridcolor\":\"white\",\"linecolor\":\"white\",\"ticks\":\"\"}},\"ternary\":{\"bgcolor\":\"#E5ECF6\",\"aaxis\":{\"gridcolor\":\"white\",\"linecolor\":\"white\",\"ticks\":\"\"},\"baxis\":{\"gridcolor\":\"white\",\"linecolor\":\"white\",\"ticks\":\"\"},\"caxis\":{\"gridcolor\":\"white\",\"linecolor\":\"white\",\"ticks\":\"\"}},\"coloraxis\":{\"colorbar\":{\"outlinewidth\":0,\"ticks\":\"\"}},\"colorscale\":{\"sequential\":[[0.0,\"#0d0887\"],[0.1111111111111111,\"#46039f\"],[0.2222222222222222,\"#7201a8\"],[0.3333333333333333,\"#9c179e\"],[0.4444444444444444,\"#bd3786\"],[0.5555555555555556,\"#d8576b\"],[0.6666666666666666,\"#ed7953\"],[0.7777777777777778,\"#fb9f3a\"],[0.8888888888888888,\"#fdca26\"],[1.0,\"#f0f921\"]],\"sequentialminus\":[[0.0,\"#0d0887\"],[0.1111111111111111,\"#46039f\"],[0.2222222222222222,\"#7201a8\"],[0.3333333333333333,\"#9c179e\"],[0.4444444444444444,\"#bd3786\"],[0.5555555555555556,\"#d8576b\"],[0.6666666666666666,\"#ed7953\"],[0.7777777777777778,\"#fb9f3a\"],[0.8888888888888888,\"#fdca26\"],[1.0,\"#f0f921\"]],\"diverging\":[[0,\"#8e0152\"],[0.1,\"#c51b7d\"],[0.2,\"#de77ae\"],[0.3,\"#f1b6da\"],[0.4,\"#fde0ef\"],[0.5,\"#f7f7f7\"],[0.6,\"#e6f5d0\"],[0.7,\"#b8e186\"],[0.8,\"#7fbc41\"],[0.9,\"#4d9221\"],[1,\"#276419\"]]},\"xaxis\":{\"gridcolor\":\"white\",\"linecolor\":\"white\",\"ticks\":\"\",\"title\":{\"standoff\":15},\"zerolinecolor\":\"white\",\"automargin\":true,\"zerolinewidth\":2},\"yaxis\":{\"gridcolor\":\"white\",\"linecolor\":\"white\",\"ticks\":\"\",\"title\":{\"standoff\":15},\"zerolinecolor\":\"white\",\"automargin\":true,\"zerolinewidth\":2},\"scene\":{\"xaxis\":{\"backgroundcolor\":\"#E5ECF6\",\"gridcolor\":\"white\",\"linecolor\":\"white\",\"showbackground\":true,\"ticks\":\"\",\"zerolinecolor\":\"white\",\"gridwidth\":2},\"yaxis\":{\"backgroundcolor\":\"#E5ECF6\",\"gridcolor\":\"white\",\"linecolor\":\"white\",\"showbackground\":true,\"ticks\":\"\",\"zerolinecolor\":\"white\",\"gridwidth\":2},\"zaxis\":{\"backgroundcolor\":\"#E5ECF6\",\"gridcolor\":\"white\",\"linecolor\":\"white\",\"showbackground\":true,\"ticks\":\"\",\"zerolinecolor\":\"white\",\"gridwidth\":2}},\"shapedefaults\":{\"line\":{\"color\":\"#2a3f5f\"}},\"annotationdefaults\":{\"arrowcolor\":\"#2a3f5f\",\"arrowhead\":0,\"arrowwidth\":1},\"geo\":{\"bgcolor\":\"white\",\"landcolor\":\"#E5ECF6\",\"subunitcolor\":\"white\",\"showland\":true,\"showlakes\":true,\"lakecolor\":\"white\"},\"title\":{\"x\":0.05},\"mapbox\":{\"style\":\"light\"}}},\"legend\":{\"tracegroupgap\":0},\"title\":{\"text\":\"Population of European continent\"}},                        {\"responsive\": true}                    ).then(function(){\n",
       "                            \n",
       "var gd = document.getElementById('0102dcce-c7af-47d6-96c3-bc3766b230f4');\n",
       "var x = new MutationObserver(function (mutations, observer) {{\n",
       "        var display = window.getComputedStyle(gd).display;\n",
       "        if (!display || display === 'none') {{\n",
       "            console.log([gd, 'removed!']);\n",
       "            Plotly.purge(gd);\n",
       "            observer.disconnect();\n",
       "        }}\n",
       "}});\n",
       "\n",
       "// Listen for the removal of the full notebook cells\n",
       "var notebookContainer = gd.closest('#notebook-container');\n",
       "if (notebookContainer) {{\n",
       "    x.observe(notebookContainer, {childList: true});\n",
       "}}\n",
       "\n",
       "// Listen for the clearing of the current output cell\n",
       "var outputEl = gd.closest('.output');\n",
       "if (outputEl) {{\n",
       "    x.observe(outputEl, {childList: true});\n",
       "}}\n",
       "\n",
       "                        })                };                });            </script>        </div>"
      ]
     },
     "metadata": {},
     "output_type": "display_data"
    }
   ],
   "source": [
    "fig = px.pie(df, values='Calories', names='Beverage', title='Population of European continent')\n",
    "fig.show()"
   ]
  },
  {
   "cell_type": "code",
   "execution_count": 78,
   "id": "37482a94",
   "metadata": {},
   "outputs": [
    {
     "data": {
      "text/html": [
       "<div>\n",
       "<style scoped>\n",
       "    .dataframe tbody tr th:only-of-type {\n",
       "        vertical-align: middle;\n",
       "    }\n",
       "\n",
       "    .dataframe tbody tr th {\n",
       "        vertical-align: top;\n",
       "    }\n",
       "\n",
       "    .dataframe thead th {\n",
       "        text-align: right;\n",
       "    }\n",
       "</style>\n",
       "<table border=\"1\" class=\"dataframe\">\n",
       "  <thead>\n",
       "    <tr style=\"text-align: right;\">\n",
       "      <th></th>\n",
       "      <th>Beverage_category</th>\n",
       "      <th>Beverage</th>\n",
       "      <th>Beverage_prep</th>\n",
       "      <th>Calories</th>\n",
       "      <th>Total Fat (g)</th>\n",
       "      <th>Sodium (mg)</th>\n",
       "      <th>Total Carbohydrates (g)</th>\n",
       "      <th>Cholesterol (mg)</th>\n",
       "      <th>Sugars (g)</th>\n",
       "      <th>Protein (g)</th>\n",
       "      <th>Vitamin A (% DV)</th>\n",
       "      <th>Vitamin C (% DV)</th>\n",
       "      <th>Calcium (% DV)</th>\n",
       "      <th>Iron (% DV)</th>\n",
       "      <th>Caffeine (mg)</th>\n",
       "    </tr>\n",
       "  </thead>\n",
       "  <tbody>\n",
       "    <tr>\n",
       "      <th>0</th>\n",
       "      <td>Coffee</td>\n",
       "      <td>Brewed Coffee</td>\n",
       "      <td>Short</td>\n",
       "      <td>3</td>\n",
       "      <td>0.1</td>\n",
       "      <td>0</td>\n",
       "      <td>5</td>\n",
       "      <td>0</td>\n",
       "      <td>0</td>\n",
       "      <td>0.3</td>\n",
       "      <td>0%</td>\n",
       "      <td>0%</td>\n",
       "      <td>0%</td>\n",
       "      <td>0%</td>\n",
       "      <td>175</td>\n",
       "    </tr>\n",
       "    <tr>\n",
       "      <th>1</th>\n",
       "      <td>Coffee</td>\n",
       "      <td>Brewed Coffee</td>\n",
       "      <td>Tall</td>\n",
       "      <td>4</td>\n",
       "      <td>0.1</td>\n",
       "      <td>0</td>\n",
       "      <td>10</td>\n",
       "      <td>0</td>\n",
       "      <td>0</td>\n",
       "      <td>0.5</td>\n",
       "      <td>0%</td>\n",
       "      <td>0%</td>\n",
       "      <td>0%</td>\n",
       "      <td>0%</td>\n",
       "      <td>260</td>\n",
       "    </tr>\n",
       "    <tr>\n",
       "      <th>2</th>\n",
       "      <td>Coffee</td>\n",
       "      <td>Brewed Coffee</td>\n",
       "      <td>Grande</td>\n",
       "      <td>5</td>\n",
       "      <td>0.1</td>\n",
       "      <td>0</td>\n",
       "      <td>10</td>\n",
       "      <td>0</td>\n",
       "      <td>0</td>\n",
       "      <td>1.0</td>\n",
       "      <td>0%</td>\n",
       "      <td>0%</td>\n",
       "      <td>0%</td>\n",
       "      <td>0%</td>\n",
       "      <td>330</td>\n",
       "    </tr>\n",
       "    <tr>\n",
       "      <th>3</th>\n",
       "      <td>Coffee</td>\n",
       "      <td>Brewed Coffee</td>\n",
       "      <td>Venti</td>\n",
       "      <td>5</td>\n",
       "      <td>0.1</td>\n",
       "      <td>0</td>\n",
       "      <td>10</td>\n",
       "      <td>0</td>\n",
       "      <td>0</td>\n",
       "      <td>1.0</td>\n",
       "      <td>0%</td>\n",
       "      <td>0%</td>\n",
       "      <td>2%</td>\n",
       "      <td>0%</td>\n",
       "      <td>410</td>\n",
       "    </tr>\n",
       "    <tr>\n",
       "      <th>4</th>\n",
       "      <td>Classic Espresso Drinks</td>\n",
       "      <td>Caffè Latte</td>\n",
       "      <td>Short Nonfat Milk</td>\n",
       "      <td>70</td>\n",
       "      <td>0.1</td>\n",
       "      <td>5</td>\n",
       "      <td>75</td>\n",
       "      <td>10</td>\n",
       "      <td>9</td>\n",
       "      <td>6.0</td>\n",
       "      <td>10%</td>\n",
       "      <td>0%</td>\n",
       "      <td>20%</td>\n",
       "      <td>0%</td>\n",
       "      <td>75</td>\n",
       "    </tr>\n",
       "    <tr>\n",
       "      <th>5</th>\n",
       "      <td>Classic Espresso Drinks</td>\n",
       "      <td>Caffè Latte</td>\n",
       "      <td>2% Milk</td>\n",
       "      <td>100</td>\n",
       "      <td>3.5</td>\n",
       "      <td>15</td>\n",
       "      <td>85</td>\n",
       "      <td>10</td>\n",
       "      <td>9</td>\n",
       "      <td>6.0</td>\n",
       "      <td>10%</td>\n",
       "      <td>0%</td>\n",
       "      <td>20%</td>\n",
       "      <td>0%</td>\n",
       "      <td>75</td>\n",
       "    </tr>\n",
       "    <tr>\n",
       "      <th>6</th>\n",
       "      <td>Classic Espresso Drinks</td>\n",
       "      <td>Caffè Latte</td>\n",
       "      <td>Soymilk</td>\n",
       "      <td>70</td>\n",
       "      <td>2.5</td>\n",
       "      <td>0</td>\n",
       "      <td>65</td>\n",
       "      <td>6</td>\n",
       "      <td>4</td>\n",
       "      <td>5.0</td>\n",
       "      <td>6%</td>\n",
       "      <td>0%</td>\n",
       "      <td>20%</td>\n",
       "      <td>8%</td>\n",
       "      <td>75</td>\n",
       "    </tr>\n",
       "    <tr>\n",
       "      <th>7</th>\n",
       "      <td>Classic Espresso Drinks</td>\n",
       "      <td>Caffè Latte</td>\n",
       "      <td>Tall Nonfat Milk</td>\n",
       "      <td>100</td>\n",
       "      <td>0.2</td>\n",
       "      <td>5</td>\n",
       "      <td>120</td>\n",
       "      <td>15</td>\n",
       "      <td>14</td>\n",
       "      <td>10.0</td>\n",
       "      <td>15%</td>\n",
       "      <td>0%</td>\n",
       "      <td>30%</td>\n",
       "      <td>0%</td>\n",
       "      <td>75</td>\n",
       "    </tr>\n",
       "    <tr>\n",
       "      <th>8</th>\n",
       "      <td>Classic Espresso Drinks</td>\n",
       "      <td>Caffè Latte</td>\n",
       "      <td>2% Milk</td>\n",
       "      <td>150</td>\n",
       "      <td>6</td>\n",
       "      <td>25</td>\n",
       "      <td>135</td>\n",
       "      <td>15</td>\n",
       "      <td>14</td>\n",
       "      <td>10.0</td>\n",
       "      <td>15%</td>\n",
       "      <td>0%</td>\n",
       "      <td>30%</td>\n",
       "      <td>0%</td>\n",
       "      <td>75</td>\n",
       "    </tr>\n",
       "    <tr>\n",
       "      <th>9</th>\n",
       "      <td>Classic Espresso Drinks</td>\n",
       "      <td>Caffè Latte</td>\n",
       "      <td>Soymilk</td>\n",
       "      <td>110</td>\n",
       "      <td>4.5</td>\n",
       "      <td>0</td>\n",
       "      <td>105</td>\n",
       "      <td>10</td>\n",
       "      <td>6</td>\n",
       "      <td>8.0</td>\n",
       "      <td>10%</td>\n",
       "      <td>0%</td>\n",
       "      <td>30%</td>\n",
       "      <td>15%</td>\n",
       "      <td>75</td>\n",
       "    </tr>\n",
       "    <tr>\n",
       "      <th>10</th>\n",
       "      <td>Classic Espresso Drinks</td>\n",
       "      <td>Caffè Latte</td>\n",
       "      <td>Grande Nonfat Milk</td>\n",
       "      <td>130</td>\n",
       "      <td>0.3</td>\n",
       "      <td>5</td>\n",
       "      <td>150</td>\n",
       "      <td>19</td>\n",
       "      <td>18</td>\n",
       "      <td>13.0</td>\n",
       "      <td>20%</td>\n",
       "      <td>0%</td>\n",
       "      <td>40%</td>\n",
       "      <td>0%</td>\n",
       "      <td>150</td>\n",
       "    </tr>\n",
       "    <tr>\n",
       "      <th>11</th>\n",
       "      <td>Classic Espresso Drinks</td>\n",
       "      <td>Caffè Latte</td>\n",
       "      <td>2% Milk</td>\n",
       "      <td>190</td>\n",
       "      <td>7</td>\n",
       "      <td>30</td>\n",
       "      <td>170</td>\n",
       "      <td>19</td>\n",
       "      <td>17</td>\n",
       "      <td>12.0</td>\n",
       "      <td>20%</td>\n",
       "      <td>2%</td>\n",
       "      <td>40%</td>\n",
       "      <td>0%</td>\n",
       "      <td>150</td>\n",
       "    </tr>\n",
       "    <tr>\n",
       "      <th>12</th>\n",
       "      <td>Classic Espresso Drinks</td>\n",
       "      <td>Caffè Latte</td>\n",
       "      <td>Soymilk</td>\n",
       "      <td>150</td>\n",
       "      <td>5</td>\n",
       "      <td>0</td>\n",
       "      <td>130</td>\n",
       "      <td>13</td>\n",
       "      <td>8</td>\n",
       "      <td>10.0</td>\n",
       "      <td>15%</td>\n",
       "      <td>0%</td>\n",
       "      <td>40%</td>\n",
       "      <td>15%</td>\n",
       "      <td>150</td>\n",
       "    </tr>\n",
       "    <tr>\n",
       "      <th>13</th>\n",
       "      <td>Classic Espresso Drinks</td>\n",
       "      <td>Caffè Latte</td>\n",
       "      <td>Venti Nonfat Milk</td>\n",
       "      <td>170</td>\n",
       "      <td>0.4</td>\n",
       "      <td>10</td>\n",
       "      <td>190</td>\n",
       "      <td>25</td>\n",
       "      <td>23</td>\n",
       "      <td>16.0</td>\n",
       "      <td>30%</td>\n",
       "      <td>0%</td>\n",
       "      <td>50%</td>\n",
       "      <td>0%</td>\n",
       "      <td>150</td>\n",
       "    </tr>\n",
       "    <tr>\n",
       "      <th>14</th>\n",
       "      <td>Classic Espresso Drinks</td>\n",
       "      <td>Caffè Latte</td>\n",
       "      <td>2% Milk</td>\n",
       "      <td>240</td>\n",
       "      <td>9</td>\n",
       "      <td>35</td>\n",
       "      <td>220</td>\n",
       "      <td>24</td>\n",
       "      <td>22</td>\n",
       "      <td>16.0</td>\n",
       "      <td>25%</td>\n",
       "      <td>2%</td>\n",
       "      <td>50%</td>\n",
       "      <td>0%</td>\n",
       "      <td>150</td>\n",
       "    </tr>\n",
       "    <tr>\n",
       "      <th>15</th>\n",
       "      <td>Classic Espresso Drinks</td>\n",
       "      <td>Caffè Latte</td>\n",
       "      <td>Soymilk</td>\n",
       "      <td>190</td>\n",
       "      <td>7</td>\n",
       "      <td>0</td>\n",
       "      <td>170</td>\n",
       "      <td>16</td>\n",
       "      <td>11</td>\n",
       "      <td>13.0</td>\n",
       "      <td>20%</td>\n",
       "      <td>0%</td>\n",
       "      <td>50%</td>\n",
       "      <td>25%</td>\n",
       "      <td>150</td>\n",
       "    </tr>\n",
       "    <tr>\n",
       "      <th>16</th>\n",
       "      <td>Classic Espresso Drinks</td>\n",
       "      <td>Caffè Mocha (Without Whipped Cream)</td>\n",
       "      <td>Short Nonfat Milk</td>\n",
       "      <td>110</td>\n",
       "      <td>1.5</td>\n",
       "      <td>5</td>\n",
       "      <td>60</td>\n",
       "      <td>21</td>\n",
       "      <td>17</td>\n",
       "      <td>7.0</td>\n",
       "      <td>8%</td>\n",
       "      <td>0%</td>\n",
       "      <td>15%</td>\n",
       "      <td>10%</td>\n",
       "      <td>85</td>\n",
       "    </tr>\n",
       "    <tr>\n",
       "      <th>17</th>\n",
       "      <td>Classic Espresso Drinks</td>\n",
       "      <td>Caffè Mocha (Without Whipped Cream)</td>\n",
       "      <td>2% Milk</td>\n",
       "      <td>130</td>\n",
       "      <td>4</td>\n",
       "      <td>10</td>\n",
       "      <td>70</td>\n",
       "      <td>21</td>\n",
       "      <td>17</td>\n",
       "      <td>6.0</td>\n",
       "      <td>8%</td>\n",
       "      <td>0%</td>\n",
       "      <td>15%</td>\n",
       "      <td>10%</td>\n",
       "      <td>85</td>\n",
       "    </tr>\n",
       "    <tr>\n",
       "      <th>18</th>\n",
       "      <td>Classic Espresso Drinks</td>\n",
       "      <td>Caffè Mocha (Without Whipped Cream)</td>\n",
       "      <td>Soymilk</td>\n",
       "      <td>110</td>\n",
       "      <td>3.5</td>\n",
       "      <td>0</td>\n",
       "      <td>55</td>\n",
       "      <td>19</td>\n",
       "      <td>13</td>\n",
       "      <td>6.0</td>\n",
       "      <td>6%</td>\n",
       "      <td>0%</td>\n",
       "      <td>15%</td>\n",
       "      <td>20%</td>\n",
       "      <td>85</td>\n",
       "    </tr>\n",
       "    <tr>\n",
       "      <th>19</th>\n",
       "      <td>Classic Espresso Drinks</td>\n",
       "      <td>Caffè Mocha (Without Whipped Cream)</td>\n",
       "      <td>Tall Nonfat Milk</td>\n",
       "      <td>170</td>\n",
       "      <td>2</td>\n",
       "      <td>5</td>\n",
       "      <td>100</td>\n",
       "      <td>32</td>\n",
       "      <td>27</td>\n",
       "      <td>10.0</td>\n",
       "      <td>15%</td>\n",
       "      <td>0%</td>\n",
       "      <td>25%</td>\n",
       "      <td>20%</td>\n",
       "      <td>95</td>\n",
       "    </tr>\n",
       "    <tr>\n",
       "      <th>20</th>\n",
       "      <td>Classic Espresso Drinks</td>\n",
       "      <td>Caffè Mocha (Without Whipped Cream)</td>\n",
       "      <td>2% Milk</td>\n",
       "      <td>200</td>\n",
       "      <td>6</td>\n",
       "      <td>20</td>\n",
       "      <td>115</td>\n",
       "      <td>32</td>\n",
       "      <td>26</td>\n",
       "      <td>10.0</td>\n",
       "      <td>15%</td>\n",
       "      <td>0%</td>\n",
       "      <td>25%</td>\n",
       "      <td>20%</td>\n",
       "      <td>95</td>\n",
       "    </tr>\n",
       "    <tr>\n",
       "      <th>21</th>\n",
       "      <td>Classic Espresso Drinks</td>\n",
       "      <td>Caffè Mocha (Without Whipped Cream)</td>\n",
       "      <td>Soymilk</td>\n",
       "      <td>180</td>\n",
       "      <td>5</td>\n",
       "      <td>0</td>\n",
       "      <td>85</td>\n",
       "      <td>28</td>\n",
       "      <td>20</td>\n",
       "      <td>9.0</td>\n",
       "      <td>10%</td>\n",
       "      <td>0%</td>\n",
       "      <td>25%</td>\n",
       "      <td>30%</td>\n",
       "      <td>95</td>\n",
       "    </tr>\n",
       "    <tr>\n",
       "      <th>22</th>\n",
       "      <td>Classic Espresso Drinks</td>\n",
       "      <td>Caffè Mocha (Without Whipped Cream)</td>\n",
       "      <td>Grande Nonfat Milk</td>\n",
       "      <td>220</td>\n",
       "      <td>2.5</td>\n",
       "      <td>5</td>\n",
       "      <td>125</td>\n",
       "      <td>43</td>\n",
       "      <td>34</td>\n",
       "      <td>13.0</td>\n",
       "      <td>20%</td>\n",
       "      <td>0%</td>\n",
       "      <td>35%</td>\n",
       "      <td>25%</td>\n",
       "      <td>175</td>\n",
       "    </tr>\n",
       "    <tr>\n",
       "      <th>23</th>\n",
       "      <td>Classic Espresso Drinks</td>\n",
       "      <td>Caffè Mocha (Without Whipped Cream)</td>\n",
       "      <td>2% Milk</td>\n",
       "      <td>260</td>\n",
       "      <td>8</td>\n",
       "      <td>25</td>\n",
       "      <td>140</td>\n",
       "      <td>42</td>\n",
       "      <td>34</td>\n",
       "      <td>13.0</td>\n",
       "      <td>15%</td>\n",
       "      <td>2%</td>\n",
       "      <td>35%</td>\n",
       "      <td>25%</td>\n",
       "      <td>175</td>\n",
       "    </tr>\n",
       "    <tr>\n",
       "      <th>24</th>\n",
       "      <td>Classic Espresso Drinks</td>\n",
       "      <td>Caffè Mocha (Without Whipped Cream)</td>\n",
       "      <td>Soymilk</td>\n",
       "      <td>230</td>\n",
       "      <td>7</td>\n",
       "      <td>0</td>\n",
       "      <td>105</td>\n",
       "      <td>37</td>\n",
       "      <td>26</td>\n",
       "      <td>11.0</td>\n",
       "      <td>10%</td>\n",
       "      <td>0%</td>\n",
       "      <td>35%</td>\n",
       "      <td>40%</td>\n",
       "      <td>175</td>\n",
       "    </tr>\n",
       "    <tr>\n",
       "      <th>25</th>\n",
       "      <td>Classic Espresso Drinks</td>\n",
       "      <td>Caffè Mocha (Without Whipped Cream)</td>\n",
       "      <td>Venti Nonfat Milk</td>\n",
       "      <td>280</td>\n",
       "      <td>3</td>\n",
       "      <td>10</td>\n",
       "      <td>160</td>\n",
       "      <td>54</td>\n",
       "      <td>44</td>\n",
       "      <td>17.0</td>\n",
       "      <td>25%</td>\n",
       "      <td>0%</td>\n",
       "      <td>45%</td>\n",
       "      <td>30%</td>\n",
       "      <td>180</td>\n",
       "    </tr>\n",
       "    <tr>\n",
       "      <th>26</th>\n",
       "      <td>Classic Espresso Drinks</td>\n",
       "      <td>Caffè Mocha (Without Whipped Cream)</td>\n",
       "      <td>2% Milk</td>\n",
       "      <td>340</td>\n",
       "      <td>11</td>\n",
       "      <td>30</td>\n",
       "      <td>180</td>\n",
       "      <td>53</td>\n",
       "      <td>43</td>\n",
       "      <td>17.0</td>\n",
       "      <td>20%</td>\n",
       "      <td>2%</td>\n",
       "      <td>45%</td>\n",
       "      <td>30%</td>\n",
       "      <td>180</td>\n",
       "    </tr>\n",
       "    <tr>\n",
       "      <th>27</th>\n",
       "      <td>Classic Espresso Drinks</td>\n",
       "      <td>Caffè Mocha (Without Whipped Cream)</td>\n",
       "      <td>Soymilk</td>\n",
       "      <td>290</td>\n",
       "      <td>9</td>\n",
       "      <td>0</td>\n",
       "      <td>140</td>\n",
       "      <td>47</td>\n",
       "      <td>33</td>\n",
       "      <td>14.0</td>\n",
       "      <td>15%</td>\n",
       "      <td>0%</td>\n",
       "      <td>45%</td>\n",
       "      <td>50%</td>\n",
       "      <td>180</td>\n",
       "    </tr>\n",
       "    <tr>\n",
       "      <th>28</th>\n",
       "      <td>Classic Espresso Drinks</td>\n",
       "      <td>Vanilla Latte (Or Other Flavoured Latte)</td>\n",
       "      <td>Short Nonfat Milk</td>\n",
       "      <td>100</td>\n",
       "      <td>0.1</td>\n",
       "      <td>5</td>\n",
       "      <td>70</td>\n",
       "      <td>19</td>\n",
       "      <td>18</td>\n",
       "      <td>6.0</td>\n",
       "      <td>10%</td>\n",
       "      <td>0%</td>\n",
       "      <td>20%</td>\n",
       "      <td>0%</td>\n",
       "      <td>75</td>\n",
       "    </tr>\n",
       "    <tr>\n",
       "      <th>29</th>\n",
       "      <td>Classic Espresso Drinks</td>\n",
       "      <td>Vanilla Latte (Or Other Flavoured Latte)</td>\n",
       "      <td>2% Milk</td>\n",
       "      <td>130</td>\n",
       "      <td>3.5</td>\n",
       "      <td>15</td>\n",
       "      <td>80</td>\n",
       "      <td>18</td>\n",
       "      <td>17</td>\n",
       "      <td>6.0</td>\n",
       "      <td>10%</td>\n",
       "      <td>0%</td>\n",
       "      <td>20%</td>\n",
       "      <td>0%</td>\n",
       "      <td>75</td>\n",
       "    </tr>\n",
       "  </tbody>\n",
       "</table>\n",
       "</div>"
      ],
      "text/plain": [
       "          Beverage_category                                  Beverage  \\\n",
       "0                    Coffee                             Brewed Coffee   \n",
       "1                    Coffee                             Brewed Coffee   \n",
       "2                    Coffee                             Brewed Coffee   \n",
       "3                    Coffee                             Brewed Coffee   \n",
       "4   Classic Espresso Drinks                               Caffè Latte   \n",
       "5   Classic Espresso Drinks                               Caffè Latte   \n",
       "6   Classic Espresso Drinks                               Caffè Latte   \n",
       "7   Classic Espresso Drinks                               Caffè Latte   \n",
       "8   Classic Espresso Drinks                               Caffè Latte   \n",
       "9   Classic Espresso Drinks                               Caffè Latte   \n",
       "10  Classic Espresso Drinks                               Caffè Latte   \n",
       "11  Classic Espresso Drinks                               Caffè Latte   \n",
       "12  Classic Espresso Drinks                               Caffè Latte   \n",
       "13  Classic Espresso Drinks                               Caffè Latte   \n",
       "14  Classic Espresso Drinks                               Caffè Latte   \n",
       "15  Classic Espresso Drinks                               Caffè Latte   \n",
       "16  Classic Espresso Drinks       Caffè Mocha (Without Whipped Cream)   \n",
       "17  Classic Espresso Drinks       Caffè Mocha (Without Whipped Cream)   \n",
       "18  Classic Espresso Drinks       Caffè Mocha (Without Whipped Cream)   \n",
       "19  Classic Espresso Drinks       Caffè Mocha (Without Whipped Cream)   \n",
       "20  Classic Espresso Drinks       Caffè Mocha (Without Whipped Cream)   \n",
       "21  Classic Espresso Drinks       Caffè Mocha (Without Whipped Cream)   \n",
       "22  Classic Espresso Drinks       Caffè Mocha (Without Whipped Cream)   \n",
       "23  Classic Espresso Drinks       Caffè Mocha (Without Whipped Cream)   \n",
       "24  Classic Espresso Drinks       Caffè Mocha (Without Whipped Cream)   \n",
       "25  Classic Espresso Drinks       Caffè Mocha (Without Whipped Cream)   \n",
       "26  Classic Espresso Drinks       Caffè Mocha (Without Whipped Cream)   \n",
       "27  Classic Espresso Drinks       Caffè Mocha (Without Whipped Cream)   \n",
       "28  Classic Espresso Drinks  Vanilla Latte (Or Other Flavoured Latte)   \n",
       "29  Classic Espresso Drinks  Vanilla Latte (Or Other Flavoured Latte)   \n",
       "\n",
       "         Beverage_prep  Calories  Total Fat (g)   Sodium (mg)  \\\n",
       "0                Short         3            0.1             0   \n",
       "1                 Tall         4            0.1             0   \n",
       "2               Grande         5            0.1             0   \n",
       "3                Venti         5            0.1             0   \n",
       "4    Short Nonfat Milk        70            0.1             5   \n",
       "5              2% Milk       100            3.5            15   \n",
       "6              Soymilk        70            2.5             0   \n",
       "7     Tall Nonfat Milk       100            0.2             5   \n",
       "8              2% Milk       150              6            25   \n",
       "9              Soymilk       110            4.5             0   \n",
       "10  Grande Nonfat Milk       130            0.3             5   \n",
       "11             2% Milk       190              7            30   \n",
       "12             Soymilk       150              5             0   \n",
       "13   Venti Nonfat Milk       170            0.4            10   \n",
       "14             2% Milk       240              9            35   \n",
       "15             Soymilk       190              7             0   \n",
       "16   Short Nonfat Milk       110            1.5             5   \n",
       "17             2% Milk       130              4            10   \n",
       "18             Soymilk       110            3.5             0   \n",
       "19    Tall Nonfat Milk       170              2             5   \n",
       "20             2% Milk       200              6            20   \n",
       "21             Soymilk       180              5             0   \n",
       "22  Grande Nonfat Milk       220            2.5             5   \n",
       "23             2% Milk       260              8            25   \n",
       "24             Soymilk       230              7             0   \n",
       "25   Venti Nonfat Milk       280              3            10   \n",
       "26             2% Milk       340             11            30   \n",
       "27             Soymilk       290              9             0   \n",
       "28   Short Nonfat Milk       100            0.1             5   \n",
       "29             2% Milk       130            3.5            15   \n",
       "\n",
       "     Total Carbohydrates (g)   Cholesterol (mg)   Sugars (g)   Protein (g)   \\\n",
       "0                           5                 0            0            0.3   \n",
       "1                          10                 0            0            0.5   \n",
       "2                          10                 0            0            1.0   \n",
       "3                          10                 0            0            1.0   \n",
       "4                          75                10            9            6.0   \n",
       "5                          85                10            9            6.0   \n",
       "6                          65                 6            4            5.0   \n",
       "7                         120                15           14           10.0   \n",
       "8                         135                15           14           10.0   \n",
       "9                         105                10            6            8.0   \n",
       "10                        150                19           18           13.0   \n",
       "11                        170                19           17           12.0   \n",
       "12                        130                13            8           10.0   \n",
       "13                        190                25           23           16.0   \n",
       "14                        220                24           22           16.0   \n",
       "15                        170                16           11           13.0   \n",
       "16                         60                21           17            7.0   \n",
       "17                         70                21           17            6.0   \n",
       "18                         55                19           13            6.0   \n",
       "19                        100                32           27           10.0   \n",
       "20                        115                32           26           10.0   \n",
       "21                         85                28           20            9.0   \n",
       "22                        125                43           34           13.0   \n",
       "23                        140                42           34           13.0   \n",
       "24                        105                37           26           11.0   \n",
       "25                        160                54           44           17.0   \n",
       "26                        180                53           43           17.0   \n",
       "27                        140                47           33           14.0   \n",
       "28                         70                19           18            6.0   \n",
       "29                         80                18           17            6.0   \n",
       "\n",
       "   Vitamin A (% DV)  Vitamin C (% DV)  Calcium (% DV)  Iron (% DV)   \\\n",
       "0                 0%               0%               0%           0%   \n",
       "1                 0%               0%               0%           0%   \n",
       "2                 0%               0%               0%           0%   \n",
       "3                 0%               0%               2%           0%   \n",
       "4                10%               0%              20%           0%   \n",
       "5                10%               0%              20%           0%   \n",
       "6                 6%               0%              20%           8%   \n",
       "7                15%               0%              30%           0%   \n",
       "8                15%               0%              30%           0%   \n",
       "9                10%               0%              30%          15%   \n",
       "10               20%               0%              40%           0%   \n",
       "11               20%               2%              40%           0%   \n",
       "12               15%               0%              40%          15%   \n",
       "13               30%               0%              50%           0%   \n",
       "14               25%               2%              50%           0%   \n",
       "15               20%               0%              50%          25%   \n",
       "16                8%               0%              15%          10%   \n",
       "17                8%               0%              15%          10%   \n",
       "18                6%               0%              15%          20%   \n",
       "19               15%               0%              25%          20%   \n",
       "20               15%               0%              25%          20%   \n",
       "21               10%               0%              25%          30%   \n",
       "22               20%               0%              35%          25%   \n",
       "23               15%               2%              35%          25%   \n",
       "24               10%               0%              35%          40%   \n",
       "25               25%               0%              45%          30%   \n",
       "26               20%               2%              45%          30%   \n",
       "27               15%               0%              45%          50%   \n",
       "28               10%               0%              20%           0%   \n",
       "29               10%               0%              20%           0%   \n",
       "\n",
       "   Caffeine (mg)  \n",
       "0            175  \n",
       "1            260  \n",
       "2            330  \n",
       "3            410  \n",
       "4             75  \n",
       "5             75  \n",
       "6             75  \n",
       "7             75  \n",
       "8             75  \n",
       "9             75  \n",
       "10           150  \n",
       "11           150  \n",
       "12           150  \n",
       "13           150  \n",
       "14           150  \n",
       "15           150  \n",
       "16            85  \n",
       "17            85  \n",
       "18            85  \n",
       "19            95  \n",
       "20            95  \n",
       "21            95  \n",
       "22           175  \n",
       "23           175  \n",
       "24           175  \n",
       "25           180  \n",
       "26           180  \n",
       "27           180  \n",
       "28            75  \n",
       "29            75  "
      ]
     },
     "execution_count": 78,
     "metadata": {},
     "output_type": "execute_result"
    }
   ],
   "source": [
    " df.head(30)"
   ]
  },
  {
   "cell_type": "code",
   "execution_count": 80,
   "id": "fec197de",
   "metadata": {},
   "outputs": [
    {
     "data": {
      "application/vnd.plotly.v1+json": {
       "config": {
        "plotlyServerURL": "https://plot.ly"
       },
       "data": [
        {
         "domain": {
          "x": [
           0,
           1
          ],
          "y": [
           0,
           1
          ]
         },
         "hovertemplate": "Beverage=%{label}<br> Sugars (g)=%{value}<extra></extra>",
         "labels": [
          "Brewed Coffee",
          "Brewed Coffee",
          "Brewed Coffee",
          "Brewed Coffee",
          "Caffè Latte",
          "Caffè Latte",
          "Caffè Latte",
          "Caffè Latte",
          "Caffè Latte",
          "Caffè Latte",
          "Caffè Latte",
          "Caffè Latte",
          "Caffè Latte",
          "Caffè Latte",
          "Caffè Latte",
          "Caffè Latte",
          "Caffè Mocha (Without Whipped Cream)",
          "Caffè Mocha (Without Whipped Cream)",
          "Caffè Mocha (Without Whipped Cream)",
          "Caffè Mocha (Without Whipped Cream)",
          "Caffè Mocha (Without Whipped Cream)",
          "Caffè Mocha (Without Whipped Cream)",
          "Caffè Mocha (Without Whipped Cream)",
          "Caffè Mocha (Without Whipped Cream)",
          "Caffè Mocha (Without Whipped Cream)",
          "Caffè Mocha (Without Whipped Cream)",
          "Caffè Mocha (Without Whipped Cream)",
          "Caffè Mocha (Without Whipped Cream)",
          "Vanilla Latte (Or Other Flavoured Latte)",
          "Vanilla Latte (Or Other Flavoured Latte)",
          "Vanilla Latte (Or Other Flavoured Latte)",
          "Vanilla Latte (Or Other Flavoured Latte)",
          "Vanilla Latte (Or Other Flavoured Latte)",
          "Vanilla Latte (Or Other Flavoured Latte)",
          "Vanilla Latte (Or Other Flavoured Latte)",
          "Vanilla Latte (Or Other Flavoured Latte)",
          "Vanilla Latte (Or Other Flavoured Latte)",
          "Vanilla Latte (Or Other Flavoured Latte)",
          "Vanilla Latte (Or Other Flavoured Latte)",
          "Vanilla Latte (Or Other Flavoured Latte)",
          "Caffè Americano",
          "Caffè Americano",
          "Caffè Americano",
          "Caffè Americano",
          "Cappuccino",
          "Cappuccino",
          "Cappuccino",
          "Cappuccino",
          "Cappuccino",
          "Cappuccino",
          "Cappuccino",
          "Cappuccino",
          "Cappuccino",
          "Cappuccino",
          "Cappuccino",
          "Cappuccino",
          "Espresso",
          "Espresso",
          "Skinny Latte (Any Flavour)",
          "Skinny Latte (Any Flavour)",
          "Skinny Latte (Any Flavour)",
          "Skinny Latte (Any Flavour)",
          "Caramel Macchiato",
          "Caramel Macchiato",
          "Caramel Macchiato",
          "Caramel Macchiato",
          "Caramel Macchiato",
          "Caramel Macchiato",
          "Caramel Macchiato",
          "Caramel Macchiato",
          "Caramel Macchiato",
          "Caramel Macchiato",
          "Caramel Macchiato",
          "Caramel Macchiato",
          "White Chocolate Mocha (Without Whipped Cream)",
          "White Chocolate Mocha (Without Whipped Cream)",
          "White Chocolate Mocha (Without Whipped Cream)",
          "White Chocolate Mocha (Without Whipped Cream)",
          "White Chocolate Mocha (Without Whipped Cream)",
          "White Chocolate Mocha (Without Whipped Cream)",
          "White Chocolate Mocha (Without Whipped Cream)",
          "White Chocolate Mocha (Without Whipped Cream)",
          "White Chocolate Mocha (Without Whipped Cream)",
          "White Chocolate Mocha (Without Whipped Cream)",
          "White Chocolate Mocha (Without Whipped Cream)",
          "White Chocolate Mocha (Without Whipped Cream)",
          "Hot Chocolate (Without Whipped Cream)",
          "Hot Chocolate (Without Whipped Cream)",
          "Hot Chocolate (Without Whipped Cream)",
          "Hot Chocolate (Without Whipped Cream)",
          "Hot Chocolate (Without Whipped Cream)",
          "Hot Chocolate (Without Whipped Cream)",
          "Hot Chocolate (Without Whipped Cream)",
          "Hot Chocolate (Without Whipped Cream)",
          "Hot Chocolate (Without Whipped Cream)",
          "Hot Chocolate (Without Whipped Cream)",
          "Hot Chocolate (Without Whipped Cream)",
          "Hot Chocolate (Without Whipped Cream)",
          "Caramel Apple Spice (Without Whipped Cream)",
          "Caramel Apple Spice (Without Whipped Cream)",
          "Caramel Apple Spice (Without Whipped Cream)",
          "Caramel Apple Spice (Without Whipped Cream)",
          "Tazo® Tea",
          "Tazo® Tea",
          "Tazo® Tea",
          "Tazo® Tea",
          "Tazo® Chai Tea Latte",
          "Tazo® Chai Tea Latte",
          "Tazo® Chai Tea Latte",
          "Tazo® Chai Tea Latte",
          "Tazo® Chai Tea Latte",
          "Tazo® Chai Tea Latte",
          "Tazo® Chai Tea Latte",
          "Tazo® Chai Tea Latte",
          "Tazo® Chai Tea Latte",
          "Tazo® Chai Tea Latte",
          "Tazo® Chai Tea Latte",
          "Tazo® Chai Tea Latte",
          "Tazo® Green Tea Latte",
          "Tazo® Green Tea Latte",
          "Tazo® Green Tea Latte",
          "Tazo® Green Tea Latte",
          "Tazo® Green Tea Latte",
          "Tazo® Green Tea Latte",
          "Tazo® Green Tea Latte",
          "Tazo® Green Tea Latte",
          "Tazo® Green Tea Latte",
          "Tazo® Green Tea Latte",
          "Tazo® Green Tea Latte",
          "Tazo® Green Tea Latte",
          "Tazo® Full-Leaf Tea Latte",
          "Tazo® Full-Leaf Tea Latte",
          "Tazo® Full-Leaf Tea Latte",
          "Tazo® Full-Leaf Tea Latte",
          "Tazo® Full-Leaf Tea Latte",
          "Tazo® Full-Leaf Tea Latte",
          "Tazo® Full-Leaf Tea Latte",
          "Tazo® Full-Leaf Tea Latte",
          "Tazo® Full-Leaf Tea Latte",
          "Tazo® Full-Leaf Tea Latte",
          "Tazo® Full-Leaf Tea Latte",
          "Tazo® Full-Leaf Tea Latte",
          "Tazo® Full-Leaf Red Tea Latte (Vanilla Rooibos)",
          "Tazo® Full-Leaf Red Tea Latte (Vanilla Rooibos)",
          "Tazo® Full-Leaf Red Tea Latte (Vanilla Rooibos)",
          "Tazo® Full-Leaf Red Tea Latte (Vanilla Rooibos)",
          "Tazo® Full-Leaf Red Tea Latte (Vanilla Rooibos)",
          "Tazo® Full-Leaf Red Tea Latte (Vanilla Rooibos)",
          "Tazo® Full-Leaf Red Tea Latte (Vanilla Rooibos)",
          "Tazo® Full-Leaf Red Tea Latte (Vanilla Rooibos)",
          "Tazo® Full-Leaf Red Tea Latte (Vanilla Rooibos)",
          "Tazo® Full-Leaf Red Tea Latte (Vanilla Rooibos)",
          "Tazo® Full-Leaf Red Tea Latte (Vanilla Rooibos)",
          "Tazo® Full-Leaf Red Tea Latte (Vanilla Rooibos)",
          "Iced Brewed Coffee (With Classic Syrup)",
          "Iced Brewed Coffee (With Classic Syrup)",
          "Iced Brewed Coffee (With Classic Syrup)",
          "Iced Brewed Coffee (With Milk & Classic Syrup)",
          "Iced Brewed Coffee (With Milk & Classic Syrup)",
          "Iced Brewed Coffee (With Milk & Classic Syrup)",
          "Iced Brewed Coffee (With Milk & Classic Syrup)",
          "Iced Brewed Coffee (With Milk & Classic Syrup)",
          "Iced Brewed Coffee (With Milk & Classic Syrup)",
          "Iced Brewed Coffee (With Milk & Classic Syrup)",
          "Iced Brewed Coffee (With Milk & Classic Syrup)",
          "Iced Brewed Coffee (With Milk & Classic Syrup)",
          "Shaken Iced Tazo® Tea (With Classic Syrup)",
          "Shaken Iced Tazo® Tea (With Classic Syrup)",
          "Shaken Iced Tazo® Tea (With Classic Syrup)",
          "Shaken Iced Tazo® Tea Lemonade (With Classic Syrup)",
          "Shaken Iced Tazo® Tea Lemonade (With Classic Syrup)",
          "Shaken Iced Tazo® Tea Lemonade (With Classic Syrup)",
          "Banana Chocolate Smoothie",
          "Banana Chocolate Smoothie",
          "Banana Chocolate Smoothie",
          "Orange Mango Banana Smoothie",
          "Orange Mango Banana Smoothie",
          "Orange Mango Banana Smoothie",
          "Strawberry Banana Smoothie",
          "Strawberry Banana Smoothie",
          "Strawberry Banana Smoothie",
          "Coffee",
          "Coffee",
          "Coffee",
          "Coffee",
          "Coffee",
          "Coffee",
          "Coffee",
          "Coffee",
          "Coffee",
          "Mocha (Without Whipped Cream)",
          "Mocha (Without Whipped Cream)",
          "Mocha (Without Whipped Cream)",
          "Mocha (Without Whipped Cream)",
          "Mocha (Without Whipped Cream)",
          "Mocha (Without Whipped Cream)",
          "Mocha (Without Whipped Cream)",
          "Mocha (Without Whipped Cream)",
          "Mocha (Without Whipped Cream)",
          "Caramel (Without Whipped Cream)",
          "Caramel (Without Whipped Cream)",
          "Caramel (Without Whipped Cream)",
          "Caramel (Without Whipped Cream)",
          "Caramel (Without Whipped Cream)",
          "Caramel (Without Whipped Cream)",
          "Caramel (Without Whipped Cream)",
          "Caramel (Without Whipped Cream)",
          "Caramel (Without Whipped Cream)",
          "Java Chip (Without Whipped Cream)",
          "Java Chip (Without Whipped Cream)",
          "Java Chip (Without Whipped Cream)",
          "Java Chip (Without Whipped Cream)",
          "Java Chip (Without Whipped Cream)",
          "Java Chip (Without Whipped Cream)",
          "Java Chip (Without Whipped Cream)",
          "Java Chip (Without Whipped Cream)",
          "Java Chip (Without Whipped Cream)",
          "Coffee",
          "Coffee",
          "Coffee",
          "Mocha",
          "Mocha",
          "Mocha",
          "Caramel",
          "Caramel",
          "Caramel",
          "Java Chip",
          "Java Chip",
          "Java Chip",
          "Strawberries & Crème (Without Whipped Cream)",
          "Strawberries & Crème (Without Whipped Cream)",
          "Strawberries & Crème (Without Whipped Cream)",
          "Strawberries & Crème (Without Whipped Cream)",
          "Strawberries & Crème (Without Whipped Cream)",
          "Strawberries & Crème (Without Whipped Cream)",
          "Strawberries & Crème (Without Whipped Cream)",
          "Strawberries & Crème (Without Whipped Cream)",
          "Strawberries & Crème (Without Whipped Cream)",
          "Vanilla Bean (Without Whipped Cream)",
          "Vanilla Bean (Without Whipped Cream)",
          "Vanilla Bean (Without Whipped Cream)",
          "Vanilla Bean (Without Whipped Cream)"
         ],
         "legendgroup": "",
         "name": "",
         "showlegend": true,
         "type": "pie",
         "values": [
          0,
          0,
          0,
          0,
          9,
          9,
          4,
          14,
          14,
          6,
          18,
          17,
          8,
          23,
          22,
          11,
          17,
          17,
          13,
          27,
          26,
          20,
          34,
          34,
          26,
          44,
          43,
          33,
          18,
          17,
          13,
          27,
          27,
          20,
          35,
          35,
          26,
          45,
          44,
          33,
          0,
          0,
          0,
          0,
          7,
          7,
          3,
          8,
          8,
          4,
          10,
          10,
          5,
          14,
          14,
          7,
          0,
          0,
          8,
          13,
          16,
          21,
          15,
          15,
          11,
          24,
          23,
          17,
          32,
          32,
          24,
          41,
          40,
          31,
          29,
          29,
          25,
          45,
          44,
          39,
          58,
          58,
          51,
          74,
          74,
          64,
          23,
          22,
          18,
          32,
          32,
          25,
          41,
          41,
          32,
          55,
          54,
          44,
          33,
          49,
          65,
          83,
          0,
          0,
          0,
          0,
          21,
          21,
          18,
          32,
          32,
          28,
          43,
          42,
          37,
          54,
          53,
          46,
          25,
          25,
          20,
          41,
          40,
          33,
          56,
          55,
          46,
          71,
          71,
          58,
          16,
          15,
          13,
          23,
          23,
          19,
          31,
          30,
          25,
          39,
          38,
          32,
          16,
          15,
          13,
          23,
          23,
          19,
          31,
          30,
          25,
          39,
          38,
          32,
          15,
          21,
          31,
          18,
          18,
          17,
          24,
          24,
          22,
          36,
          36,
          33,
          15,
          21,
          31,
          24,
          33,
          49,
          34,
          34,
          31,
          37,
          37,
          36,
          41,
          41,
          40,
          36,
          36,
          34,
          50,
          50,
          47,
          69,
          69,
          66,
          40,
          40,
          38,
          58,
          58,
          55,
          76,
          76,
          73,
          41,
          41,
          39,
          59,
          59,
          56,
          77,
          77,
          73,
          44,
          44,
          42,
          62,
          62,
          60,
          84,
          84,
          80,
          19,
          26,
          33,
          23,
          30,
          42,
          23,
          32,
          43,
          27,
          39,
          52,
          38,
          37,
          35,
          52,
          52,
          49,
          69,
          68,
          64,
          38,
          38,
          35,
          55
         ]
        }
       ],
       "layout": {
        "legend": {
         "tracegroupgap": 0
        },
        "template": {
         "data": {
          "bar": [
           {
            "error_x": {
             "color": "#2a3f5f"
            },
            "error_y": {
             "color": "#2a3f5f"
            },
            "marker": {
             "line": {
              "color": "#E5ECF6",
              "width": 0.5
             },
             "pattern": {
              "fillmode": "overlay",
              "size": 10,
              "solidity": 0.2
             }
            },
            "type": "bar"
           }
          ],
          "barpolar": [
           {
            "marker": {
             "line": {
              "color": "#E5ECF6",
              "width": 0.5
             },
             "pattern": {
              "fillmode": "overlay",
              "size": 10,
              "solidity": 0.2
             }
            },
            "type": "barpolar"
           }
          ],
          "carpet": [
           {
            "aaxis": {
             "endlinecolor": "#2a3f5f",
             "gridcolor": "white",
             "linecolor": "white",
             "minorgridcolor": "white",
             "startlinecolor": "#2a3f5f"
            },
            "baxis": {
             "endlinecolor": "#2a3f5f",
             "gridcolor": "white",
             "linecolor": "white",
             "minorgridcolor": "white",
             "startlinecolor": "#2a3f5f"
            },
            "type": "carpet"
           }
          ],
          "choropleth": [
           {
            "colorbar": {
             "outlinewidth": 0,
             "ticks": ""
            },
            "type": "choropleth"
           }
          ],
          "contour": [
           {
            "colorbar": {
             "outlinewidth": 0,
             "ticks": ""
            },
            "colorscale": [
             [
              0,
              "#0d0887"
             ],
             [
              0.1111111111111111,
              "#46039f"
             ],
             [
              0.2222222222222222,
              "#7201a8"
             ],
             [
              0.3333333333333333,
              "#9c179e"
             ],
             [
              0.4444444444444444,
              "#bd3786"
             ],
             [
              0.5555555555555556,
              "#d8576b"
             ],
             [
              0.6666666666666666,
              "#ed7953"
             ],
             [
              0.7777777777777778,
              "#fb9f3a"
             ],
             [
              0.8888888888888888,
              "#fdca26"
             ],
             [
              1,
              "#f0f921"
             ]
            ],
            "type": "contour"
           }
          ],
          "contourcarpet": [
           {
            "colorbar": {
             "outlinewidth": 0,
             "ticks": ""
            },
            "type": "contourcarpet"
           }
          ],
          "heatmap": [
           {
            "colorbar": {
             "outlinewidth": 0,
             "ticks": ""
            },
            "colorscale": [
             [
              0,
              "#0d0887"
             ],
             [
              0.1111111111111111,
              "#46039f"
             ],
             [
              0.2222222222222222,
              "#7201a8"
             ],
             [
              0.3333333333333333,
              "#9c179e"
             ],
             [
              0.4444444444444444,
              "#bd3786"
             ],
             [
              0.5555555555555556,
              "#d8576b"
             ],
             [
              0.6666666666666666,
              "#ed7953"
             ],
             [
              0.7777777777777778,
              "#fb9f3a"
             ],
             [
              0.8888888888888888,
              "#fdca26"
             ],
             [
              1,
              "#f0f921"
             ]
            ],
            "type": "heatmap"
           }
          ],
          "heatmapgl": [
           {
            "colorbar": {
             "outlinewidth": 0,
             "ticks": ""
            },
            "colorscale": [
             [
              0,
              "#0d0887"
             ],
             [
              0.1111111111111111,
              "#46039f"
             ],
             [
              0.2222222222222222,
              "#7201a8"
             ],
             [
              0.3333333333333333,
              "#9c179e"
             ],
             [
              0.4444444444444444,
              "#bd3786"
             ],
             [
              0.5555555555555556,
              "#d8576b"
             ],
             [
              0.6666666666666666,
              "#ed7953"
             ],
             [
              0.7777777777777778,
              "#fb9f3a"
             ],
             [
              0.8888888888888888,
              "#fdca26"
             ],
             [
              1,
              "#f0f921"
             ]
            ],
            "type": "heatmapgl"
           }
          ],
          "histogram": [
           {
            "marker": {
             "pattern": {
              "fillmode": "overlay",
              "size": 10,
              "solidity": 0.2
             }
            },
            "type": "histogram"
           }
          ],
          "histogram2d": [
           {
            "colorbar": {
             "outlinewidth": 0,
             "ticks": ""
            },
            "colorscale": [
             [
              0,
              "#0d0887"
             ],
             [
              0.1111111111111111,
              "#46039f"
             ],
             [
              0.2222222222222222,
              "#7201a8"
             ],
             [
              0.3333333333333333,
              "#9c179e"
             ],
             [
              0.4444444444444444,
              "#bd3786"
             ],
             [
              0.5555555555555556,
              "#d8576b"
             ],
             [
              0.6666666666666666,
              "#ed7953"
             ],
             [
              0.7777777777777778,
              "#fb9f3a"
             ],
             [
              0.8888888888888888,
              "#fdca26"
             ],
             [
              1,
              "#f0f921"
             ]
            ],
            "type": "histogram2d"
           }
          ],
          "histogram2dcontour": [
           {
            "colorbar": {
             "outlinewidth": 0,
             "ticks": ""
            },
            "colorscale": [
             [
              0,
              "#0d0887"
             ],
             [
              0.1111111111111111,
              "#46039f"
             ],
             [
              0.2222222222222222,
              "#7201a8"
             ],
             [
              0.3333333333333333,
              "#9c179e"
             ],
             [
              0.4444444444444444,
              "#bd3786"
             ],
             [
              0.5555555555555556,
              "#d8576b"
             ],
             [
              0.6666666666666666,
              "#ed7953"
             ],
             [
              0.7777777777777778,
              "#fb9f3a"
             ],
             [
              0.8888888888888888,
              "#fdca26"
             ],
             [
              1,
              "#f0f921"
             ]
            ],
            "type": "histogram2dcontour"
           }
          ],
          "mesh3d": [
           {
            "colorbar": {
             "outlinewidth": 0,
             "ticks": ""
            },
            "type": "mesh3d"
           }
          ],
          "parcoords": [
           {
            "line": {
             "colorbar": {
              "outlinewidth": 0,
              "ticks": ""
             }
            },
            "type": "parcoords"
           }
          ],
          "pie": [
           {
            "automargin": true,
            "type": "pie"
           }
          ],
          "scatter": [
           {
            "fillpattern": {
             "fillmode": "overlay",
             "size": 10,
             "solidity": 0.2
            },
            "type": "scatter"
           }
          ],
          "scatter3d": [
           {
            "line": {
             "colorbar": {
              "outlinewidth": 0,
              "ticks": ""
             }
            },
            "marker": {
             "colorbar": {
              "outlinewidth": 0,
              "ticks": ""
             }
            },
            "type": "scatter3d"
           }
          ],
          "scattercarpet": [
           {
            "marker": {
             "colorbar": {
              "outlinewidth": 0,
              "ticks": ""
             }
            },
            "type": "scattercarpet"
           }
          ],
          "scattergeo": [
           {
            "marker": {
             "colorbar": {
              "outlinewidth": 0,
              "ticks": ""
             }
            },
            "type": "scattergeo"
           }
          ],
          "scattergl": [
           {
            "marker": {
             "colorbar": {
              "outlinewidth": 0,
              "ticks": ""
             }
            },
            "type": "scattergl"
           }
          ],
          "scattermapbox": [
           {
            "marker": {
             "colorbar": {
              "outlinewidth": 0,
              "ticks": ""
             }
            },
            "type": "scattermapbox"
           }
          ],
          "scatterpolar": [
           {
            "marker": {
             "colorbar": {
              "outlinewidth": 0,
              "ticks": ""
             }
            },
            "type": "scatterpolar"
           }
          ],
          "scatterpolargl": [
           {
            "marker": {
             "colorbar": {
              "outlinewidth": 0,
              "ticks": ""
             }
            },
            "type": "scatterpolargl"
           }
          ],
          "scatterternary": [
           {
            "marker": {
             "colorbar": {
              "outlinewidth": 0,
              "ticks": ""
             }
            },
            "type": "scatterternary"
           }
          ],
          "surface": [
           {
            "colorbar": {
             "outlinewidth": 0,
             "ticks": ""
            },
            "colorscale": [
             [
              0,
              "#0d0887"
             ],
             [
              0.1111111111111111,
              "#46039f"
             ],
             [
              0.2222222222222222,
              "#7201a8"
             ],
             [
              0.3333333333333333,
              "#9c179e"
             ],
             [
              0.4444444444444444,
              "#bd3786"
             ],
             [
              0.5555555555555556,
              "#d8576b"
             ],
             [
              0.6666666666666666,
              "#ed7953"
             ],
             [
              0.7777777777777778,
              "#fb9f3a"
             ],
             [
              0.8888888888888888,
              "#fdca26"
             ],
             [
              1,
              "#f0f921"
             ]
            ],
            "type": "surface"
           }
          ],
          "table": [
           {
            "cells": {
             "fill": {
              "color": "#EBF0F8"
             },
             "line": {
              "color": "white"
             }
            },
            "header": {
             "fill": {
              "color": "#C8D4E3"
             },
             "line": {
              "color": "white"
             }
            },
            "type": "table"
           }
          ]
         },
         "layout": {
          "annotationdefaults": {
           "arrowcolor": "#2a3f5f",
           "arrowhead": 0,
           "arrowwidth": 1
          },
          "autotypenumbers": "strict",
          "coloraxis": {
           "colorbar": {
            "outlinewidth": 0,
            "ticks": ""
           }
          },
          "colorscale": {
           "diverging": [
            [
             0,
             "#8e0152"
            ],
            [
             0.1,
             "#c51b7d"
            ],
            [
             0.2,
             "#de77ae"
            ],
            [
             0.3,
             "#f1b6da"
            ],
            [
             0.4,
             "#fde0ef"
            ],
            [
             0.5,
             "#f7f7f7"
            ],
            [
             0.6,
             "#e6f5d0"
            ],
            [
             0.7,
             "#b8e186"
            ],
            [
             0.8,
             "#7fbc41"
            ],
            [
             0.9,
             "#4d9221"
            ],
            [
             1,
             "#276419"
            ]
           ],
           "sequential": [
            [
             0,
             "#0d0887"
            ],
            [
             0.1111111111111111,
             "#46039f"
            ],
            [
             0.2222222222222222,
             "#7201a8"
            ],
            [
             0.3333333333333333,
             "#9c179e"
            ],
            [
             0.4444444444444444,
             "#bd3786"
            ],
            [
             0.5555555555555556,
             "#d8576b"
            ],
            [
             0.6666666666666666,
             "#ed7953"
            ],
            [
             0.7777777777777778,
             "#fb9f3a"
            ],
            [
             0.8888888888888888,
             "#fdca26"
            ],
            [
             1,
             "#f0f921"
            ]
           ],
           "sequentialminus": [
            [
             0,
             "#0d0887"
            ],
            [
             0.1111111111111111,
             "#46039f"
            ],
            [
             0.2222222222222222,
             "#7201a8"
            ],
            [
             0.3333333333333333,
             "#9c179e"
            ],
            [
             0.4444444444444444,
             "#bd3786"
            ],
            [
             0.5555555555555556,
             "#d8576b"
            ],
            [
             0.6666666666666666,
             "#ed7953"
            ],
            [
             0.7777777777777778,
             "#fb9f3a"
            ],
            [
             0.8888888888888888,
             "#fdca26"
            ],
            [
             1,
             "#f0f921"
            ]
           ]
          },
          "colorway": [
           "#636efa",
           "#EF553B",
           "#00cc96",
           "#ab63fa",
           "#FFA15A",
           "#19d3f3",
           "#FF6692",
           "#B6E880",
           "#FF97FF",
           "#FECB52"
          ],
          "font": {
           "color": "#2a3f5f"
          },
          "geo": {
           "bgcolor": "white",
           "lakecolor": "white",
           "landcolor": "#E5ECF6",
           "showlakes": true,
           "showland": true,
           "subunitcolor": "white"
          },
          "hoverlabel": {
           "align": "left"
          },
          "hovermode": "closest",
          "mapbox": {
           "style": "light"
          },
          "paper_bgcolor": "white",
          "plot_bgcolor": "#E5ECF6",
          "polar": {
           "angularaxis": {
            "gridcolor": "white",
            "linecolor": "white",
            "ticks": ""
           },
           "bgcolor": "#E5ECF6",
           "radialaxis": {
            "gridcolor": "white",
            "linecolor": "white",
            "ticks": ""
           }
          },
          "scene": {
           "xaxis": {
            "backgroundcolor": "#E5ECF6",
            "gridcolor": "white",
            "gridwidth": 2,
            "linecolor": "white",
            "showbackground": true,
            "ticks": "",
            "zerolinecolor": "white"
           },
           "yaxis": {
            "backgroundcolor": "#E5ECF6",
            "gridcolor": "white",
            "gridwidth": 2,
            "linecolor": "white",
            "showbackground": true,
            "ticks": "",
            "zerolinecolor": "white"
           },
           "zaxis": {
            "backgroundcolor": "#E5ECF6",
            "gridcolor": "white",
            "gridwidth": 2,
            "linecolor": "white",
            "showbackground": true,
            "ticks": "",
            "zerolinecolor": "white"
           }
          },
          "shapedefaults": {
           "line": {
            "color": "#2a3f5f"
           }
          },
          "ternary": {
           "aaxis": {
            "gridcolor": "white",
            "linecolor": "white",
            "ticks": ""
           },
           "baxis": {
            "gridcolor": "white",
            "linecolor": "white",
            "ticks": ""
           },
           "bgcolor": "#E5ECF6",
           "caxis": {
            "gridcolor": "white",
            "linecolor": "white",
            "ticks": ""
           }
          },
          "title": {
           "x": 0.05
          },
          "xaxis": {
           "automargin": true,
           "gridcolor": "white",
           "linecolor": "white",
           "ticks": "",
           "title": {
            "standoff": 15
           },
           "zerolinecolor": "white",
           "zerolinewidth": 2
          },
          "yaxis": {
           "automargin": true,
           "gridcolor": "white",
           "linecolor": "white",
           "ticks": "",
           "title": {
            "standoff": 15
           },
           "zerolinecolor": "white",
           "zerolinewidth": 2
          }
         }
        },
        "title": {
         "text": "Highest Sugar Drink"
        }
       }
      },
      "text/html": [
       "<div>                            <div id=\"cff42b5d-a4dd-4c8b-a3dc-621d5e140f16\" class=\"plotly-graph-div\" style=\"height:525px; width:100%;\"></div>            <script type=\"text/javascript\">                require([\"plotly\"], function(Plotly) {                    window.PLOTLYENV=window.PLOTLYENV || {};                                    if (document.getElementById(\"cff42b5d-a4dd-4c8b-a3dc-621d5e140f16\")) {                    Plotly.newPlot(                        \"cff42b5d-a4dd-4c8b-a3dc-621d5e140f16\",                        [{\"domain\":{\"x\":[0.0,1.0],\"y\":[0.0,1.0]},\"hovertemplate\":\"Beverage=%{label}<br> Sugars (g)=%{value}<extra></extra>\",\"labels\":[\"Brewed Coffee\",\"Brewed Coffee\",\"Brewed Coffee\",\"Brewed Coffee\",\"Caff\\u00e8 Latte\",\"Caff\\u00e8 Latte\",\"Caff\\u00e8 Latte\",\"Caff\\u00e8 Latte\",\"Caff\\u00e8 Latte\",\"Caff\\u00e8 Latte\",\"Caff\\u00e8 Latte\",\"Caff\\u00e8 Latte\",\"Caff\\u00e8 Latte\",\"Caff\\u00e8 Latte\",\"Caff\\u00e8 Latte\",\"Caff\\u00e8 Latte\",\"Caff\\u00e8 Mocha (Without Whipped Cream)\",\"Caff\\u00e8 Mocha (Without Whipped Cream)\",\"Caff\\u00e8 Mocha (Without Whipped Cream)\",\"Caff\\u00e8 Mocha (Without Whipped Cream)\",\"Caff\\u00e8 Mocha (Without Whipped Cream)\",\"Caff\\u00e8 Mocha (Without Whipped Cream)\",\"Caff\\u00e8 Mocha (Without Whipped Cream)\",\"Caff\\u00e8 Mocha (Without Whipped Cream)\",\"Caff\\u00e8 Mocha (Without Whipped Cream)\",\"Caff\\u00e8 Mocha (Without Whipped Cream)\",\"Caff\\u00e8 Mocha (Without Whipped Cream)\",\"Caff\\u00e8 Mocha (Without Whipped Cream)\",\"Vanilla Latte (Or Other Flavoured Latte)\",\"Vanilla Latte (Or Other Flavoured Latte)\",\"Vanilla Latte (Or Other Flavoured Latte)\",\"Vanilla Latte (Or Other Flavoured Latte)\",\"Vanilla Latte (Or Other Flavoured Latte)\",\"Vanilla Latte (Or Other Flavoured Latte)\",\"Vanilla Latte (Or Other Flavoured Latte)\",\"Vanilla Latte (Or Other Flavoured Latte)\",\"Vanilla Latte (Or Other Flavoured Latte)\",\"Vanilla Latte (Or Other Flavoured Latte)\",\"Vanilla Latte (Or Other Flavoured Latte)\",\"Vanilla Latte (Or Other Flavoured Latte)\",\"Caff\\u00e8 Americano\",\"Caff\\u00e8 Americano\",\"Caff\\u00e8 Americano\",\"Caff\\u00e8 Americano\",\"Cappuccino\",\"Cappuccino\",\"Cappuccino\",\"Cappuccino\",\"Cappuccino\",\"Cappuccino\",\"Cappuccino\",\"Cappuccino\",\"Cappuccino\",\"Cappuccino\",\"Cappuccino\",\"Cappuccino\",\"Espresso\",\"Espresso\",\"Skinny Latte (Any Flavour)\",\"Skinny Latte (Any Flavour)\",\"Skinny Latte (Any Flavour)\",\"Skinny Latte (Any Flavour)\",\"Caramel Macchiato\",\"Caramel Macchiato\",\"Caramel Macchiato\",\"Caramel Macchiato\",\"Caramel Macchiato\",\"Caramel Macchiato\",\"Caramel Macchiato\",\"Caramel Macchiato\",\"Caramel Macchiato\",\"Caramel Macchiato\",\"Caramel Macchiato\",\"Caramel Macchiato\",\"White Chocolate Mocha (Without Whipped Cream)\",\"White Chocolate Mocha (Without Whipped Cream)\",\"White Chocolate Mocha (Without Whipped Cream)\",\"White Chocolate Mocha (Without Whipped Cream)\",\"White Chocolate Mocha (Without Whipped Cream)\",\"White Chocolate Mocha (Without Whipped Cream)\",\"White Chocolate Mocha (Without Whipped Cream)\",\"White Chocolate Mocha (Without Whipped Cream)\",\"White Chocolate Mocha (Without Whipped Cream)\",\"White Chocolate Mocha (Without Whipped Cream)\",\"White Chocolate Mocha (Without Whipped Cream)\",\"White Chocolate Mocha (Without Whipped Cream)\",\"Hot Chocolate (Without Whipped Cream)\",\"Hot Chocolate (Without Whipped Cream)\",\"Hot Chocolate (Without Whipped Cream)\",\"Hot Chocolate (Without Whipped Cream)\",\"Hot Chocolate (Without Whipped Cream)\",\"Hot Chocolate (Without Whipped Cream)\",\"Hot Chocolate (Without Whipped Cream)\",\"Hot Chocolate (Without Whipped Cream)\",\"Hot Chocolate (Without Whipped Cream)\",\"Hot Chocolate (Without Whipped Cream)\",\"Hot Chocolate (Without Whipped Cream)\",\"Hot Chocolate (Without Whipped Cream)\",\"Caramel Apple Spice (Without Whipped Cream)\",\"Caramel Apple Spice (Without Whipped Cream)\",\"Caramel Apple Spice (Without Whipped Cream)\",\"Caramel Apple Spice (Without Whipped Cream)\",\"Tazo\\u00ae Tea\",\"Tazo\\u00ae Tea\",\"Tazo\\u00ae Tea\",\"Tazo\\u00ae Tea\",\"Tazo\\u00ae Chai Tea Latte\",\"Tazo\\u00ae Chai Tea Latte\",\"Tazo\\u00ae Chai Tea Latte\",\"Tazo\\u00ae Chai Tea Latte\",\"Tazo\\u00ae Chai Tea Latte\",\"Tazo\\u00ae Chai Tea Latte\",\"Tazo\\u00ae Chai Tea Latte\",\"Tazo\\u00ae Chai Tea Latte\",\"Tazo\\u00ae Chai Tea Latte\",\"Tazo\\u00ae Chai Tea Latte\",\"Tazo\\u00ae Chai Tea Latte\",\"Tazo\\u00ae Chai Tea Latte\",\"Tazo\\u00ae Green Tea Latte\",\"Tazo\\u00ae Green Tea Latte\",\"Tazo\\u00ae Green Tea Latte\",\"Tazo\\u00ae Green Tea Latte\",\"Tazo\\u00ae Green Tea Latte\",\"Tazo\\u00ae Green Tea Latte\",\"Tazo\\u00ae Green Tea Latte\",\"Tazo\\u00ae Green Tea Latte\",\"Tazo\\u00ae Green Tea Latte\",\"Tazo\\u00ae Green Tea Latte\",\"Tazo\\u00ae Green Tea Latte\",\"Tazo\\u00ae Green Tea Latte\",\"Tazo\\u00ae Full-Leaf Tea Latte\",\"Tazo\\u00ae Full-Leaf Tea Latte\",\"Tazo\\u00ae Full-Leaf Tea Latte\",\"Tazo\\u00ae Full-Leaf Tea Latte\",\"Tazo\\u00ae Full-Leaf Tea Latte\",\"Tazo\\u00ae Full-Leaf Tea Latte\",\"Tazo\\u00ae Full-Leaf Tea Latte\",\"Tazo\\u00ae Full-Leaf Tea Latte\",\"Tazo\\u00ae Full-Leaf Tea Latte\",\"Tazo\\u00ae Full-Leaf Tea Latte\",\"Tazo\\u00ae Full-Leaf Tea Latte\",\"Tazo\\u00ae Full-Leaf Tea Latte\",\"Tazo\\u00ae Full-Leaf Red Tea Latte (Vanilla Rooibos)\",\"Tazo\\u00ae Full-Leaf Red Tea Latte (Vanilla Rooibos)\",\"Tazo\\u00ae Full-Leaf Red Tea Latte (Vanilla Rooibos)\",\"Tazo\\u00ae Full-Leaf Red Tea Latte (Vanilla Rooibos)\",\"Tazo\\u00ae Full-Leaf Red Tea Latte (Vanilla Rooibos)\",\"Tazo\\u00ae Full-Leaf Red Tea Latte (Vanilla Rooibos)\",\"Tazo\\u00ae Full-Leaf Red Tea Latte (Vanilla Rooibos)\",\"Tazo\\u00ae Full-Leaf Red Tea Latte (Vanilla Rooibos)\",\"Tazo\\u00ae Full-Leaf Red Tea Latte (Vanilla Rooibos)\",\"Tazo\\u00ae Full-Leaf Red Tea Latte (Vanilla Rooibos)\",\"Tazo\\u00ae Full-Leaf Red Tea Latte (Vanilla Rooibos)\",\"Tazo\\u00ae Full-Leaf Red Tea Latte (Vanilla Rooibos)\",\"Iced Brewed Coffee (With Classic Syrup)\",\"Iced Brewed Coffee (With Classic Syrup)\",\"Iced Brewed Coffee (With Classic Syrup)\",\"Iced Brewed Coffee (With Milk & Classic Syrup)\",\"Iced Brewed Coffee (With Milk & Classic Syrup)\",\"Iced Brewed Coffee (With Milk & Classic Syrup)\",\"Iced Brewed Coffee (With Milk & Classic Syrup)\",\"Iced Brewed Coffee (With Milk & Classic Syrup)\",\"Iced Brewed Coffee (With Milk & Classic Syrup)\",\"Iced Brewed Coffee (With Milk & Classic Syrup)\",\"Iced Brewed Coffee (With Milk & Classic Syrup)\",\"Iced Brewed Coffee (With Milk & Classic Syrup)\",\"Shaken Iced Tazo\\u00ae Tea (With Classic Syrup)\",\"Shaken Iced Tazo\\u00ae Tea (With Classic Syrup)\",\"Shaken Iced Tazo\\u00ae Tea (With Classic Syrup)\",\"Shaken Iced Tazo\\u00ae Tea Lemonade (With Classic Syrup)\",\"Shaken Iced Tazo\\u00ae Tea Lemonade (With Classic Syrup)\",\"Shaken Iced Tazo\\u00ae Tea Lemonade (With Classic Syrup)\",\"Banana Chocolate Smoothie\",\"Banana Chocolate Smoothie\",\"Banana Chocolate Smoothie\",\"Orange Mango Banana Smoothie\",\"Orange Mango Banana Smoothie\",\"Orange Mango Banana Smoothie\",\"Strawberry Banana Smoothie\",\"Strawberry Banana Smoothie\",\"Strawberry Banana Smoothie\",\"Coffee\",\"Coffee\",\"Coffee\",\"Coffee\",\"Coffee\",\"Coffee\",\"Coffee\",\"Coffee\",\"Coffee\",\"Mocha (Without Whipped Cream)\",\"Mocha (Without Whipped Cream)\",\"Mocha (Without Whipped Cream)\",\"Mocha (Without Whipped Cream)\",\"Mocha (Without Whipped Cream)\",\"Mocha (Without Whipped Cream)\",\"Mocha (Without Whipped Cream)\",\"Mocha (Without Whipped Cream)\",\"Mocha (Without Whipped Cream)\",\"Caramel (Without Whipped Cream)\",\"Caramel (Without Whipped Cream)\",\"Caramel (Without Whipped Cream)\",\"Caramel (Without Whipped Cream)\",\"Caramel (Without Whipped Cream)\",\"Caramel (Without Whipped Cream)\",\"Caramel (Without Whipped Cream)\",\"Caramel (Without Whipped Cream)\",\"Caramel (Without Whipped Cream)\",\"Java Chip (Without Whipped Cream)\",\"Java Chip (Without Whipped Cream)\",\"Java Chip (Without Whipped Cream)\",\"Java Chip (Without Whipped Cream)\",\"Java Chip (Without Whipped Cream)\",\"Java Chip (Without Whipped Cream)\",\"Java Chip (Without Whipped Cream)\",\"Java Chip (Without Whipped Cream)\",\"Java Chip (Without Whipped Cream)\",\"Coffee\",\"Coffee\",\"Coffee\",\"Mocha\",\"Mocha\",\"Mocha\",\"Caramel\",\"Caramel\",\"Caramel\",\"Java Chip\",\"Java Chip\",\"Java Chip\",\"Strawberries & Cr\\u00e8me (Without Whipped Cream)\",\"Strawberries & Cr\\u00e8me (Without Whipped Cream)\",\"Strawberries & Cr\\u00e8me (Without Whipped Cream)\",\"Strawberries & Cr\\u00e8me (Without Whipped Cream)\",\"Strawberries & Cr\\u00e8me (Without Whipped Cream)\",\"Strawberries & Cr\\u00e8me (Without Whipped Cream)\",\"Strawberries & Cr\\u00e8me (Without Whipped Cream)\",\"Strawberries & Cr\\u00e8me (Without Whipped Cream)\",\"Strawberries & Cr\\u00e8me (Without Whipped Cream)\",\"Vanilla Bean (Without Whipped Cream)\",\"Vanilla Bean (Without Whipped Cream)\",\"Vanilla Bean (Without Whipped Cream)\",\"Vanilla Bean (Without Whipped Cream)\"],\"legendgroup\":\"\",\"name\":\"\",\"showlegend\":true,\"values\":[0,0,0,0,9,9,4,14,14,6,18,17,8,23,22,11,17,17,13,27,26,20,34,34,26,44,43,33,18,17,13,27,27,20,35,35,26,45,44,33,0,0,0,0,7,7,3,8,8,4,10,10,5,14,14,7,0,0,8,13,16,21,15,15,11,24,23,17,32,32,24,41,40,31,29,29,25,45,44,39,58,58,51,74,74,64,23,22,18,32,32,25,41,41,32,55,54,44,33,49,65,83,0,0,0,0,21,21,18,32,32,28,43,42,37,54,53,46,25,25,20,41,40,33,56,55,46,71,71,58,16,15,13,23,23,19,31,30,25,39,38,32,16,15,13,23,23,19,31,30,25,39,38,32,15,21,31,18,18,17,24,24,22,36,36,33,15,21,31,24,33,49,34,34,31,37,37,36,41,41,40,36,36,34,50,50,47,69,69,66,40,40,38,58,58,55,76,76,73,41,41,39,59,59,56,77,77,73,44,44,42,62,62,60,84,84,80,19,26,33,23,30,42,23,32,43,27,39,52,38,37,35,52,52,49,69,68,64,38,38,35,55],\"type\":\"pie\"}],                        {\"template\":{\"data\":{\"histogram2dcontour\":[{\"type\":\"histogram2dcontour\",\"colorbar\":{\"outlinewidth\":0,\"ticks\":\"\"},\"colorscale\":[[0.0,\"#0d0887\"],[0.1111111111111111,\"#46039f\"],[0.2222222222222222,\"#7201a8\"],[0.3333333333333333,\"#9c179e\"],[0.4444444444444444,\"#bd3786\"],[0.5555555555555556,\"#d8576b\"],[0.6666666666666666,\"#ed7953\"],[0.7777777777777778,\"#fb9f3a\"],[0.8888888888888888,\"#fdca26\"],[1.0,\"#f0f921\"]]}],\"choropleth\":[{\"type\":\"choropleth\",\"colorbar\":{\"outlinewidth\":0,\"ticks\":\"\"}}],\"histogram2d\":[{\"type\":\"histogram2d\",\"colorbar\":{\"outlinewidth\":0,\"ticks\":\"\"},\"colorscale\":[[0.0,\"#0d0887\"],[0.1111111111111111,\"#46039f\"],[0.2222222222222222,\"#7201a8\"],[0.3333333333333333,\"#9c179e\"],[0.4444444444444444,\"#bd3786\"],[0.5555555555555556,\"#d8576b\"],[0.6666666666666666,\"#ed7953\"],[0.7777777777777778,\"#fb9f3a\"],[0.8888888888888888,\"#fdca26\"],[1.0,\"#f0f921\"]]}],\"heatmap\":[{\"type\":\"heatmap\",\"colorbar\":{\"outlinewidth\":0,\"ticks\":\"\"},\"colorscale\":[[0.0,\"#0d0887\"],[0.1111111111111111,\"#46039f\"],[0.2222222222222222,\"#7201a8\"],[0.3333333333333333,\"#9c179e\"],[0.4444444444444444,\"#bd3786\"],[0.5555555555555556,\"#d8576b\"],[0.6666666666666666,\"#ed7953\"],[0.7777777777777778,\"#fb9f3a\"],[0.8888888888888888,\"#fdca26\"],[1.0,\"#f0f921\"]]}],\"heatmapgl\":[{\"type\":\"heatmapgl\",\"colorbar\":{\"outlinewidth\":0,\"ticks\":\"\"},\"colorscale\":[[0.0,\"#0d0887\"],[0.1111111111111111,\"#46039f\"],[0.2222222222222222,\"#7201a8\"],[0.3333333333333333,\"#9c179e\"],[0.4444444444444444,\"#bd3786\"],[0.5555555555555556,\"#d8576b\"],[0.6666666666666666,\"#ed7953\"],[0.7777777777777778,\"#fb9f3a\"],[0.8888888888888888,\"#fdca26\"],[1.0,\"#f0f921\"]]}],\"contourcarpet\":[{\"type\":\"contourcarpet\",\"colorbar\":{\"outlinewidth\":0,\"ticks\":\"\"}}],\"contour\":[{\"type\":\"contour\",\"colorbar\":{\"outlinewidth\":0,\"ticks\":\"\"},\"colorscale\":[[0.0,\"#0d0887\"],[0.1111111111111111,\"#46039f\"],[0.2222222222222222,\"#7201a8\"],[0.3333333333333333,\"#9c179e\"],[0.4444444444444444,\"#bd3786\"],[0.5555555555555556,\"#d8576b\"],[0.6666666666666666,\"#ed7953\"],[0.7777777777777778,\"#fb9f3a\"],[0.8888888888888888,\"#fdca26\"],[1.0,\"#f0f921\"]]}],\"surface\":[{\"type\":\"surface\",\"colorbar\":{\"outlinewidth\":0,\"ticks\":\"\"},\"colorscale\":[[0.0,\"#0d0887\"],[0.1111111111111111,\"#46039f\"],[0.2222222222222222,\"#7201a8\"],[0.3333333333333333,\"#9c179e\"],[0.4444444444444444,\"#bd3786\"],[0.5555555555555556,\"#d8576b\"],[0.6666666666666666,\"#ed7953\"],[0.7777777777777778,\"#fb9f3a\"],[0.8888888888888888,\"#fdca26\"],[1.0,\"#f0f921\"]]}],\"mesh3d\":[{\"type\":\"mesh3d\",\"colorbar\":{\"outlinewidth\":0,\"ticks\":\"\"}}],\"scatter\":[{\"fillpattern\":{\"fillmode\":\"overlay\",\"size\":10,\"solidity\":0.2},\"type\":\"scatter\"}],\"parcoords\":[{\"type\":\"parcoords\",\"line\":{\"colorbar\":{\"outlinewidth\":0,\"ticks\":\"\"}}}],\"scatterpolargl\":[{\"type\":\"scatterpolargl\",\"marker\":{\"colorbar\":{\"outlinewidth\":0,\"ticks\":\"\"}}}],\"bar\":[{\"error_x\":{\"color\":\"#2a3f5f\"},\"error_y\":{\"color\":\"#2a3f5f\"},\"marker\":{\"line\":{\"color\":\"#E5ECF6\",\"width\":0.5},\"pattern\":{\"fillmode\":\"overlay\",\"size\":10,\"solidity\":0.2}},\"type\":\"bar\"}],\"scattergeo\":[{\"type\":\"scattergeo\",\"marker\":{\"colorbar\":{\"outlinewidth\":0,\"ticks\":\"\"}}}],\"scatterpolar\":[{\"type\":\"scatterpolar\",\"marker\":{\"colorbar\":{\"outlinewidth\":0,\"ticks\":\"\"}}}],\"histogram\":[{\"marker\":{\"pattern\":{\"fillmode\":\"overlay\",\"size\":10,\"solidity\":0.2}},\"type\":\"histogram\"}],\"scattergl\":[{\"type\":\"scattergl\",\"marker\":{\"colorbar\":{\"outlinewidth\":0,\"ticks\":\"\"}}}],\"scatter3d\":[{\"type\":\"scatter3d\",\"line\":{\"colorbar\":{\"outlinewidth\":0,\"ticks\":\"\"}},\"marker\":{\"colorbar\":{\"outlinewidth\":0,\"ticks\":\"\"}}}],\"scattermapbox\":[{\"type\":\"scattermapbox\",\"marker\":{\"colorbar\":{\"outlinewidth\":0,\"ticks\":\"\"}}}],\"scatterternary\":[{\"type\":\"scatterternary\",\"marker\":{\"colorbar\":{\"outlinewidth\":0,\"ticks\":\"\"}}}],\"scattercarpet\":[{\"type\":\"scattercarpet\",\"marker\":{\"colorbar\":{\"outlinewidth\":0,\"ticks\":\"\"}}}],\"carpet\":[{\"aaxis\":{\"endlinecolor\":\"#2a3f5f\",\"gridcolor\":\"white\",\"linecolor\":\"white\",\"minorgridcolor\":\"white\",\"startlinecolor\":\"#2a3f5f\"},\"baxis\":{\"endlinecolor\":\"#2a3f5f\",\"gridcolor\":\"white\",\"linecolor\":\"white\",\"minorgridcolor\":\"white\",\"startlinecolor\":\"#2a3f5f\"},\"type\":\"carpet\"}],\"table\":[{\"cells\":{\"fill\":{\"color\":\"#EBF0F8\"},\"line\":{\"color\":\"white\"}},\"header\":{\"fill\":{\"color\":\"#C8D4E3\"},\"line\":{\"color\":\"white\"}},\"type\":\"table\"}],\"barpolar\":[{\"marker\":{\"line\":{\"color\":\"#E5ECF6\",\"width\":0.5},\"pattern\":{\"fillmode\":\"overlay\",\"size\":10,\"solidity\":0.2}},\"type\":\"barpolar\"}],\"pie\":[{\"automargin\":true,\"type\":\"pie\"}]},\"layout\":{\"autotypenumbers\":\"strict\",\"colorway\":[\"#636efa\",\"#EF553B\",\"#00cc96\",\"#ab63fa\",\"#FFA15A\",\"#19d3f3\",\"#FF6692\",\"#B6E880\",\"#FF97FF\",\"#FECB52\"],\"font\":{\"color\":\"#2a3f5f\"},\"hovermode\":\"closest\",\"hoverlabel\":{\"align\":\"left\"},\"paper_bgcolor\":\"white\",\"plot_bgcolor\":\"#E5ECF6\",\"polar\":{\"bgcolor\":\"#E5ECF6\",\"angularaxis\":{\"gridcolor\":\"white\",\"linecolor\":\"white\",\"ticks\":\"\"},\"radialaxis\":{\"gridcolor\":\"white\",\"linecolor\":\"white\",\"ticks\":\"\"}},\"ternary\":{\"bgcolor\":\"#E5ECF6\",\"aaxis\":{\"gridcolor\":\"white\",\"linecolor\":\"white\",\"ticks\":\"\"},\"baxis\":{\"gridcolor\":\"white\",\"linecolor\":\"white\",\"ticks\":\"\"},\"caxis\":{\"gridcolor\":\"white\",\"linecolor\":\"white\",\"ticks\":\"\"}},\"coloraxis\":{\"colorbar\":{\"outlinewidth\":0,\"ticks\":\"\"}},\"colorscale\":{\"sequential\":[[0.0,\"#0d0887\"],[0.1111111111111111,\"#46039f\"],[0.2222222222222222,\"#7201a8\"],[0.3333333333333333,\"#9c179e\"],[0.4444444444444444,\"#bd3786\"],[0.5555555555555556,\"#d8576b\"],[0.6666666666666666,\"#ed7953\"],[0.7777777777777778,\"#fb9f3a\"],[0.8888888888888888,\"#fdca26\"],[1.0,\"#f0f921\"]],\"sequentialminus\":[[0.0,\"#0d0887\"],[0.1111111111111111,\"#46039f\"],[0.2222222222222222,\"#7201a8\"],[0.3333333333333333,\"#9c179e\"],[0.4444444444444444,\"#bd3786\"],[0.5555555555555556,\"#d8576b\"],[0.6666666666666666,\"#ed7953\"],[0.7777777777777778,\"#fb9f3a\"],[0.8888888888888888,\"#fdca26\"],[1.0,\"#f0f921\"]],\"diverging\":[[0,\"#8e0152\"],[0.1,\"#c51b7d\"],[0.2,\"#de77ae\"],[0.3,\"#f1b6da\"],[0.4,\"#fde0ef\"],[0.5,\"#f7f7f7\"],[0.6,\"#e6f5d0\"],[0.7,\"#b8e186\"],[0.8,\"#7fbc41\"],[0.9,\"#4d9221\"],[1,\"#276419\"]]},\"xaxis\":{\"gridcolor\":\"white\",\"linecolor\":\"white\",\"ticks\":\"\",\"title\":{\"standoff\":15},\"zerolinecolor\":\"white\",\"automargin\":true,\"zerolinewidth\":2},\"yaxis\":{\"gridcolor\":\"white\",\"linecolor\":\"white\",\"ticks\":\"\",\"title\":{\"standoff\":15},\"zerolinecolor\":\"white\",\"automargin\":true,\"zerolinewidth\":2},\"scene\":{\"xaxis\":{\"backgroundcolor\":\"#E5ECF6\",\"gridcolor\":\"white\",\"linecolor\":\"white\",\"showbackground\":true,\"ticks\":\"\",\"zerolinecolor\":\"white\",\"gridwidth\":2},\"yaxis\":{\"backgroundcolor\":\"#E5ECF6\",\"gridcolor\":\"white\",\"linecolor\":\"white\",\"showbackground\":true,\"ticks\":\"\",\"zerolinecolor\":\"white\",\"gridwidth\":2},\"zaxis\":{\"backgroundcolor\":\"#E5ECF6\",\"gridcolor\":\"white\",\"linecolor\":\"white\",\"showbackground\":true,\"ticks\":\"\",\"zerolinecolor\":\"white\",\"gridwidth\":2}},\"shapedefaults\":{\"line\":{\"color\":\"#2a3f5f\"}},\"annotationdefaults\":{\"arrowcolor\":\"#2a3f5f\",\"arrowhead\":0,\"arrowwidth\":1},\"geo\":{\"bgcolor\":\"white\",\"landcolor\":\"#E5ECF6\",\"subunitcolor\":\"white\",\"showland\":true,\"showlakes\":true,\"lakecolor\":\"white\"},\"title\":{\"x\":0.05},\"mapbox\":{\"style\":\"light\"}}},\"legend\":{\"tracegroupgap\":0},\"title\":{\"text\":\"Highest Sugar Drink\"}},                        {\"responsive\": true}                    ).then(function(){\n",
       "                            \n",
       "var gd = document.getElementById('cff42b5d-a4dd-4c8b-a3dc-621d5e140f16');\n",
       "var x = new MutationObserver(function (mutations, observer) {{\n",
       "        var display = window.getComputedStyle(gd).display;\n",
       "        if (!display || display === 'none') {{\n",
       "            console.log([gd, 'removed!']);\n",
       "            Plotly.purge(gd);\n",
       "            observer.disconnect();\n",
       "        }}\n",
       "}});\n",
       "\n",
       "// Listen for the removal of the full notebook cells\n",
       "var notebookContainer = gd.closest('#notebook-container');\n",
       "if (notebookContainer) {{\n",
       "    x.observe(notebookContainer, {childList: true});\n",
       "}}\n",
       "\n",
       "// Listen for the clearing of the current output cell\n",
       "var outputEl = gd.closest('.output');\n",
       "if (outputEl) {{\n",
       "    x.observe(outputEl, {childList: true});\n",
       "}}\n",
       "\n",
       "                        })                };                });            </script>        </div>"
      ]
     },
     "metadata": {},
     "output_type": "display_data"
    }
   ],
   "source": [
    "fig = px.pie(df, values=' Sugars (g)', names='Beverage', title='Highest Sugar Drink')\n",
    "fig.show()"
   ]
  },
  {
   "cell_type": "code",
   "execution_count": null,
   "id": "10be4311",
   "metadata": {},
   "outputs": [],
   "source": []
  }
 ],
 "metadata": {
  "kernelspec": {
   "display_name": "Python 3 (ipykernel)",
   "language": "python",
   "name": "python3"
  },
  "language_info": {
   "codemirror_mode": {
    "name": "ipython",
    "version": 3
   },
   "file_extension": ".py",
   "mimetype": "text/x-python",
   "name": "python",
   "nbconvert_exporter": "python",
   "pygments_lexer": "ipython3",
   "version": "3.9.7"
  }
 },
 "nbformat": 4,
 "nbformat_minor": 5
}
